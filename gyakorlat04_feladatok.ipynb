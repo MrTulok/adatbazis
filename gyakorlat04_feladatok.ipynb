{
    "metadata": {
        "kernelspec": {
            "name": "SQL",
            "display_name": "SQL",
            "language": "sql"
        },
        "language_info": {
            "name": "sql",
            "version": ""
        }
    },
    "nbformat_minor": 2,
    "nbformat": 4,
    "cells": [
        {
            "cell_type": "markdown",
            "source": [
                "1. <span style=\"background-color: rgb(255, 255, 255); color: rgb(0, 0, 0); font-family: &quot;Open Sans&quot;, sans-serif; font-size: 14.44px;\">Készítsünk listát arról, hogy ügyfelenként (LOGIN), azon belül szállítási módonként hány megrendelés történt!&nbsp;</span> \n",
                "\n",
                "a. A lista tartalmazza a részösszegeket és a végösszeget is!  \n",
                "b. Használjuk a ROLLUP záradékot!"
            ],
            "metadata": {
                "azdata_cell_guid": "363cd270-6577-449b-9c89-d4b7c7972d52"
            },
            "attachments": {}
        },
        {
            "cell_type": "code",
            "source": [
                "SELECT IIF(GROUPING_ID(LOGIN) = 0,login,'Végösszeg'),\r\n",
                "    CASE GROUPING_ID(LOGIN,SZALL_MOD)\r\n",
                "        when 0 then SZALL_MOD\r\n",
                "        when 1 then 'Részösszeg'\r\n",
                "        else 'Végösszeg'\r\n",
                "    END,\r\n",
                "    COUNT(*)\r\n",
                "FROM Rendeles\r\n",
                "GROUP BY ROLLUP(LOGIN, SZALL_MOD)"
            ],
            "metadata": {
                "azdata_cell_guid": "6ab9f633-a3b5-48c9-a1dc-4fb8235ae85b",
                "language": "sql",
                "tags": []
            },
            "outputs": [
                {
                    "output_type": "display_data",
                    "data": {
                        "text/html": "(763 rows affected)"
                    },
                    "metadata": {}
                },
                {
                    "output_type": "display_data",
                    "data": {
                        "text/html": "Total execution time: 00:00:00.092"
                    },
                    "metadata": {}
                },
                {
                    "output_type": "execute_result",
                    "metadata": {},
                    "execution_count": 1,
                    "data": {
                        "application/vnd.dataresource+json": {
                            "schema": {
                                "fields": [
                                    {
                                        "name": "(No column name)"
                                    },
                                    {
                                        "name": "(No column name)"
                                    },
                                    {
                                        "name": "(No column name)"
                                    }
                                ]
                            },
                            "data": [
                                {
                                    "(No column name)": "129"
                                },
                                {
                                    "(No column name)": "132"
                                },
                                {
                                    "(No column name)": "131"
                                },
                                {
                                    "(No column name)": "392"
                                },
                                {
                                    "(No column name)": "10"
                                },
                                {
                                    "(No column name)": "3"
                                },
                                {
                                    "(No column name)": "2"
                                },
                                {
                                    "(No column name)": "15"
                                },
                                {
                                    "(No column name)": "12"
                                },
                                {
                                    "(No column name)": "6"
                                },
                                {
                                    "(No column name)": "11"
                                },
                                {
                                    "(No column name)": "29"
                                },
                                {
                                    "(No column name)": "144"
                                },
                                {
                                    "(No column name)": "130"
                                },
                                {
                                    "(No column name)": "144"
                                },
                                {
                                    "(No column name)": "418"
                                },
                                {
                                    "(No column name)": "148"
                                },
                                {
                                    "(No column name)": "146"
                                },
                                {
                                    "(No column name)": "136"
                                },
                                {
                                    "(No column name)": "430"
                                },
                                {
                                    "(No column name)": "2"
                                },
                                {
                                    "(No column name)": "3"
                                },
                                {
                                    "(No column name)": "6"
                                },
                                {
                                    "(No column name)": "11"
                                },
                                {
                                    "(No column name)": "1"
                                },
                                {
                                    "(No column name)": "7"
                                },
                                {
                                    "(No column name)": "7"
                                },
                                {
                                    "(No column name)": "15"
                                },
                                {
                                    "(No column name)": "146"
                                },
                                {
                                    "(No column name)": "143"
                                },
                                {
                                    "(No column name)": "140"
                                },
                                {
                                    "(No column name)": "429"
                                },
                                {
                                    "(No column name)": "156"
                                },
                                {
                                    "(No column name)": "134"
                                },
                                {
                                    "(No column name)": "118"
                                },
                                {
                                    "(No column name)": "408"
                                },
                                {
                                    "(No column name)": "5"
                                },
                                {
                                    "(No column name)": "9"
                                },
                                {
                                    "(No column name)": "5"
                                },
                                {
                                    "(No column name)": "19"
                                },
                                {
                                    "(No column name)": "7"
                                },
                                {
                                    "(No column name)": "4"
                                },
                                {
                                    "(No column name)": "7"
                                },
                                {
                                    "(No column name)": "18"
                                },
                                {
                                    "(No column name)": "4"
                                },
                                {
                                    "(No column name)": "7"
                                },
                                {
                                    "(No column name)": "11"
                                },
                                {
                                    "(No column name)": "22"
                                },
                                {
                                    "(No column name)": "140"
                                },
                                {
                                    "(No column name)": "124"
                                },
                                {
                                    "(No column name)": "126"
                                },
                                {
                                    "(No column name)": "390"
                                },
                                {
                                    "(No column name)": "3"
                                },
                                {
                                    "(No column name)": "1"
                                },
                                {
                                    "(No column name)": "5"
                                },
                                {
                                    "(No column name)": "9"
                                },
                                {
                                    "(No column name)": "4"
                                },
                                {
                                    "(No column name)": "4"
                                },
                                {
                                    "(No column name)": "4"
                                },
                                {
                                    "(No column name)": "12"
                                },
                                {
                                    "(No column name)": "149"
                                },
                                {
                                    "(No column name)": "137"
                                },
                                {
                                    "(No column name)": "133"
                                },
                                {
                                    "(No column name)": "419"
                                },
                                {
                                    "(No column name)": "159"
                                },
                                {
                                    "(No column name)": "141"
                                },
                                {
                                    "(No column name)": "136"
                                },
                                {
                                    "(No column name)": "436"
                                },
                                {
                                    "(No column name)": "10"
                                },
                                {
                                    "(No column name)": "9"
                                },
                                {
                                    "(No column name)": "5"
                                },
                                {
                                    "(No column name)": "24"
                                },
                                {
                                    "(No column name)": "12"
                                },
                                {
                                    "(No column name)": "4"
                                },
                                {
                                    "(No column name)": "8"
                                },
                                {
                                    "(No column name)": "24"
                                },
                                {
                                    "(No column name)": "131"
                                },
                                {
                                    "(No column name)": "136"
                                },
                                {
                                    "(No column name)": "146"
                                },
                                {
                                    "(No column name)": "413"
                                },
                                {
                                    "(No column name)": "7"
                                },
                                {
                                    "(No column name)": "4"
                                },
                                {
                                    "(No column name)": "7"
                                },
                                {
                                    "(No column name)": "18"
                                },
                                {
                                    "(No column name)": "3"
                                },
                                {
                                    "(No column name)": "6"
                                },
                                {
                                    "(No column name)": "12"
                                },
                                {
                                    "(No column name)": "21"
                                },
                                {
                                    "(No column name)": "3"
                                },
                                {
                                    "(No column name)": "6"
                                },
                                {
                                    "(No column name)": "9"
                                },
                                {
                                    "(No column name)": "18"
                                },
                                {
                                    "(No column name)": "128"
                                },
                                {
                                    "(No column name)": "137"
                                },
                                {
                                    "(No column name)": "138"
                                },
                                {
                                    "(No column name)": "403"
                                },
                                {
                                    "(No column name)": "6"
                                },
                                {
                                    "(No column name)": "6"
                                },
                                {
                                    "(No column name)": "3"
                                },
                                {
                                    "(No column name)": "15"
                                },
                                {
                                    "(No column name)": "128"
                                },
                                {
                                    "(No column name)": "126"
                                },
                                {
                                    "(No column name)": "150"
                                },
                                {
                                    "(No column name)": "404"
                                },
                                {
                                    "(No column name)": "5"
                                },
                                {
                                    "(No column name)": "2"
                                },
                                {
                                    "(No column name)": "5"
                                },
                                {
                                    "(No column name)": "12"
                                },
                                {
                                    "(No column name)": "5"
                                },
                                {
                                    "(No column name)": "4"
                                },
                                {
                                    "(No column name)": "7"
                                },
                                {
                                    "(No column name)": "16"
                                },
                                {
                                    "(No column name)": "8"
                                },
                                {
                                    "(No column name)": "2"
                                },
                                {
                                    "(No column name)": "3"
                                },
                                {
                                    "(No column name)": "13"
                                },
                                {
                                    "(No column name)": "132"
                                },
                                {
                                    "(No column name)": "133"
                                },
                                {
                                    "(No column name)": "144"
                                },
                                {
                                    "(No column name)": "409"
                                },
                                {
                                    "(No column name)": "155"
                                },
                                {
                                    "(No column name)": "120"
                                },
                                {
                                    "(No column name)": "155"
                                },
                                {
                                    "(No column name)": "430"
                                },
                                {
                                    "(No column name)": "6"
                                },
                                {
                                    "(No column name)": "1"
                                },
                                {
                                    "(No column name)": "10"
                                },
                                {
                                    "(No column name)": "17"
                                },
                                {
                                    "(No column name)": "6"
                                },
                                {
                                    "(No column name)": "3"
                                },
                                {
                                    "(No column name)": "5"
                                },
                                {
                                    "(No column name)": "14"
                                },
                                {
                                    "(No column name)": "6"
                                },
                                {
                                    "(No column name)": "3"
                                },
                                {
                                    "(No column name)": "7"
                                },
                                {
                                    "(No column name)": "16"
                                },
                                {
                                    "(No column name)": "5"
                                },
                                {
                                    "(No column name)": "7"
                                },
                                {
                                    "(No column name)": "6"
                                },
                                {
                                    "(No column name)": "18"
                                },
                                {
                                    "(No column name)": "135"
                                },
                                {
                                    "(No column name)": "125"
                                },
                                {
                                    "(No column name)": "141"
                                },
                                {
                                    "(No column name)": "401"
                                },
                                {
                                    "(No column name)": "4"
                                },
                                {
                                    "(No column name)": "4"
                                },
                                {
                                    "(No column name)": "6"
                                },
                                {
                                    "(No column name)": "14"
                                },
                                {
                                    "(No column name)": "128"
                                },
                                {
                                    "(No column name)": "136"
                                },
                                {
                                    "(No column name)": "155"
                                },
                                {
                                    "(No column name)": "419"
                                },
                                {
                                    "(No column name)": "5"
                                },
                                {
                                    "(No column name)": "7"
                                },
                                {
                                    "(No column name)": "5"
                                },
                                {
                                    "(No column name)": "17"
                                },
                                {
                                    "(No column name)": "6"
                                },
                                {
                                    "(No column name)": "6"
                                },
                                {
                                    "(No column name)": "3"
                                },
                                {
                                    "(No column name)": "15"
                                },
                                {
                                    "(No column name)": "10"
                                },
                                {
                                    "(No column name)": "4"
                                },
                                {
                                    "(No column name)": "2"
                                },
                                {
                                    "(No column name)": "16"
                                },
                                {
                                    "(No column name)": "158"
                                },
                                {
                                    "(No column name)": "152"
                                },
                                {
                                    "(No column name)": "152"
                                },
                                {
                                    "(No column name)": "462"
                                },
                                {
                                    "(No column name)": "8"
                                },
                                {
                                    "(No column name)": "6"
                                },
                                {
                                    "(No column name)": "3"
                                },
                                {
                                    "(No column name)": "17"
                                },
                                {
                                    "(No column name)": "127"
                                },
                                {
                                    "(No column name)": "137"
                                },
                                {
                                    "(No column name)": "123"
                                },
                                {
                                    "(No column name)": "387"
                                },
                                {
                                    "(No column name)": "135"
                                },
                                {
                                    "(No column name)": "155"
                                },
                                {
                                    "(No column name)": "145"
                                },
                                {
                                    "(No column name)": "435"
                                },
                                {
                                    "(No column name)": "146"
                                },
                                {
                                    "(No column name)": "141"
                                },
                                {
                                    "(No column name)": "133"
                                },
                                {
                                    "(No column name)": "420"
                                },
                                {
                                    "(No column name)": "11"
                                },
                                {
                                    "(No column name)": "2"
                                },
                                {
                                    "(No column name)": "5"
                                },
                                {
                                    "(No column name)": "18"
                                },
                                {
                                    "(No column name)": "4"
                                },
                                {
                                    "(No column name)": "6"
                                },
                                {
                                    "(No column name)": "8"
                                },
                                {
                                    "(No column name)": "18"
                                },
                                {
                                    "(No column name)": "5"
                                },
                                {
                                    "(No column name)": "7"
                                },
                                {
                                    "(No column name)": "5"
                                },
                                {
                                    "(No column name)": "17"
                                },
                                {
                                    "(No column name)": "10"
                                },
                                {
                                    "(No column name)": "5"
                                },
                                {
                                    "(No column name)": "5"
                                },
                                {
                                    "(No column name)": "20"
                                },
                                {
                                    "(No column name)": "6"
                                },
                                {
                                    "(No column name)": "2"
                                },
                                {
                                    "(No column name)": "7"
                                },
                                {
                                    "(No column name)": "15"
                                },
                                {
                                    "(No column name)": "7"
                                },
                                {
                                    "(No column name)": "2"
                                },
                                {
                                    "(No column name)": "7"
                                },
                                {
                                    "(No column name)": "16"
                                },
                                {
                                    "(No column name)": "128"
                                },
                                {
                                    "(No column name)": "124"
                                },
                                {
                                    "(No column name)": "101"
                                },
                                {
                                    "(No column name)": "353"
                                },
                                {
                                    "(No column name)": "137"
                                },
                                {
                                    "(No column name)": "137"
                                },
                                {
                                    "(No column name)": "119"
                                },
                                {
                                    "(No column name)": "393"
                                },
                                {
                                    "(No column name)": "144"
                                },
                                {
                                    "(No column name)": "130"
                                },
                                {
                                    "(No column name)": "139"
                                },
                                {
                                    "(No column name)": "413"
                                },
                                {
                                    "(No column name)": "5"
                                },
                                {
                                    "(No column name)": "2"
                                },
                                {
                                    "(No column name)": "8"
                                },
                                {
                                    "(No column name)": "15"
                                },
                                {
                                    "(No column name)": "5"
                                },
                                {
                                    "(No column name)": "8"
                                },
                                {
                                    "(No column name)": "13"
                                },
                                {
                                    "(No column name)": "7"
                                },
                                {
                                    "(No column name)": "2"
                                },
                                {
                                    "(No column name)": "4"
                                },
                                {
                                    "(No column name)": "13"
                                },
                                {
                                    "(No column name)": "156"
                                },
                                {
                                    "(No column name)": "131"
                                },
                                {
                                    "(No column name)": "132"
                                },
                                {
                                    "(No column name)": "419"
                                },
                                {
                                    "(No column name)": "161"
                                },
                                {
                                    "(No column name)": "144"
                                },
                                {
                                    "(No column name)": "146"
                                },
                                {
                                    "(No column name)": "451"
                                },
                                {
                                    "(No column name)": "8"
                                },
                                {
                                    "(No column name)": "1"
                                },
                                {
                                    "(No column name)": "8"
                                },
                                {
                                    "(No column name)": "17"
                                },
                                {
                                    "(No column name)": "3"
                                },
                                {
                                    "(No column name)": "8"
                                },
                                {
                                    "(No column name)": "10"
                                },
                                {
                                    "(No column name)": "21"
                                },
                                {
                                    "(No column name)": "7"
                                },
                                {
                                    "(No column name)": "6"
                                },
                                {
                                    "(No column name)": "3"
                                },
                                {
                                    "(No column name)": "16"
                                },
                                {
                                    "(No column name)": "3"
                                },
                                {
                                    "(No column name)": "2"
                                },
                                {
                                    "(No column name)": "4"
                                },
                                {
                                    "(No column name)": "9"
                                },
                                {
                                    "(No column name)": "144"
                                },
                                {
                                    "(No column name)": "124"
                                },
                                {
                                    "(No column name)": "164"
                                },
                                {
                                    "(No column name)": "432"
                                },
                                {
                                    "(No column name)": "7"
                                },
                                {
                                    "(No column name)": "2"
                                },
                                {
                                    "(No column name)": "4"
                                },
                                {
                                    "(No column name)": "13"
                                },
                                {
                                    "(No column name)": "128"
                                },
                                {
                                    "(No column name)": "136"
                                },
                                {
                                    "(No column name)": "142"
                                },
                                {
                                    "(No column name)": "406"
                                },
                                {
                                    "(No column name)": "127"
                                },
                                {
                                    "(No column name)": "136"
                                },
                                {
                                    "(No column name)": "152"
                                },
                                {
                                    "(No column name)": "415"
                                },
                                {
                                    "(No column name)": "141"
                                },
                                {
                                    "(No column name)": "134"
                                },
                                {
                                    "(No column name)": "149"
                                },
                                {
                                    "(No column name)": "424"
                                },
                                {
                                    "(No column name)": "6"
                                },
                                {
                                    "(No column name)": "9"
                                },
                                {
                                    "(No column name)": "7"
                                },
                                {
                                    "(No column name)": "22"
                                },
                                {
                                    "(No column name)": "125"
                                },
                                {
                                    "(No column name)": "140"
                                },
                                {
                                    "(No column name)": "139"
                                },
                                {
                                    "(No column name)": "404"
                                },
                                {
                                    "(No column name)": "154"
                                },
                                {
                                    "(No column name)": "138"
                                },
                                {
                                    "(No column name)": "170"
                                },
                                {
                                    "(No column name)": "462"
                                },
                                {
                                    "(No column name)": "2"
                                },
                                {
                                    "(No column name)": "1"
                                },
                                {
                                    "(No column name)": "4"
                                },
                                {
                                    "(No column name)": "7"
                                },
                                {
                                    "(No column name)": "144"
                                },
                                {
                                    "(No column name)": "158"
                                },
                                {
                                    "(No column name)": "135"
                                },
                                {
                                    "(No column name)": "437"
                                },
                                {
                                    "(No column name)": "8"
                                },
                                {
                                    "(No column name)": "3"
                                },
                                {
                                    "(No column name)": "7"
                                },
                                {
                                    "(No column name)": "18"
                                },
                                {
                                    "(No column name)": "9"
                                },
                                {
                                    "(No column name)": "5"
                                },
                                {
                                    "(No column name)": "5"
                                },
                                {
                                    "(No column name)": "19"
                                },
                                {
                                    "(No column name)": "7"
                                },
                                {
                                    "(No column name)": "9"
                                },
                                {
                                    "(No column name)": "4"
                                },
                                {
                                    "(No column name)": "20"
                                },
                                {
                                    "(No column name)": "5"
                                },
                                {
                                    "(No column name)": "6"
                                },
                                {
                                    "(No column name)": "4"
                                },
                                {
                                    "(No column name)": "15"
                                },
                                {
                                    "(No column name)": "5"
                                },
                                {
                                    "(No column name)": "4"
                                },
                                {
                                    "(No column name)": "5"
                                },
                                {
                                    "(No column name)": "14"
                                },
                                {
                                    "(No column name)": "4"
                                },
                                {
                                    "(No column name)": "5"
                                },
                                {
                                    "(No column name)": "7"
                                },
                                {
                                    "(No column name)": "16"
                                },
                                {
                                    "(No column name)": "9"
                                },
                                {
                                    "(No column name)": "2"
                                },
                                {
                                    "(No column name)": "10"
                                },
                                {
                                    "(No column name)": "21"
                                },
                                {
                                    "(No column name)": "5"
                                },
                                {
                                    "(No column name)": "4"
                                },
                                {
                                    "(No column name)": "5"
                                },
                                {
                                    "(No column name)": "14"
                                },
                                {
                                    "(No column name)": "6"
                                },
                                {
                                    "(No column name)": "6"
                                },
                                {
                                    "(No column name)": "3"
                                },
                                {
                                    "(No column name)": "15"
                                },
                                {
                                    "(No column name)": "7"
                                },
                                {
                                    "(No column name)": "4"
                                },
                                {
                                    "(No column name)": "5"
                                },
                                {
                                    "(No column name)": "16"
                                },
                                {
                                    "(No column name)": "7"
                                },
                                {
                                    "(No column name)": "4"
                                },
                                {
                                    "(No column name)": "5"
                                },
                                {
                                    "(No column name)": "16"
                                },
                                {
                                    "(No column name)": "140"
                                },
                                {
                                    "(No column name)": "125"
                                },
                                {
                                    "(No column name)": "157"
                                },
                                {
                                    "(No column name)": "422"
                                },
                                {
                                    "(No column name)": "9"
                                },
                                {
                                    "(No column name)": "2"
                                },
                                {
                                    "(No column name)": "7"
                                },
                                {
                                    "(No column name)": "18"
                                },
                                {
                                    "(No column name)": "5"
                                },
                                {
                                    "(No column name)": "4"
                                },
                                {
                                    "(No column name)": "6"
                                },
                                {
                                    "(No column name)": "15"
                                },
                                {
                                    "(No column name)": "8"
                                },
                                {
                                    "(No column name)": "4"
                                },
                                {
                                    "(No column name)": "3"
                                },
                                {
                                    "(No column name)": "15"
                                },
                                {
                                    "(No column name)": "3"
                                },
                                {
                                    "(No column name)": "4"
                                },
                                {
                                    "(No column name)": "4"
                                },
                                {
                                    "(No column name)": "11"
                                },
                                {
                                    "(No column name)": "8"
                                },
                                {
                                    "(No column name)": "4"
                                },
                                {
                                    "(No column name)": "7"
                                },
                                {
                                    "(No column name)": "19"
                                },
                                {
                                    "(No column name)": "4"
                                },
                                {
                                    "(No column name)": "9"
                                },
                                {
                                    "(No column name)": "8"
                                },
                                {
                                    "(No column name)": "21"
                                },
                                {
                                    "(No column name)": "5"
                                },
                                {
                                    "(No column name)": "2"
                                },
                                {
                                    "(No column name)": "6"
                                },
                                {
                                    "(No column name)": "13"
                                },
                                {
                                    "(No column name)": "3"
                                },
                                {
                                    "(No column name)": "3"
                                },
                                {
                                    "(No column name)": "4"
                                },
                                {
                                    "(No column name)": "10"
                                },
                                {
                                    "(No column name)": "7"
                                },
                                {
                                    "(No column name)": "7"
                                },
                                {
                                    "(No column name)": "3"
                                },
                                {
                                    "(No column name)": "17"
                                },
                                {
                                    "(No column name)": "116"
                                },
                                {
                                    "(No column name)": "132"
                                },
                                {
                                    "(No column name)": "134"
                                },
                                {
                                    "(No column name)": "382"
                                },
                                {
                                    "(No column name)": "7"
                                },
                                {
                                    "(No column name)": "2"
                                },
                                {
                                    "(No column name)": "4"
                                },
                                {
                                    "(No column name)": "13"
                                },
                                {
                                    "(No column name)": "11"
                                },
                                {
                                    "(No column name)": "1"
                                },
                                {
                                    "(No column name)": "9"
                                },
                                {
                                    "(No column name)": "21"
                                },
                                {
                                    "(No column name)": "170"
                                },
                                {
                                    "(No column name)": "130"
                                },
                                {
                                    "(No column name)": "150"
                                },
                                {
                                    "(No column name)": "450"
                                },
                                {
                                    "(No column name)": "137"
                                },
                                {
                                    "(No column name)": "160"
                                },
                                {
                                    "(No column name)": "138"
                                },
                                {
                                    "(No column name)": "435"
                                },
                                {
                                    "(No column name)": "2"
                                },
                                {
                                    "(No column name)": "4"
                                },
                                {
                                    "(No column name)": "8"
                                },
                                {
                                    "(No column name)": "14"
                                },
                                {
                                    "(No column name)": "8"
                                },
                                {
                                    "(No column name)": "12"
                                },
                                {
                                    "(No column name)": "7"
                                },
                                {
                                    "(No column name)": "27"
                                },
                                {
                                    "(No column name)": "5"
                                },
                                {
                                    "(No column name)": "4"
                                },
                                {
                                    "(No column name)": "3"
                                },
                                {
                                    "(No column name)": "12"
                                },
                                {
                                    "(No column name)": "7"
                                },
                                {
                                    "(No column name)": "7"
                                },
                                {
                                    "(No column name)": "5"
                                },
                                {
                                    "(No column name)": "19"
                                },
                                {
                                    "(No column name)": "7"
                                },
                                {
                                    "(No column name)": "5"
                                },
                                {
                                    "(No column name)": "11"
                                },
                                {
                                    "(No column name)": "23"
                                },
                                {
                                    "(No column name)": "4"
                                },
                                {
                                    "(No column name)": "5"
                                },
                                {
                                    "(No column name)": "4"
                                },
                                {
                                    "(No column name)": "13"
                                },
                                {
                                    "(No column name)": "6"
                                },
                                {
                                    "(No column name)": "6"
                                },
                                {
                                    "(No column name)": "10"
                                },
                                {
                                    "(No column name)": "22"
                                },
                                {
                                    "(No column name)": "3"
                                },
                                {
                                    "(No column name)": "9"
                                },
                                {
                                    "(No column name)": "5"
                                },
                                {
                                    "(No column name)": "17"
                                },
                                {
                                    "(No column name)": "3"
                                },
                                {
                                    "(No column name)": "1"
                                },
                                {
                                    "(No column name)": "7"
                                },
                                {
                                    "(No column name)": "11"
                                },
                                {
                                    "(No column name)": "9"
                                },
                                {
                                    "(No column name)": "4"
                                },
                                {
                                    "(No column name)": "8"
                                },
                                {
                                    "(No column name)": "21"
                                },
                                {
                                    "(No column name)": "3"
                                },
                                {
                                    "(No column name)": "5"
                                },
                                {
                                    "(No column name)": "5"
                                },
                                {
                                    "(No column name)": "13"
                                },
                                {
                                    "(No column name)": "5"
                                },
                                {
                                    "(No column name)": "6"
                                },
                                {
                                    "(No column name)": "6"
                                },
                                {
                                    "(No column name)": "17"
                                },
                                {
                                    "(No column name)": "118"
                                },
                                {
                                    "(No column name)": "136"
                                },
                                {
                                    "(No column name)": "130"
                                },
                                {
                                    "(No column name)": "384"
                                },
                                {
                                    "(No column name)": "149"
                                },
                                {
                                    "(No column name)": "150"
                                },
                                {
                                    "(No column name)": "157"
                                },
                                {
                                    "(No column name)": "456"
                                },
                                {
                                    "(No column name)": "10"
                                },
                                {
                                    "(No column name)": "4"
                                },
                                {
                                    "(No column name)": "8"
                                },
                                {
                                    "(No column name)": "22"
                                },
                                {
                                    "(No column name)": "6"
                                },
                                {
                                    "(No column name)": "6"
                                },
                                {
                                    "(No column name)": "10"
                                },
                                {
                                    "(No column name)": "22"
                                },
                                {
                                    "(No column name)": "5"
                                },
                                {
                                    "(No column name)": "2"
                                },
                                {
                                    "(No column name)": "9"
                                },
                                {
                                    "(No column name)": "16"
                                },
                                {
                                    "(No column name)": "5"
                                },
                                {
                                    "(No column name)": "3"
                                },
                                {
                                    "(No column name)": "9"
                                },
                                {
                                    "(No column name)": "17"
                                },
                                {
                                    "(No column name)": "130"
                                },
                                {
                                    "(No column name)": "129"
                                },
                                {
                                    "(No column name)": "135"
                                },
                                {
                                    "(No column name)": "394"
                                },
                                {
                                    "(No column name)": "12"
                                },
                                {
                                    "(No column name)": "6"
                                },
                                {
                                    "(No column name)": "7"
                                },
                                {
                                    "(No column name)": "25"
                                },
                                {
                                    "(No column name)": "156"
                                },
                                {
                                    "(No column name)": "136"
                                },
                                {
                                    "(No column name)": "154"
                                },
                                {
                                    "(No column name)": "446"
                                },
                                {
                                    "(No column name)": "126"
                                },
                                {
                                    "(No column name)": "131"
                                },
                                {
                                    "(No column name)": "143"
                                },
                                {
                                    "(No column name)": "400"
                                },
                                {
                                    "(No column name)": "4"
                                },
                                {
                                    "(No column name)": "5"
                                },
                                {
                                    "(No column name)": "1"
                                },
                                {
                                    "(No column name)": "10"
                                },
                                {
                                    "(No column name)": "128"
                                },
                                {
                                    "(No column name)": "142"
                                },
                                {
                                    "(No column name)": "142"
                                },
                                {
                                    "(No column name)": "412"
                                },
                                {
                                    "(No column name)": "5"
                                },
                                {
                                    "(No column name)": "4"
                                },
                                {
                                    "(No column name)": "5"
                                },
                                {
                                    "(No column name)": "14"
                                },
                                {
                                    "(No column name)": "6"
                                },
                                {
                                    "(No column name)": "10"
                                },
                                {
                                    "(No column name)": "9"
                                },
                                {
                                    "(No column name)": "25"
                                },
                                {
                                    "(No column name)": "138"
                                },
                                {
                                    "(No column name)": "131"
                                },
                                {
                                    "(No column name)": "164"
                                },
                                {
                                    "(No column name)": "433"
                                },
                                {
                                    "(No column name)": "4"
                                },
                                {
                                    "(No column name)": "5"
                                },
                                {
                                    "(No column name)": "3"
                                },
                                {
                                    "(No column name)": "12"
                                },
                                {
                                    "(No column name)": "3"
                                },
                                {
                                    "(No column name)": "4"
                                },
                                {
                                    "(No column name)": "6"
                                },
                                {
                                    "(No column name)": "13"
                                },
                                {
                                    "(No column name)": "7"
                                },
                                {
                                    "(No column name)": "4"
                                },
                                {
                                    "(No column name)": "2"
                                },
                                {
                                    "(No column name)": "13"
                                },
                                {
                                    "(No column name)": "6"
                                },
                                {
                                    "(No column name)": "1"
                                },
                                {
                                    "(No column name)": "8"
                                },
                                {
                                    "(No column name)": "15"
                                },
                                {
                                    "(No column name)": "133"
                                },
                                {
                                    "(No column name)": "151"
                                },
                                {
                                    "(No column name)": "123"
                                },
                                {
                                    "(No column name)": "407"
                                },
                                {
                                    "(No column name)": "147"
                                },
                                {
                                    "(No column name)": "139"
                                },
                                {
                                    "(No column name)": "134"
                                },
                                {
                                    "(No column name)": "420"
                                },
                                {
                                    "(No column name)": "4"
                                },
                                {
                                    "(No column name)": "3"
                                },
                                {
                                    "(No column name)": "10"
                                },
                                {
                                    "(No column name)": "17"
                                },
                                {
                                    "(No column name)": "137"
                                },
                                {
                                    "(No column name)": "158"
                                },
                                {
                                    "(No column name)": "119"
                                },
                                {
                                    "(No column name)": "414"
                                },
                                {
                                    "(No column name)": "13"
                                },
                                {
                                    "(No column name)": "7"
                                },
                                {
                                    "(No column name)": "5"
                                },
                                {
                                    "(No column name)": "25"
                                },
                                {
                                    "(No column name)": "7"
                                },
                                {
                                    "(No column name)": "4"
                                },
                                {
                                    "(No column name)": "11"
                                },
                                {
                                    "(No column name)": "1"
                                },
                                {
                                    "(No column name)": "3"
                                },
                                {
                                    "(No column name)": "9"
                                },
                                {
                                    "(No column name)": "13"
                                },
                                {
                                    "(No column name)": "1"
                                },
                                {
                                    "(No column name)": "6"
                                },
                                {
                                    "(No column name)": "9"
                                },
                                {
                                    "(No column name)": "16"
                                },
                                {
                                    "(No column name)": "152"
                                },
                                {
                                    "(No column name)": "132"
                                },
                                {
                                    "(No column name)": "154"
                                },
                                {
                                    "(No column name)": "438"
                                },
                                {
                                    "(No column name)": "151"
                                },
                                {
                                    "(No column name)": "135"
                                },
                                {
                                    "(No column name)": "126"
                                },
                                {
                                    "(No column name)": "412"
                                },
                                {
                                    "(No column name)": "7"
                                },
                                {
                                    "(No column name)": "4"
                                },
                                {
                                    "(No column name)": "7"
                                },
                                {
                                    "(No column name)": "18"
                                },
                                {
                                    "(No column name)": "8"
                                },
                                {
                                    "(No column name)": "7"
                                },
                                {
                                    "(No column name)": "10"
                                },
                                {
                                    "(No column name)": "25"
                                },
                                {
                                    "(No column name)": "266"
                                },
                                {
                                    "(No column name)": "293"
                                },
                                {
                                    "(No column name)": "293"
                                },
                                {
                                    "(No column name)": "852"
                                },
                                {
                                    "(No column name)": "2"
                                },
                                {
                                    "(No column name)": "4"
                                },
                                {
                                    "(No column name)": "9"
                                },
                                {
                                    "(No column name)": "15"
                                },
                                {
                                    "(No column name)": "9"
                                },
                                {
                                    "(No column name)": "6"
                                },
                                {
                                    "(No column name)": "7"
                                },
                                {
                                    "(No column name)": "22"
                                },
                                {
                                    "(No column name)": "6"
                                },
                                {
                                    "(No column name)": "5"
                                },
                                {
                                    "(No column name)": "6"
                                },
                                {
                                    "(No column name)": "17"
                                },
                                {
                                    "(No column name)": "5"
                                },
                                {
                                    "(No column name)": "4"
                                },
                                {
                                    "(No column name)": "11"
                                },
                                {
                                    "(No column name)": "20"
                                },
                                {
                                    "(No column name)": "135"
                                },
                                {
                                    "(No column name)": "140"
                                },
                                {
                                    "(No column name)": "147"
                                },
                                {
                                    "(No column name)": "422"
                                },
                                {
                                    "(No column name)": "6"
                                },
                                {
                                    "(No column name)": "5"
                                },
                                {
                                    "(No column name)": "5"
                                },
                                {
                                    "(No column name)": "16"
                                },
                                {
                                    "(No column name)": "5"
                                },
                                {
                                    "(No column name)": "1"
                                },
                                {
                                    "(No column name)": "7"
                                },
                                {
                                    "(No column name)": "13"
                                },
                                {
                                    "(No column name)": "5"
                                },
                                {
                                    "(No column name)": "3"
                                },
                                {
                                    "(No column name)": "5"
                                },
                                {
                                    "(No column name)": "13"
                                },
                                {
                                    "(No column name)": "8"
                                },
                                {
                                    "(No column name)": "8"
                                },
                                {
                                    "(No column name)": "10"
                                },
                                {
                                    "(No column name)": "26"
                                },
                                {
                                    "(No column name)": "132"
                                },
                                {
                                    "(No column name)": "157"
                                },
                                {
                                    "(No column name)": "125"
                                },
                                {
                                    "(No column name)": "414"
                                },
                                {
                                    "(No column name)": "142"
                                },
                                {
                                    "(No column name)": "155"
                                },
                                {
                                    "(No column name)": "135"
                                },
                                {
                                    "(No column name)": "432"
                                },
                                {
                                    "(No column name)": "3"
                                },
                                {
                                    "(No column name)": "2"
                                },
                                {
                                    "(No column name)": "3"
                                },
                                {
                                    "(No column name)": "8"
                                },
                                {
                                    "(No column name)": "4"
                                },
                                {
                                    "(No column name)": "6"
                                },
                                {
                                    "(No column name)": "7"
                                },
                                {
                                    "(No column name)": "17"
                                },
                                {
                                    "(No column name)": "4"
                                },
                                {
                                    "(No column name)": "4"
                                },
                                {
                                    "(No column name)": "6"
                                },
                                {
                                    "(No column name)": "14"
                                },
                                {
                                    "(No column name)": "4"
                                },
                                {
                                    "(No column name)": "2"
                                },
                                {
                                    "(No column name)": "5"
                                },
                                {
                                    "(No column name)": "11"
                                },
                                {
                                    "(No column name)": "4"
                                },
                                {
                                    "(No column name)": "7"
                                },
                                {
                                    "(No column name)": "9"
                                },
                                {
                                    "(No column name)": "20"
                                },
                                {
                                    "(No column name)": "6"
                                },
                                {
                                    "(No column name)": "3"
                                },
                                {
                                    "(No column name)": "6"
                                },
                                {
                                    "(No column name)": "15"
                                },
                                {
                                    "(No column name)": "4"
                                },
                                {
                                    "(No column name)": "6"
                                },
                                {
                                    "(No column name)": "6"
                                },
                                {
                                    "(No column name)": "16"
                                },
                                {
                                    "(No column name)": "145"
                                },
                                {
                                    "(No column name)": "157"
                                },
                                {
                                    "(No column name)": "169"
                                },
                                {
                                    "(No column name)": "471"
                                },
                                {
                                    "(No column name)": "126"
                                },
                                {
                                    "(No column name)": "153"
                                },
                                {
                                    "(No column name)": "129"
                                },
                                {
                                    "(No column name)": "408"
                                },
                                {
                                    "(No column name)": "144"
                                },
                                {
                                    "(No column name)": "131"
                                },
                                {
                                    "(No column name)": "111"
                                },
                                {
                                    "(No column name)": "386"
                                },
                                {
                                    "(No column name)": "156"
                                },
                                {
                                    "(No column name)": "151"
                                },
                                {
                                    "(No column name)": "138"
                                },
                                {
                                    "(No column name)": "445"
                                },
                                {
                                    "(No column name)": "6"
                                },
                                {
                                    "(No column name)": "4"
                                },
                                {
                                    "(No column name)": "3"
                                },
                                {
                                    "(No column name)": "13"
                                },
                                {
                                    "(No column name)": "143"
                                },
                                {
                                    "(No column name)": "156"
                                },
                                {
                                    "(No column name)": "122"
                                },
                                {
                                    "(No column name)": "421"
                                },
                                {
                                    "(No column name)": "159"
                                },
                                {
                                    "(No column name)": "145"
                                },
                                {
                                    "(No column name)": "129"
                                },
                                {
                                    "(No column name)": "433"
                                },
                                {
                                    "(No column name)": "115"
                                },
                                {
                                    "(No column name)": "129"
                                },
                                {
                                    "(No column name)": "130"
                                },
                                {
                                    "(No column name)": "374"
                                },
                                {
                                    "(No column name)": "7"
                                },
                                {
                                    "(No column name)": "7"
                                },
                                {
                                    "(No column name)": "11"
                                },
                                {
                                    "(No column name)": "25"
                                },
                                {
                                    "(No column name)": "9"
                                },
                                {
                                    "(No column name)": "6"
                                },
                                {
                                    "(No column name)": "5"
                                },
                                {
                                    "(No column name)": "20"
                                },
                                {
                                    "(No column name)": "14"
                                },
                                {
                                    "(No column name)": "23"
                                },
                                {
                                    "(No column name)": "18"
                                },
                                {
                                    "(No column name)": "55"
                                },
                                {
                                    "(No column name)": "1"
                                },
                                {
                                    "(No column name)": "5"
                                },
                                {
                                    "(No column name)": "10"
                                },
                                {
                                    "(No column name)": "16"
                                },
                                {
                                    "(No column name)": "6"
                                },
                                {
                                    "(No column name)": "6"
                                },
                                {
                                    "(No column name)": "4"
                                },
                                {
                                    "(No column name)": "16"
                                },
                                {
                                    "(No column name)": "5"
                                },
                                {
                                    "(No column name)": "5"
                                },
                                {
                                    "(No column name)": "3"
                                },
                                {
                                    "(No column name)": "13"
                                },
                                {
                                    "(No column name)": "5"
                                },
                                {
                                    "(No column name)": "6"
                                },
                                {
                                    "(No column name)": "7"
                                },
                                {
                                    "(No column name)": "18"
                                },
                                {
                                    "(No column name)": "5"
                                },
                                {
                                    "(No column name)": "4"
                                },
                                {
                                    "(No column name)": "5"
                                },
                                {
                                    "(No column name)": "14"
                                },
                                {
                                    "(No column name)": "8"
                                },
                                {
                                    "(No column name)": "6"
                                },
                                {
                                    "(No column name)": "6"
                                },
                                {
                                    "(No column name)": "20"
                                },
                                {
                                    "(No column name)": "9"
                                },
                                {
                                    "(No column name)": "6"
                                },
                                {
                                    "(No column name)": "7"
                                },
                                {
                                    "(No column name)": "22"
                                },
                                {
                                    "(No column name)": "5"
                                },
                                {
                                    "(No column name)": "3"
                                },
                                {
                                    "(No column name)": "7"
                                },
                                {
                                    "(No column name)": "15"
                                },
                                {
                                    "(No column name)": "129"
                                },
                                {
                                    "(No column name)": "124"
                                },
                                {
                                    "(No column name)": "171"
                                },
                                {
                                    "(No column name)": "424"
                                },
                                {
                                    "(No column name)": "6"
                                },
                                {
                                    "(No column name)": "3"
                                },
                                {
                                    "(No column name)": "4"
                                },
                                {
                                    "(No column name)": "13"
                                },
                                {
                                    "(No column name)": "127"
                                },
                                {
                                    "(No column name)": "107"
                                },
                                {
                                    "(No column name)": "123"
                                },
                                {
                                    "(No column name)": "357"
                                },
                                {
                                    "(No column name)": "7"
                                },
                                {
                                    "(No column name)": "6"
                                },
                                {
                                    "(No column name)": "6"
                                },
                                {
                                    "(No column name)": "19"
                                },
                                {
                                    "(No column name)": "11"
                                },
                                {
                                    "(No column name)": "6"
                                },
                                {
                                    "(No column name)": "3"
                                },
                                {
                                    "(No column name)": "20"
                                },
                                {
                                    "(No column name)": "1"
                                },
                                {
                                    "(No column name)": "8"
                                },
                                {
                                    "(No column name)": "9"
                                },
                                {
                                    "(No column name)": "18"
                                },
                                {
                                    "(No column name)": "8"
                                },
                                {
                                    "(No column name)": "5"
                                },
                                {
                                    "(No column name)": "3"
                                },
                                {
                                    "(No column name)": "16"
                                },
                                {
                                    "(No column name)": "5"
                                },
                                {
                                    "(No column name)": "5"
                                },
                                {
                                    "(No column name)": "6"
                                },
                                {
                                    "(No column name)": "16"
                                },
                                {
                                    "(No column name)": "7"
                                },
                                {
                                    "(No column name)": "5"
                                },
                                {
                                    "(No column name)": "3"
                                },
                                {
                                    "(No column name)": "15"
                                },
                                {
                                    "(No column name)": "139"
                                },
                                {
                                    "(No column name)": "139"
                                },
                                {
                                    "(No column name)": "142"
                                },
                                {
                                    "(No column name)": "420"
                                },
                                {
                                    "(No column name)": "28085"
                                }
                            ]
                        },
                        "text/html": [
                            "<table>",
                            "<tr><th>(No column name)</th><th>(No column name)</th><th>(No column name)</th></tr>",
                            "<tr><td>adam1</td><td>GLS</td><td>129</td></tr>",
                            "<tr><td>adam1</td><td>Posta</td><td>132</td></tr>",
                            "<tr><td>adam1</td><td>Személyes átvétel</td><td>131</td></tr>",
                            "<tr><td>adam1</td><td>Részösszeg</td><td>392</td></tr>",
                            "<tr><td>adam3</td><td>GLS</td><td>10</td></tr>",
                            "<tr><td>adam3</td><td>Posta</td><td>3</td></tr>",
                            "<tr><td>adam3</td><td>Személyes átvétel</td><td>2</td></tr>",
                            "<tr><td>adam3</td><td>Részösszeg</td><td>15</td></tr>",
                            "<tr><td>adam4</td><td>GLS</td><td>12</td></tr>",
                            "<tr><td>adam4</td><td>Posta</td><td>6</td></tr>",
                            "<tr><td>adam4</td><td>Személyes átvétel</td><td>11</td></tr>",
                            "<tr><td>adam4</td><td>Részösszeg</td><td>29</td></tr>",
                            "<tr><td>agnes</td><td>GLS</td><td>144</td></tr>",
                            "<tr><td>agnes</td><td>Posta</td><td>130</td></tr>",
                            "<tr><td>agnes</td><td>Személyes átvétel</td><td>144</td></tr>",
                            "<tr><td>agnes</td><td>Részösszeg</td><td>418</td></tr>",
                            "<tr><td>agnes3</td><td>GLS</td><td>148</td></tr>",
                            "<tr><td>agnes3</td><td>Posta</td><td>146</td></tr>",
                            "<tr><td>agnes3</td><td>Személyes átvétel</td><td>136</td></tr>",
                            "<tr><td>agnes3</td><td>Részösszeg</td><td>430</td></tr>",
                            "<tr><td>AGNESH</td><td>GLS</td><td>2</td></tr>",
                            "<tr><td>AGNESH</td><td>Posta</td><td>3</td></tr>",
                            "<tr><td>AGNESH</td><td>Személyes átvétel</td><td>6</td></tr>",
                            "<tr><td>AGNESH</td><td>Részösszeg</td><td>11</td></tr>",
                            "<tr><td>AGNESK</td><td>GLS</td><td>1</td></tr>",
                            "<tr><td>AGNESK</td><td>Posta</td><td>7</td></tr>",
                            "<tr><td>AGNESK</td><td>Személyes átvétel</td><td>7</td></tr>",
                            "<tr><td>AGNESK</td><td>Részösszeg</td><td>15</td></tr>",
                            "<tr><td>akos</td><td>GLS</td><td>146</td></tr>",
                            "<tr><td>akos</td><td>Posta</td><td>143</td></tr>",
                            "<tr><td>akos</td><td>Személyes átvétel</td><td>140</td></tr>",
                            "<tr><td>akos</td><td>Részösszeg</td><td>429</td></tr>",
                            "<tr><td>aladar</td><td>GLS</td><td>156</td></tr>",
                            "<tr><td>aladar</td><td>Posta</td><td>134</td></tr>",
                            "<tr><td>aladar</td><td>Személyes átvétel</td><td>118</td></tr>",
                            "<tr><td>aladar</td><td>Részösszeg</td><td>408</td></tr>",
                            "<tr><td>alexandra</td><td>GLS</td><td>5</td></tr>",
                            "<tr><td>alexandra</td><td>Posta</td><td>9</td></tr>",
                            "<tr><td>alexandra</td><td>Személyes átvétel</td><td>5</td></tr>",
                            "<tr><td>alexandra</td><td>Részösszeg</td><td>19</td></tr>",
                            "<tr><td>andi</td><td>GLS</td><td>7</td></tr>",
                            "<tr><td>andi</td><td>Posta</td><td>4</td></tr>",
                            "<tr><td>andi</td><td>Személyes átvétel</td><td>7</td></tr>",
                            "<tr><td>andi</td><td>Részösszeg</td><td>18</td></tr>",
                            "<tr><td>andras2</td><td>GLS</td><td>4</td></tr>",
                            "<tr><td>andras2</td><td>Posta</td><td>7</td></tr>",
                            "<tr><td>andras2</td><td>Személyes átvétel</td><td>11</td></tr>",
                            "<tr><td>andras2</td><td>Részösszeg</td><td>22</td></tr>",
                            "<tr><td>andras21</td><td>GLS</td><td>140</td></tr>",
                            "<tr><td>andras21</td><td>Posta</td><td>124</td></tr>",
                            "<tr><td>andras21</td><td>Személyes átvétel</td><td>126</td></tr>",
                            "<tr><td>andras21</td><td>Részösszeg</td><td>390</td></tr>",
                            "<tr><td>andras3</td><td>GLS</td><td>3</td></tr>",
                            "<tr><td>andras3</td><td>Posta</td><td>1</td></tr>",
                            "<tr><td>andras3</td><td>Személyes átvétel</td><td>5</td></tr>",
                            "<tr><td>andras3</td><td>Részösszeg</td><td>9</td></tr>",
                            "<tr><td>andras4</td><td>GLS</td><td>4</td></tr>",
                            "<tr><td>andras4</td><td>Posta</td><td>4</td></tr>",
                            "<tr><td>andras4</td><td>Személyes átvétel</td><td>4</td></tr>",
                            "<tr><td>andras4</td><td>Részösszeg</td><td>12</td></tr>",
                            "<tr><td>andras41</td><td>GLS</td><td>149</td></tr>",
                            "<tr><td>andras41</td><td>Posta</td><td>137</td></tr>",
                            "<tr><td>andras41</td><td>Személyes átvétel</td><td>133</td></tr>",
                            "<tr><td>andras41</td><td>Részösszeg</td><td>419</td></tr>",
                            "<tr><td>ANDRASE</td><td>GLS</td><td>159</td></tr>",
                            "<tr><td>ANDRASE</td><td>Posta</td><td>141</td></tr>",
                            "<tr><td>ANDRASE</td><td>Személyes átvétel</td><td>136</td></tr>",
                            "<tr><td>ANDRASE</td><td>Részösszeg</td><td>436</td></tr>",
                            "<tr><td>ANDRASN</td><td>GLS</td><td>10</td></tr>",
                            "<tr><td>ANDRASN</td><td>Posta</td><td>9</td></tr>",
                            "<tr><td>ANDRASN</td><td>Személyes átvétel</td><td>5</td></tr>",
                            "<tr><td>ANDRASN</td><td>Részösszeg</td><td>24</td></tr>",
                            "<tr><td>andrea</td><td>GLS</td><td>12</td></tr>",
                            "<tr><td>andrea</td><td>Posta</td><td>4</td></tr>",
                            "<tr><td>andrea</td><td>Személyes átvétel</td><td>8</td></tr>",
                            "<tr><td>andrea</td><td>Részösszeg</td><td>24</td></tr>",
                            "<tr><td>andrea3</td><td>GLS</td><td>131</td></tr>",
                            "<tr><td>andrea3</td><td>Posta</td><td>136</td></tr>",
                            "<tr><td>andrea3</td><td>Személyes átvétel</td><td>146</td></tr>",
                            "<tr><td>andrea3</td><td>Részösszeg</td><td>413</td></tr>",
                            "<tr><td>andrea4</td><td>GLS</td><td>7</td></tr>",
                            "<tr><td>andrea4</td><td>Posta</td><td>4</td></tr>",
                            "<tr><td>andrea4</td><td>Személyes átvétel</td><td>7</td></tr>",
                            "<tr><td>andrea4</td><td>Részösszeg</td><td>18</td></tr>",
                            "<tr><td>ANDREAT</td><td>GLS</td><td>3</td></tr>",
                            "<tr><td>ANDREAT</td><td>Posta</td><td>6</td></tr>",
                            "<tr><td>ANDREAT</td><td>Személyes átvétel</td><td>12</td></tr>",
                            "<tr><td>ANDREAT</td><td>Részösszeg</td><td>21</td></tr>",
                            "<tr><td>anett3</td><td>GLS</td><td>3</td></tr>",
                            "<tr><td>anett3</td><td>Posta</td><td>6</td></tr>",
                            "<tr><td>anett3</td><td>Személyes átvétel</td><td>9</td></tr>",
                            "<tr><td>anett3</td><td>Részösszeg</td><td>18</td></tr>",
                            "<tr><td>aniko</td><td>GLS</td><td>128</td></tr>",
                            "<tr><td>aniko</td><td>Posta</td><td>137</td></tr>",
                            "<tr><td>aniko</td><td>Személyes átvétel</td><td>138</td></tr>",
                            "<tr><td>aniko</td><td>Részösszeg</td><td>403</td></tr>",
                            "<tr><td>aniko4</td><td>GLS</td><td>6</td></tr>",
                            "<tr><td>aniko4</td><td>Posta</td><td>6</td></tr>",
                            "<tr><td>aniko4</td><td>Személyes átvétel</td><td>3</td></tr>",
                            "<tr><td>aniko4</td><td>Részösszeg</td><td>15</td></tr>",
                            "<tr><td>ANIKOS</td><td>GLS</td><td>128</td></tr>",
                            "<tr><td>ANIKOS</td><td>Posta</td><td>126</td></tr>",
                            "<tr><td>ANIKOS</td><td>Személyes átvétel</td><td>150</td></tr>",
                            "<tr><td>ANIKOS</td><td>Részösszeg</td><td>404</td></tr>",
                            "<tr><td>anita</td><td>GLS</td><td>5</td></tr>",
                            "<tr><td>anita</td><td>Posta</td><td>2</td></tr>",
                            "<tr><td>anita</td><td>Személyes átvétel</td><td>5</td></tr>",
                            "<tr><td>anita</td><td>Részösszeg</td><td>12</td></tr>",
                            "<tr><td>annamaria1</td><td>GLS</td><td>5</td></tr>",
                            "<tr><td>annamaria1</td><td>Posta</td><td>4</td></tr>",
                            "<tr><td>annamaria1</td><td>Személyes átvétel</td><td>7</td></tr>",
                            "<tr><td>annamaria1</td><td>Részösszeg</td><td>16</td></tr>",
                            "<tr><td>ANNAMARIAR</td><td>GLS</td><td>8</td></tr>",
                            "<tr><td>ANNAMARIAR</td><td>Posta</td><td>2</td></tr>",
                            "<tr><td>ANNAMARIAR</td><td>Személyes átvétel</td><td>3</td></tr>",
                            "<tr><td>ANNAMARIAR</td><td>Részösszeg</td><td>13</td></tr>",
                            "<tr><td>aron2</td><td>GLS</td><td>132</td></tr>",
                            "<tr><td>aron2</td><td>Posta</td><td>133</td></tr>",
                            "<tr><td>aron2</td><td>Személyes átvétel</td><td>144</td></tr>",
                            "<tr><td>aron2</td><td>Részösszeg</td><td>409</td></tr>",
                            "<tr><td>ARONK</td><td>GLS</td><td>155</td></tr>",
                            "<tr><td>ARONK</td><td>Posta</td><td>120</td></tr>",
                            "<tr><td>ARONK</td><td>Személyes átvétel</td><td>155</td></tr>",
                            "<tr><td>ARONK</td><td>Részösszeg</td><td>430</td></tr>",
                            "<tr><td>arpad2</td><td>GLS</td><td>6</td></tr>",
                            "<tr><td>arpad2</td><td>Posta</td><td>1</td></tr>",
                            "<tr><td>arpad2</td><td>Személyes átvétel</td><td>10</td></tr>",
                            "<tr><td>arpad2</td><td>Részösszeg</td><td>17</td></tr>",
                            "<tr><td>ARPADH</td><td>GLS</td><td>6</td></tr>",
                            "<tr><td>ARPADH</td><td>Posta</td><td>3</td></tr>",
                            "<tr><td>ARPADH</td><td>Személyes átvétel</td><td>5</td></tr>",
                            "<tr><td>ARPADH</td><td>Részösszeg</td><td>14</td></tr>",
                            "<tr><td>ARPADM</td><td>GLS</td><td>6</td></tr>",
                            "<tr><td>ARPADM</td><td>Posta</td><td>3</td></tr>",
                            "<tr><td>ARPADM</td><td>Személyes átvétel</td><td>7</td></tr>",
                            "<tr><td>ARPADM</td><td>Részösszeg</td><td>16</td></tr>",
                            "<tr><td>attila1</td><td>GLS</td><td>5</td></tr>",
                            "<tr><td>attila1</td><td>Posta</td><td>7</td></tr>",
                            "<tr><td>attila1</td><td>Személyes átvétel</td><td>6</td></tr>",
                            "<tr><td>attila1</td><td>Részösszeg</td><td>18</td></tr>",
                            "<tr><td>attila4</td><td>GLS</td><td>135</td></tr>",
                            "<tr><td>attila4</td><td>Posta</td><td>125</td></tr>",
                            "<tr><td>attila4</td><td>Személyes átvétel</td><td>141</td></tr>",
                            "<tr><td>attila4</td><td>Részösszeg</td><td>401</td></tr>",
                            "<tr><td>ATTILAO</td><td>GLS</td><td>4</td></tr>",
                            "<tr><td>ATTILAO</td><td>Posta</td><td>4</td></tr>",
                            "<tr><td>ATTILAO</td><td>Személyes átvétel</td><td>6</td></tr>",
                            "<tr><td>ATTILAO</td><td>Részösszeg</td><td>14</td></tr>",
                            "<tr><td>balazs1</td><td>GLS</td><td>128</td></tr>",
                            "<tr><td>balazs1</td><td>Posta</td><td>136</td></tr>",
                            "<tr><td>balazs1</td><td>Személyes átvétel</td><td>155</td></tr>",
                            "<tr><td>balazs1</td><td>Részösszeg</td><td>419</td></tr>",
                            "<tr><td>balazs2</td><td>GLS</td><td>5</td></tr>",
                            "<tr><td>balazs2</td><td>Posta</td><td>7</td></tr>",
                            "<tr><td>balazs2</td><td>Személyes átvétel</td><td>5</td></tr>",
                            "<tr><td>balazs2</td><td>Részösszeg</td><td>17</td></tr>",
                            "<tr><td>balazs3</td><td>GLS</td><td>6</td></tr>",
                            "<tr><td>balazs3</td><td>Posta</td><td>6</td></tr>",
                            "<tr><td>balazs3</td><td>Személyes átvétel</td><td>3</td></tr>",
                            "<tr><td>balazs3</td><td>Részösszeg</td><td>15</td></tr>",
                            "<tr><td>balint</td><td>GLS</td><td>10</td></tr>",
                            "<tr><td>balint</td><td>Posta</td><td>4</td></tr>",
                            "<tr><td>balint</td><td>Személyes átvétel</td><td>2</td></tr>",
                            "<tr><td>balint</td><td>Részösszeg</td><td>16</td></tr>",
                            "<tr><td>balint1</td><td>GLS</td><td>158</td></tr>",
                            "<tr><td>balint1</td><td>Posta</td><td>152</td></tr>",
                            "<tr><td>balint1</td><td>Személyes átvétel</td><td>152</td></tr>",
                            "<tr><td>balint1</td><td>Részösszeg</td><td>462</td></tr>",
                            "<tr><td>balint2</td><td>GLS</td><td>8</td></tr>",
                            "<tr><td>balint2</td><td>Posta</td><td>6</td></tr>",
                            "<tr><td>balint2</td><td>Személyes átvétel</td><td>3</td></tr>",
                            "<tr><td>balint2</td><td>Részösszeg</td><td>17</td></tr>",
                            "<tr><td>balu</td><td>GLS</td><td>127</td></tr>",
                            "<tr><td>balu</td><td>Posta</td><td>137</td></tr>",
                            "<tr><td>balu</td><td>Személyes átvétel</td><td>123</td></tr>",
                            "<tr><td>balu</td><td>Részösszeg</td><td>387</td></tr>",
                            "<tr><td>BEATRIXK</td><td>GLS</td><td>135</td></tr>",
                            "<tr><td>BEATRIXK</td><td>Posta</td><td>155</td></tr>",
                            "<tr><td>BEATRIXK</td><td>Személyes átvétel</td><td>145</td></tr>",
                            "<tr><td>BEATRIXK</td><td>Részösszeg</td><td>435</td></tr>",
                            "<tr><td>BEATRIXS</td><td>GLS</td><td>146</td></tr>",
                            "<tr><td>BEATRIXS</td><td>Posta</td><td>141</td></tr>",
                            "<tr><td>BEATRIXS</td><td>Személyes átvétel</td><td>133</td></tr>",
                            "<tr><td>BEATRIXS</td><td>Részösszeg</td><td>420</td></tr>",
                            "<tr><td>BELAF</td><td>GLS</td><td>11</td></tr>",
                            "<tr><td>BELAF</td><td>Posta</td><td>2</td></tr>",
                            "<tr><td>BELAF</td><td>Személyes átvétel</td><td>5</td></tr>",
                            "<tr><td>BELAF</td><td>Részösszeg</td><td>18</td></tr>",
                            "<tr><td>bence</td><td>GLS</td><td>4</td></tr>",
                            "<tr><td>bence</td><td>Posta</td><td>6</td></tr>",
                            "<tr><td>bence</td><td>Személyes átvétel</td><td>8</td></tr>",
                            "<tr><td>bence</td><td>Részösszeg</td><td>18</td></tr>",
                            "<tr><td>BENCEB</td><td>GLS</td><td>5</td></tr>",
                            "<tr><td>BENCEB</td><td>Posta</td><td>7</td></tr>",
                            "<tr><td>BENCEB</td><td>Személyes átvétel</td><td>5</td></tr>",
                            "<tr><td>BENCEB</td><td>Részösszeg</td><td>17</td></tr>",
                            "<tr><td>bernadett1</td><td>GLS</td><td>10</td></tr>",
                            "<tr><td>bernadett1</td><td>Posta</td><td>5</td></tr>",
                            "<tr><td>bernadett1</td><td>Személyes átvétel</td><td>5</td></tr>",
                            "<tr><td>bernadett1</td><td>Részösszeg</td><td>20</td></tr>",
                            "<tr><td>bernadett2</td><td>GLS</td><td>6</td></tr>",
                            "<tr><td>bernadett2</td><td>Posta</td><td>2</td></tr>",
                            "<tr><td>bernadett2</td><td>Személyes átvétel</td><td>7</td></tr>",
                            "<tr><td>bernadett2</td><td>Részösszeg</td><td>15</td></tr>",
                            "<tr><td>BERNADETTO</td><td>GLS</td><td>7</td></tr>",
                            "<tr><td>BERNADETTO</td><td>Posta</td><td>2</td></tr>",
                            "<tr><td>BERNADETTO</td><td>Személyes átvétel</td><td>7</td></tr>",
                            "<tr><td>BERNADETTO</td><td>Részösszeg</td><td>16</td></tr>",
                            "<tr><td>bertalan</td><td>GLS</td><td>128</td></tr>",
                            "<tr><td>bertalan</td><td>Posta</td><td>124</td></tr>",
                            "<tr><td>bertalan</td><td>Személyes átvétel</td><td>101</td></tr>",
                            "<tr><td>bertalan</td><td>Részösszeg</td><td>353</td></tr>",
                            "<tr><td>brigitta</td><td>GLS</td><td>137</td></tr>",
                            "<tr><td>brigitta</td><td>Posta</td><td>137</td></tr>",
                            "<tr><td>brigitta</td><td>Személyes átvétel</td><td>119</td></tr>",
                            "<tr><td>brigitta</td><td>Részösszeg</td><td>393</td></tr>",
                            "<tr><td>brigitta3</td><td>GLS</td><td>144</td></tr>",
                            "<tr><td>brigitta3</td><td>Posta</td><td>130</td></tr>",
                            "<tr><td>brigitta3</td><td>Személyes átvétel</td><td>139</td></tr>",
                            "<tr><td>brigitta3</td><td>Részösszeg</td><td>413</td></tr>",
                            "<tr><td>csongor3</td><td>GLS</td><td>5</td></tr>",
                            "<tr><td>csongor3</td><td>Posta</td><td>2</td></tr>",
                            "<tr><td>csongor3</td><td>Személyes átvétel</td><td>8</td></tr>",
                            "<tr><td>csongor3</td><td>Részösszeg</td><td>15</td></tr>",
                            "<tr><td>dani</td><td>GLS</td><td>5</td></tr>",
                            "<tr><td>dani</td><td>Személyes átvétel</td><td>8</td></tr>",
                            "<tr><td>dani</td><td>Részösszeg</td><td>13</td></tr>",
                            "<tr><td>daniel</td><td>GLS</td><td>7</td></tr>",
                            "<tr><td>daniel</td><td>Posta</td><td>2</td></tr>",
                            "<tr><td>daniel</td><td>Személyes átvétel</td><td>4</td></tr>",
                            "<tr><td>daniel</td><td>Részösszeg</td><td>13</td></tr>",
                            "<tr><td>daniel1</td><td>GLS</td><td>156</td></tr>",
                            "<tr><td>daniel1</td><td>Posta</td><td>131</td></tr>",
                            "<tr><td>daniel1</td><td>Személyes átvétel</td><td>132</td></tr>",
                            "<tr><td>daniel1</td><td>Részösszeg</td><td>419</td></tr>",
                            "<tr><td>david</td><td>GLS</td><td>161</td></tr>",
                            "<tr><td>david</td><td>Posta</td><td>144</td></tr>",
                            "<tr><td>david</td><td>Személyes átvétel</td><td>146</td></tr>",
                            "<tr><td>david</td><td>Részösszeg</td><td>451</td></tr>",
                            "<tr><td>david1</td><td>GLS</td><td>8</td></tr>",
                            "<tr><td>david1</td><td>Posta</td><td>1</td></tr>",
                            "<tr><td>david1</td><td>Személyes átvétel</td><td>8</td></tr>",
                            "<tr><td>david1</td><td>Részösszeg</td><td>17</td></tr>",
                            "<tr><td>david4</td><td>GLS</td><td>3</td></tr>",
                            "<tr><td>david4</td><td>Posta</td><td>8</td></tr>",
                            "<tr><td>david4</td><td>Személyes átvétel</td><td>10</td></tr>",
                            "<tr><td>david4</td><td>Részösszeg</td><td>21</td></tr>",
                            "<tr><td>debora</td><td>GLS</td><td>7</td></tr>",
                            "<tr><td>debora</td><td>Posta</td><td>6</td></tr>",
                            "<tr><td>debora</td><td>Személyes átvétel</td><td>3</td></tr>",
                            "<tr><td>debora</td><td>Részösszeg</td><td>16</td></tr>",
                            "<tr><td>denes</td><td>GLS</td><td>3</td></tr>",
                            "<tr><td>denes</td><td>Posta</td><td>2</td></tr>",
                            "<tr><td>denes</td><td>Személyes átvétel</td><td>4</td></tr>",
                            "<tr><td>denes</td><td>Részösszeg</td><td>9</td></tr>",
                            "<tr><td>dora3</td><td>GLS</td><td>144</td></tr>",
                            "<tr><td>dora3</td><td>Posta</td><td>124</td></tr>",
                            "<tr><td>dora3</td><td>Személyes átvétel</td><td>164</td></tr>",
                            "<tr><td>dora3</td><td>Részösszeg</td><td>432</td></tr>",
                            "<tr><td>edit</td><td>GLS</td><td>7</td></tr>",
                            "<tr><td>edit</td><td>Posta</td><td>2</td></tr>",
                            "<tr><td>edit</td><td>Személyes átvétel</td><td>4</td></tr>",
                            "<tr><td>edit</td><td>Részösszeg</td><td>13</td></tr>",
                            "<tr><td>emese</td><td>GLS</td><td>128</td></tr>",
                            "<tr><td>emese</td><td>Posta</td><td>136</td></tr>",
                            "<tr><td>emese</td><td>Személyes átvétel</td><td>142</td></tr>",
                            "<tr><td>emese</td><td>Részösszeg</td><td>406</td></tr>",
                            "<tr><td>eszter2</td><td>GLS</td><td>127</td></tr>",
                            "<tr><td>eszter2</td><td>Posta</td><td>136</td></tr>",
                            "<tr><td>eszter2</td><td>Személyes átvétel</td><td>152</td></tr>",
                            "<tr><td>eszter2</td><td>Részösszeg</td><td>415</td></tr>",
                            "<tr><td>eszter4</td><td>GLS</td><td>141</td></tr>",
                            "<tr><td>eszter4</td><td>Posta</td><td>134</td></tr>",
                            "<tr><td>eszter4</td><td>Személyes átvétel</td><td>149</td></tr>",
                            "<tr><td>eszter4</td><td>Részösszeg</td><td>424</td></tr>",
                            "<tr><td>ESZTERE</td><td>GLS</td><td>6</td></tr>",
                            "<tr><td>ESZTERE</td><td>Posta</td><td>9</td></tr>",
                            "<tr><td>ESZTERE</td><td>Személyes átvétel</td><td>7</td></tr>",
                            "<tr><td>ESZTERE</td><td>Részösszeg</td><td>22</td></tr>",
                            "<tr><td>eva</td><td>GLS</td><td>125</td></tr>",
                            "<tr><td>eva</td><td>Posta</td><td>140</td></tr>",
                            "<tr><td>eva</td><td>Személyes átvétel</td><td>139</td></tr>",
                            "<tr><td>eva</td><td>Részösszeg</td><td>404</td></tr>",
                            "<tr><td>eva2</td><td>GLS</td><td>154</td></tr>",
                            "<tr><td>eva2</td><td>Posta</td><td>138</td></tr>",
                            "<tr><td>eva2</td><td>Személyes átvétel</td><td>170</td></tr>",
                            "<tr><td>eva2</td><td>Részösszeg</td><td>462</td></tr>",
                            "<tr><td>EVAV</td><td>GLS</td><td>2</td></tr>",
                            "<tr><td>EVAV</td><td>Posta</td><td>1</td></tr>",
                            "<tr><td>EVAV</td><td>Személyes átvétel</td><td>4</td></tr>",
                            "<tr><td>EVAV</td><td>Részösszeg</td><td>7</td></tr>",
                            "<tr><td>ferenc1</td><td>GLS</td><td>144</td></tr>",
                            "<tr><td>ferenc1</td><td>Posta</td><td>158</td></tr>",
                            "<tr><td>ferenc1</td><td>Személyes átvétel</td><td>135</td></tr>",
                            "<tr><td>ferenc1</td><td>Részösszeg</td><td>437</td></tr>",
                            "<tr><td>fruzsina4</td><td>GLS</td><td>8</td></tr>",
                            "<tr><td>fruzsina4</td><td>Posta</td><td>3</td></tr>",
                            "<tr><td>fruzsina4</td><td>Személyes átvétel</td><td>7</td></tr>",
                            "<tr><td>fruzsina4</td><td>Részösszeg</td><td>18</td></tr>",
                            "<tr><td>gabor1</td><td>GLS</td><td>9</td></tr>",
                            "<tr><td>gabor1</td><td>Posta</td><td>5</td></tr>",
                            "<tr><td>gabor1</td><td>Személyes átvétel</td><td>5</td></tr>",
                            "<tr><td>gabor1</td><td>Részösszeg</td><td>19</td></tr>",
                            "<tr><td>gabor4</td><td>GLS</td><td>7</td></tr>",
                            "<tr><td>gabor4</td><td>Posta</td><td>9</td></tr>",
                            "<tr><td>gabor4</td><td>Személyes átvétel</td><td>4</td></tr>",
                            "<tr><td>gabor4</td><td>Részösszeg</td><td>20</td></tr>",
                            "<tr><td>GABORS</td><td>GLS</td><td>5</td></tr>",
                            "<tr><td>GABORS</td><td>Posta</td><td>6</td></tr>",
                            "<tr><td>GABORS</td><td>Személyes átvétel</td><td>4</td></tr>",
                            "<tr><td>GABORS</td><td>Részösszeg</td><td>15</td></tr>",
                            "<tr><td>gabriella1</td><td>GLS</td><td>5</td></tr>",
                            "<tr><td>gabriella1</td><td>Posta</td><td>4</td></tr>",
                            "<tr><td>gabriella1</td><td>Személyes átvétel</td><td>5</td></tr>",
                            "<tr><td>gabriella1</td><td>Részösszeg</td><td>14</td></tr>",
                            "<tr><td>gabriella10</td><td>GLS</td><td>4</td></tr>",
                            "<tr><td>gabriella10</td><td>Posta</td><td>5</td></tr>",
                            "<tr><td>gabriella10</td><td>Személyes átvétel</td><td>7</td></tr>",
                            "<tr><td>gabriella10</td><td>Részösszeg</td><td>16</td></tr>",
                            "<tr><td>georgij</td><td>GLS</td><td>9</td></tr>",
                            "<tr><td>georgij</td><td>Posta</td><td>2</td></tr>",
                            "<tr><td>georgij</td><td>Személyes átvétel</td><td>10</td></tr>",
                            "<tr><td>georgij</td><td>Részösszeg</td><td>21</td></tr>",
                            "<tr><td>gusztav</td><td>GLS</td><td>5</td></tr>",
                            "<tr><td>gusztav</td><td>Posta</td><td>4</td></tr>",
                            "<tr><td>gusztav</td><td>Személyes átvétel</td><td>5</td></tr>",
                            "<tr><td>gusztav</td><td>Részösszeg</td><td>14</td></tr>",
                            "<tr><td>GYONGYIK</td><td>GLS</td><td>6</td></tr>",
                            "<tr><td>GYONGYIK</td><td>Posta</td><td>6</td></tr>",
                            "<tr><td>GYONGYIK</td><td>Személyes átvétel</td><td>3</td></tr>",
                            "<tr><td>GYONGYIK</td><td>Részösszeg</td><td>15</td></tr>",
                            "<tr><td>GYORGYO</td><td>GLS</td><td>7</td></tr>",
                            "<tr><td>GYORGYO</td><td>Posta</td><td>4</td></tr>",
                            "<tr><td>GYORGYO</td><td>Személyes átvétel</td><td>5</td></tr>",
                            "<tr><td>GYORGYO</td><td>Részösszeg</td><td>16</td></tr>",
                            "<tr><td>henrik3</td><td>GLS</td><td>7</td></tr>",
                            "<tr><td>henrik3</td><td>Posta</td><td>4</td></tr>",
                            "<tr><td>henrik3</td><td>Személyes átvétel</td><td>5</td></tr>",
                            "<tr><td>henrik3</td><td>Részösszeg</td><td>16</td></tr>",
                            "<tr><td>IBOLYAA</td><td>GLS</td><td>140</td></tr>",
                            "<tr><td>IBOLYAA</td><td>Posta</td><td>125</td></tr>",
                            "<tr><td>IBOLYAA</td><td>Személyes átvétel</td><td>157</td></tr>",
                            "<tr><td>IBOLYAA</td><td>Részösszeg</td><td>422</td></tr>",
                            "<tr><td>ilona3</td><td>GLS</td><td>9</td></tr>",
                            "<tr><td>ilona3</td><td>Posta</td><td>2</td></tr>",
                            "<tr><td>ilona3</td><td>Személyes átvétel</td><td>7</td></tr>",
                            "<tr><td>ilona3</td><td>Részösszeg</td><td>18</td></tr>",
                            "<tr><td>imre</td><td>GLS</td><td>5</td></tr>",
                            "<tr><td>imre</td><td>Posta</td><td>4</td></tr>",
                            "<tr><td>imre</td><td>Személyes átvétel</td><td>6</td></tr>",
                            "<tr><td>imre</td><td>Részösszeg</td><td>15</td></tr>",
                            "<tr><td>imre1</td><td>GLS</td><td>8</td></tr>",
                            "<tr><td>imre1</td><td>Posta</td><td>4</td></tr>",
                            "<tr><td>imre1</td><td>Személyes átvétel</td><td>3</td></tr>",
                            "<tr><td>imre1</td><td>Részösszeg</td><td>15</td></tr>",
                            "<tr><td>istvan</td><td>GLS</td><td>3</td></tr>",
                            "<tr><td>istvan</td><td>Posta</td><td>4</td></tr>",
                            "<tr><td>istvan</td><td>Személyes átvétel</td><td>4</td></tr>",
                            "<tr><td>istvan</td><td>Részösszeg</td><td>11</td></tr>",
                            "<tr><td>istvan1</td><td>GLS</td><td>8</td></tr>",
                            "<tr><td>istvan1</td><td>Posta</td><td>4</td></tr>",
                            "<tr><td>istvan1</td><td>Személyes átvétel</td><td>7</td></tr>",
                            "<tr><td>istvan1</td><td>Részösszeg</td><td>19</td></tr>",
                            "<tr><td>ISTVANV</td><td>GLS</td><td>4</td></tr>",
                            "<tr><td>ISTVANV</td><td>Posta</td><td>9</td></tr>",
                            "<tr><td>ISTVANV</td><td>Személyes átvétel</td><td>8</td></tr>",
                            "<tr><td>ISTVANV</td><td>Részösszeg</td><td>21</td></tr>",
                            "<tr><td>janos3</td><td>GLS</td><td>5</td></tr>",
                            "<tr><td>janos3</td><td>Posta</td><td>2</td></tr>",
                            "<tr><td>janos3</td><td>Személyes átvétel</td><td>6</td></tr>",
                            "<tr><td>janos3</td><td>Részösszeg</td><td>13</td></tr>",
                            "<tr><td>JANOSG</td><td>GLS</td><td>3</td></tr>",
                            "<tr><td>JANOSG</td><td>Posta</td><td>3</td></tr>",
                            "<tr><td>JANOSG</td><td>Személyes átvétel</td><td>4</td></tr>",
                            "<tr><td>JANOSG</td><td>Részösszeg</td><td>10</td></tr>",
                            "<tr><td>JANOSP</td><td>GLS</td><td>7</td></tr>",
                            "<tr><td>JANOSP</td><td>Posta</td><td>7</td></tr>",
                            "<tr><td>JANOSP</td><td>Személyes átvétel</td><td>3</td></tr>",
                            "<tr><td>JANOSP</td><td>Részösszeg</td><td>17</td></tr>",
                            "<tr><td>jozsef</td><td>GLS</td><td>116</td></tr>",
                            "<tr><td>jozsef</td><td>Posta</td><td>132</td></tr>",
                            "<tr><td>jozsef</td><td>Személyes átvétel</td><td>134</td></tr>",
                            "<tr><td>jozsef</td><td>Részösszeg</td><td>382</td></tr>",
                            "<tr><td>jozsef2</td><td>GLS</td><td>7</td></tr>",
                            "<tr><td>jozsef2</td><td>Posta</td><td>2</td></tr>",
                            "<tr><td>jozsef2</td><td>Személyes átvétel</td><td>4</td></tr>",
                            "<tr><td>jozsef2</td><td>Részösszeg</td><td>13</td></tr>",
                            "<tr><td>JOZSEFG</td><td>GLS</td><td>11</td></tr>",
                            "<tr><td>JOZSEFG</td><td>Posta</td><td>1</td></tr>",
                            "<tr><td>JOZSEFG</td><td>Személyes átvétel</td><td>9</td></tr>",
                            "<tr><td>JOZSEFG</td><td>Részösszeg</td><td>21</td></tr>",
                            "<tr><td>JUDITH</td><td>GLS</td><td>170</td></tr>",
                            "<tr><td>JUDITH</td><td>Posta</td><td>130</td></tr>",
                            "<tr><td>JUDITH</td><td>Személyes átvétel</td><td>150</td></tr>",
                            "<tr><td>JUDITH</td><td>Részösszeg</td><td>450</td></tr>",
                            "<tr><td>julia</td><td>GLS</td><td>137</td></tr>",
                            "<tr><td>julia</td><td>Posta</td><td>160</td></tr>",
                            "<tr><td>julia</td><td>Személyes átvétel</td><td>138</td></tr>",
                            "<tr><td>julia</td><td>Részösszeg</td><td>435</td></tr>",
                            "<tr><td>julia4</td><td>GLS</td><td>2</td></tr>",
                            "<tr><td>julia4</td><td>Posta</td><td>4</td></tr>",
                            "<tr><td>julia4</td><td>Személyes átvétel</td><td>8</td></tr>",
                            "<tr><td>julia4</td><td>Részösszeg</td><td>14</td></tr>",
                            "<tr><td>julianna4</td><td>GLS</td><td>8</td></tr>",
                            "<tr><td>julianna4</td><td>Posta</td><td>12</td></tr>",
                            "<tr><td>julianna4</td><td>Személyes átvétel</td><td>7</td></tr>",
                            "<tr><td>julianna4</td><td>Részösszeg</td><td>27</td></tr>",
                            "<tr><td>kata</td><td>GLS</td><td>5</td></tr>",
                            "<tr><td>kata</td><td>Posta</td><td>4</td></tr>",
                            "<tr><td>kata</td><td>Személyes átvétel</td><td>3</td></tr>",
                            "<tr><td>kata</td><td>Részösszeg</td><td>12</td></tr>",
                            "<tr><td>katalin</td><td>GLS</td><td>7</td></tr>",
                            "<tr><td>katalin</td><td>Posta</td><td>7</td></tr>",
                            "<tr><td>katalin</td><td>Személyes átvétel</td><td>5</td></tr>",
                            "<tr><td>katalin</td><td>Részösszeg</td><td>19</td></tr>",
                            "<tr><td>katalin4</td><td>GLS</td><td>7</td></tr>",
                            "<tr><td>katalin4</td><td>Posta</td><td>5</td></tr>",
                            "<tr><td>katalin4</td><td>Személyes átvétel</td><td>11</td></tr>",
                            "<tr><td>katalin4</td><td>Részösszeg</td><td>23</td></tr>",
                            "<tr><td>kati</td><td>GLS</td><td>4</td></tr>",
                            "<tr><td>kati</td><td>Posta</td><td>5</td></tr>",
                            "<tr><td>kati</td><td>Személyes átvétel</td><td>4</td></tr>",
                            "<tr><td>kati</td><td>Részösszeg</td><td>13</td></tr>",
                            "<tr><td>katka</td><td>GLS</td><td>6</td></tr>",
                            "<tr><td>katka</td><td>Posta</td><td>6</td></tr>",
                            "<tr><td>katka</td><td>Személyes átvétel</td><td>10</td></tr>",
                            "<tr><td>katka</td><td>Részösszeg</td><td>22</td></tr>",
                            "<tr><td>klaudia2</td><td>GLS</td><td>3</td></tr>",
                            "<tr><td>klaudia2</td><td>Posta</td><td>9</td></tr>",
                            "<tr><td>klaudia2</td><td>Személyes átvétel</td><td>5</td></tr>",
                            "<tr><td>klaudia2</td><td>Részösszeg</td><td>17</td></tr>",
                            "<tr><td>kornel4</td><td>GLS</td><td>3</td></tr>",
                            "<tr><td>kornel4</td><td>Posta</td><td>1</td></tr>",
                            "<tr><td>kornel4</td><td>Személyes átvétel</td><td>7</td></tr>",
                            "<tr><td>kornel4</td><td>Részösszeg</td><td>11</td></tr>",
                            "<tr><td>kristof4</td><td>GLS</td><td>9</td></tr>",
                            "<tr><td>kristof4</td><td>Posta</td><td>4</td></tr>",
                            "<tr><td>kristof4</td><td>Személyes átvétel</td><td>8</td></tr>",
                            "<tr><td>kristof4</td><td>Részösszeg</td><td>21</td></tr>",
                            "<tr><td>kriszti</td><td>GLS</td><td>3</td></tr>",
                            "<tr><td>kriszti</td><td>Posta</td><td>5</td></tr>",
                            "<tr><td>kriszti</td><td>Személyes átvétel</td><td>5</td></tr>",
                            "<tr><td>kriszti</td><td>Részösszeg</td><td>13</td></tr>",
                            "<tr><td>krisztian4</td><td>GLS</td><td>5</td></tr>",
                            "<tr><td>krisztian4</td><td>Posta</td><td>6</td></tr>",
                            "<tr><td>krisztian4</td><td>Személyes átvétel</td><td>6</td></tr>",
                            "<tr><td>krisztian4</td><td>Részösszeg</td><td>17</td></tr>",
                            "<tr><td>KRISZTIANM</td><td>GLS</td><td>118</td></tr>",
                            "<tr><td>KRISZTIANM</td><td>Posta</td><td>136</td></tr>",
                            "<tr><td>KRISZTIANM</td><td>Személyes átvétel</td><td>130</td></tr>",
                            "<tr><td>KRISZTIANM</td><td>Részösszeg</td><td>384</td></tr>",
                            "<tr><td>krisztina</td><td>GLS</td><td>149</td></tr>",
                            "<tr><td>krisztina</td><td>Posta</td><td>150</td></tr>",
                            "<tr><td>krisztina</td><td>Személyes átvétel</td><td>157</td></tr>",
                            "<tr><td>krisztina</td><td>Részösszeg</td><td>456</td></tr>",
                            "<tr><td>krisztina1</td><td>GLS</td><td>10</td></tr>",
                            "<tr><td>krisztina1</td><td>Posta</td><td>4</td></tr>",
                            "<tr><td>krisztina1</td><td>Személyes átvétel</td><td>8</td></tr>",
                            "<tr><td>krisztina1</td><td>Részösszeg</td><td>22</td></tr>",
                            "<tr><td>KRISZTINAG</td><td>GLS</td><td>6</td></tr>",
                            "<tr><td>KRISZTINAG</td><td>Posta</td><td>6</td></tr>",
                            "<tr><td>KRISZTINAG</td><td>Személyes átvétel</td><td>10</td></tr>",
                            "<tr><td>KRISZTINAG</td><td>Részösszeg</td><td>22</td></tr>",
                            "<tr><td>lajos</td><td>GLS</td><td>5</td></tr>",
                            "<tr><td>lajos</td><td>Posta</td><td>2</td></tr>",
                            "<tr><td>lajos</td><td>Személyes átvétel</td><td>9</td></tr>",
                            "<tr><td>lajos</td><td>Részösszeg</td><td>16</td></tr>",
                            "<tr><td>lala</td><td>GLS</td><td>5</td></tr>",
                            "<tr><td>lala</td><td>Posta</td><td>3</td></tr>",
                            "<tr><td>lala</td><td>Személyes átvétel</td><td>9</td></tr>",
                            "<tr><td>lala</td><td>Részösszeg</td><td>17</td></tr>",
                            "<tr><td>laszlo1</td><td>GLS</td><td>130</td></tr>",
                            "<tr><td>laszlo1</td><td>Posta</td><td>129</td></tr>",
                            "<tr><td>laszlo1</td><td>Személyes átvétel</td><td>135</td></tr>",
                            "<tr><td>laszlo1</td><td>Részösszeg</td><td>394</td></tr>",
                            "<tr><td>laszlo2</td><td>GLS</td><td>12</td></tr>",
                            "<tr><td>laszlo2</td><td>Posta</td><td>6</td></tr>",
                            "<tr><td>laszlo2</td><td>Személyes átvétel</td><td>7</td></tr>",
                            "<tr><td>laszlo2</td><td>Részösszeg</td><td>25</td></tr>",
                            "<tr><td>LASZLOA</td><td>GLS</td><td>156</td></tr>",
                            "<tr><td>LASZLOA</td><td>Posta</td><td>136</td></tr>",
                            "<tr><td>LASZLOA</td><td>Személyes átvétel</td><td>154</td></tr>",
                            "<tr><td>LASZLOA</td><td>Részösszeg</td><td>446</td></tr>",
                            "<tr><td>LASZLON</td><td>GLS</td><td>126</td></tr>",
                            "<tr><td>LASZLON</td><td>Posta</td><td>131</td></tr>",
                            "<tr><td>LASZLON</td><td>Személyes átvétel</td><td>143</td></tr>",
                            "<tr><td>LASZLON</td><td>Részösszeg</td><td>400</td></tr>",
                            "<tr><td>maria1</td><td>GLS</td><td>4</td></tr>",
                            "<tr><td>maria1</td><td>Posta</td><td>5</td></tr>",
                            "<tr><td>maria1</td><td>Személyes átvétel</td><td>1</td></tr>",
                            "<tr><td>maria1</td><td>Részösszeg</td><td>10</td></tr>",
                            "<tr><td>MARKH</td><td>GLS</td><td>128</td></tr>",
                            "<tr><td>MARKH</td><td>Posta</td><td>142</td></tr>",
                            "<tr><td>MARKH</td><td>Személyes átvétel</td><td>142</td></tr>",
                            "<tr><td>MARKH</td><td>Részösszeg</td><td>412</td></tr>",
                            "<tr><td>marton</td><td>GLS</td><td>5</td></tr>",
                            "<tr><td>marton</td><td>Posta</td><td>4</td></tr>",
                            "<tr><td>marton</td><td>Személyes átvétel</td><td>5</td></tr>",
                            "<tr><td>marton</td><td>Részösszeg</td><td>14</td></tr>",
                            "<tr><td>MATEK</td><td>GLS</td><td>6</td></tr>",
                            "<tr><td>MATEK</td><td>Posta</td><td>10</td></tr>",
                            "<tr><td>MATEK</td><td>Személyes átvétel</td><td>9</td></tr>",
                            "<tr><td>MATEK</td><td>Részösszeg</td><td>25</td></tr>",
                            "<tr><td>matyas2</td><td>GLS</td><td>138</td></tr>",
                            "<tr><td>matyas2</td><td>Posta</td><td>131</td></tr>",
                            "<tr><td>matyas2</td><td>Személyes átvétel</td><td>164</td></tr>",
                            "<tr><td>matyas2</td><td>Részösszeg</td><td>433</td></tr>",
                            "<tr><td>MATYASS</td><td>GLS</td><td>4</td></tr>",
                            "<tr><td>MATYASS</td><td>Posta</td><td>5</td></tr>",
                            "<tr><td>MATYASS</td><td>Személyes átvétel</td><td>3</td></tr>",
                            "<tr><td>MATYASS</td><td>Részösszeg</td><td>12</td></tr>",
                            "<tr><td>MIHALYJ</td><td>GLS</td><td>3</td></tr>",
                            "<tr><td>MIHALYJ</td><td>Posta</td><td>4</td></tr>",
                            "<tr><td>MIHALYJ</td><td>Személyes átvétel</td><td>6</td></tr>",
                            "<tr><td>MIHALYJ</td><td>Részösszeg</td><td>13</td></tr>",
                            "<tr><td>miklos2</td><td>GLS</td><td>7</td></tr>",
                            "<tr><td>miklos2</td><td>Posta</td><td>4</td></tr>",
                            "<tr><td>miklos2</td><td>Személyes átvétel</td><td>2</td></tr>",
                            "<tr><td>miklos2</td><td>Részösszeg</td><td>13</td></tr>",
                            "<tr><td>MIKLOSB</td><td>GLS</td><td>6</td></tr>",
                            "<tr><td>MIKLOSB</td><td>Posta</td><td>1</td></tr>",
                            "<tr><td>MIKLOSB</td><td>Személyes átvétel</td><td>8</td></tr>",
                            "<tr><td>MIKLOSB</td><td>Részösszeg</td><td>15</td></tr>",
                            "<tr><td>MONIKAM</td><td>GLS</td><td>133</td></tr>",
                            "<tr><td>MONIKAM</td><td>Posta</td><td>151</td></tr>",
                            "<tr><td>MONIKAM</td><td>Személyes átvétel</td><td>123</td></tr>",
                            "<tr><td>MONIKAM</td><td>Részösszeg</td><td>407</td></tr>",
                            "<tr><td>NANDORF</td><td>GLS</td><td>147</td></tr>",
                            "<tr><td>NANDORF</td><td>Posta</td><td>139</td></tr>",
                            "<tr><td>NANDORF</td><td>Személyes átvétel</td><td>134</td></tr>",
                            "<tr><td>NANDORF</td><td>Részösszeg</td><td>420</td></tr>",
                            "<tr><td>nikolett3</td><td>GLS</td><td>4</td></tr>",
                            "<tr><td>nikolett3</td><td>Posta</td><td>3</td></tr>",
                            "<tr><td>nikolett3</td><td>Személyes átvétel</td><td>10</td></tr>",
                            "<tr><td>nikolett3</td><td>Részösszeg</td><td>17</td></tr>",
                            "<tr><td>nikoletta4</td><td>GLS</td><td>137</td></tr>",
                            "<tr><td>nikoletta4</td><td>Posta</td><td>158</td></tr>",
                            "<tr><td>nikoletta4</td><td>Személyes átvétel</td><td>119</td></tr>",
                            "<tr><td>nikoletta4</td><td>Részösszeg</td><td>414</td></tr>",
                            "<tr><td>NIKOLETTAT</td><td>GLS</td><td>13</td></tr>",
                            "<tr><td>NIKOLETTAT</td><td>Posta</td><td>7</td></tr>",
                            "<tr><td>NIKOLETTAT</td><td>Személyes átvétel</td><td>5</td></tr>",
                            "<tr><td>NIKOLETTAT</td><td>Részösszeg</td><td>25</td></tr>",
                            "<tr><td>norbert2</td><td>GLS</td><td>7</td></tr>",
                            "<tr><td>norbert2</td><td>Posta</td><td>4</td></tr>",
                            "<tr><td>norbert2</td><td>Részösszeg</td><td>11</td></tr>",
                            "<tr><td>norbert4</td><td>GLS</td><td>1</td></tr>",
                            "<tr><td>norbert4</td><td>Posta</td><td>3</td></tr>",
                            "<tr><td>norbert4</td><td>Személyes átvétel</td><td>9</td></tr>",
                            "<tr><td>norbert4</td><td>Részösszeg</td><td>13</td></tr>",
                            "<tr><td>norbert5</td><td>GLS</td><td>1</td></tr>",
                            "<tr><td>norbert5</td><td>Posta</td><td>6</td></tr>",
                            "<tr><td>norbert5</td><td>Személyes átvétel</td><td>9</td></tr>",
                            "<tr><td>norbert5</td><td>Részösszeg</td><td>16</td></tr>",
                            "<tr><td>pal</td><td>GLS</td><td>152</td></tr>",
                            "<tr><td>pal</td><td>Posta</td><td>132</td></tr>",
                            "<tr><td>pal</td><td>Személyes átvétel</td><td>154</td></tr>",
                            "<tr><td>pal</td><td>Részösszeg</td><td>438</td></tr>",
                            "<tr><td>peter1</td><td>GLS</td><td>151</td></tr>",
                            "<tr><td>peter1</td><td>Posta</td><td>135</td></tr>",
                            "<tr><td>peter1</td><td>Személyes átvétel</td><td>126</td></tr>",
                            "<tr><td>peter1</td><td>Részösszeg</td><td>412</td></tr>",
                            "<tr><td>peter2</td><td>GLS</td><td>7</td></tr>",
                            "<tr><td>peter2</td><td>Posta</td><td>4</td></tr>",
                            "<tr><td>peter2</td><td>Személyes átvétel</td><td>7</td></tr>",
                            "<tr><td>peter2</td><td>Részösszeg</td><td>18</td></tr>",
                            "<tr><td>peter3</td><td>GLS</td><td>8</td></tr>",
                            "<tr><td>peter3</td><td>Posta</td><td>7</td></tr>",
                            "<tr><td>peter3</td><td>Személyes átvétel</td><td>10</td></tr>",
                            "<tr><td>peter3</td><td>Részösszeg</td><td>25</td></tr>",
                            "<tr><td>peter4</td><td>GLS</td><td>266</td></tr>",
                            "<tr><td>peter4</td><td>Posta</td><td>293</td></tr>",
                            "<tr><td>peter4</td><td>Személyes átvétel</td><td>293</td></tr>",
                            "<tr><td>peter4</td><td>Részösszeg</td><td>852</td></tr>",
                            "<tr><td>PETERB</td><td>GLS</td><td>2</td></tr>",
                            "<tr><td>PETERB</td><td>Posta</td><td>4</td></tr>",
                            "<tr><td>PETERB</td><td>Személyes átvétel</td><td>9</td></tr>",
                            "<tr><td>PETERB</td><td>Részösszeg</td><td>15</td></tr>",
                            "<tr><td>polla</td><td>GLS</td><td>9</td></tr>",
                            "<tr><td>polla</td><td>Posta</td><td>6</td></tr>",
                            "<tr><td>polla</td><td>Személyes átvétel</td><td>7</td></tr>",
                            "<tr><td>polla</td><td>Részösszeg</td><td>22</td></tr>",
                            "<tr><td>rajmond4</td><td>GLS</td><td>6</td></tr>",
                            "<tr><td>rajmond4</td><td>Posta</td><td>5</td></tr>",
                            "<tr><td>rajmond4</td><td>Személyes átvétel</td><td>6</td></tr>",
                            "<tr><td>rajmond4</td><td>Részösszeg</td><td>17</td></tr>",
                            "<tr><td>reka4</td><td>GLS</td><td>5</td></tr>",
                            "<tr><td>reka4</td><td>Posta</td><td>4</td></tr>",
                            "<tr><td>reka4</td><td>Személyes átvétel</td><td>11</td></tr>",
                            "<tr><td>reka4</td><td>Részösszeg</td><td>20</td></tr>",
                            "<tr><td>RENATAK</td><td>GLS</td><td>135</td></tr>",
                            "<tr><td>RENATAK</td><td>Posta</td><td>140</td></tr>",
                            "<tr><td>RENATAK</td><td>Személyes átvétel</td><td>147</td></tr>",
                            "<tr><td>RENATAK</td><td>Részösszeg</td><td>422</td></tr>",
                            "<tr><td>RENATAS</td><td>GLS</td><td>6</td></tr>",
                            "<tr><td>RENATAS</td><td>Posta</td><td>5</td></tr>",
                            "<tr><td>RENATAS</td><td>Személyes átvétel</td><td>5</td></tr>",
                            "<tr><td>RENATAS</td><td>Részösszeg</td><td>16</td></tr>",
                            "<tr><td>robert2</td><td>GLS</td><td>5</td></tr>",
                            "<tr><td>robert2</td><td>Posta</td><td>1</td></tr>",
                            "<tr><td>robert2</td><td>Személyes átvétel</td><td>7</td></tr>",
                            "<tr><td>robert2</td><td>Részösszeg</td><td>13</td></tr>",
                            "<tr><td>ROBERTI</td><td>GLS</td><td>5</td></tr>",
                            "<tr><td>ROBERTI</td><td>Posta</td><td>3</td></tr>",
                            "<tr><td>ROBERTI</td><td>Személyes átvétel</td><td>5</td></tr>",
                            "<tr><td>ROBERTI</td><td>Részösszeg</td><td>13</td></tr>",
                            "<tr><td>ROBERTP</td><td>GLS</td><td>8</td></tr>",
                            "<tr><td>ROBERTP</td><td>Posta</td><td>8</td></tr>",
                            "<tr><td>ROBERTP</td><td>Személyes átvétel</td><td>10</td></tr>",
                            "<tr><td>ROBERTP</td><td>Részösszeg</td><td>26</td></tr>",
                            "<tr><td>roland</td><td>GLS</td><td>132</td></tr>",
                            "<tr><td>roland</td><td>Posta</td><td>157</td></tr>",
                            "<tr><td>roland</td><td>Személyes átvétel</td><td>125</td></tr>",
                            "<tr><td>roland</td><td>Részösszeg</td><td>414</td></tr>",
                            "<tr><td>roland1</td><td>GLS</td><td>142</td></tr>",
                            "<tr><td>roland1</td><td>Posta</td><td>155</td></tr>",
                            "<tr><td>roland1</td><td>Személyes átvétel</td><td>135</td></tr>",
                            "<tr><td>roland1</td><td>Részösszeg</td><td>432</td></tr>",
                            "<tr><td>roza2</td><td>GLS</td><td>3</td></tr>",
                            "<tr><td>roza2</td><td>Posta</td><td>2</td></tr>",
                            "<tr><td>roza2</td><td>Személyes átvétel</td><td>3</td></tr>",
                            "<tr><td>roza2</td><td>Részösszeg</td><td>8</td></tr>",
                            "<tr><td>sandor</td><td>GLS</td><td>4</td></tr>",
                            "<tr><td>sandor</td><td>Posta</td><td>6</td></tr>",
                            "<tr><td>sandor</td><td>Személyes átvétel</td><td>7</td></tr>",
                            "<tr><td>sandor</td><td>Részösszeg</td><td>17</td></tr>",
                            "<tr><td>sandor3</td><td>GLS</td><td>4</td></tr>",
                            "<tr><td>sandor3</td><td>Posta</td><td>4</td></tr>",
                            "<tr><td>sandor3</td><td>Személyes átvétel</td><td>6</td></tr>",
                            "<tr><td>sandor3</td><td>Részösszeg</td><td>14</td></tr>",
                            "<tr><td>sandor4</td><td>GLS</td><td>4</td></tr>",
                            "<tr><td>sandor4</td><td>Posta</td><td>2</td></tr>",
                            "<tr><td>sandor4</td><td>Személyes átvétel</td><td>5</td></tr>",
                            "<tr><td>sandor4</td><td>Részösszeg</td><td>11</td></tr>",
                            "<tr><td>sara</td><td>GLS</td><td>4</td></tr>",
                            "<tr><td>sara</td><td>Posta</td><td>7</td></tr>",
                            "<tr><td>sara</td><td>Személyes átvétel</td><td>9</td></tr>",
                            "<tr><td>sara</td><td>Részösszeg</td><td>20</td></tr>",
                            "<tr><td>SEBASTIANF</td><td>GLS</td><td>6</td></tr>",
                            "<tr><td>SEBASTIANF</td><td>Posta</td><td>3</td></tr>",
                            "<tr><td>SEBASTIANF</td><td>Személyes átvétel</td><td>6</td></tr>",
                            "<tr><td>SEBASTIANF</td><td>Részösszeg</td><td>15</td></tr>",
                            "<tr><td>sebestyen</td><td>GLS</td><td>4</td></tr>",
                            "<tr><td>sebestyen</td><td>Posta</td><td>6</td></tr>",
                            "<tr><td>sebestyen</td><td>Személyes átvétel</td><td>6</td></tr>",
                            "<tr><td>sebestyen</td><td>Részösszeg</td><td>16</td></tr>",
                            "<tr><td>szabolcs</td><td>GLS</td><td>145</td></tr>",
                            "<tr><td>szabolcs</td><td>Posta</td><td>157</td></tr>",
                            "<tr><td>szabolcs</td><td>Személyes átvétel</td><td>169</td></tr>",
                            "<tr><td>szabolcs</td><td>Részösszeg</td><td>471</td></tr>",
                            "<tr><td>SZABOLCSM</td><td>GLS</td><td>126</td></tr>",
                            "<tr><td>SZABOLCSM</td><td>Posta</td><td>153</td></tr>",
                            "<tr><td>SZABOLCSM</td><td>Személyes átvétel</td><td>129</td></tr>",
                            "<tr><td>SZABOLCSM</td><td>Részösszeg</td><td>408</td></tr>",
                            "<tr><td>SZILARDS</td><td>GLS</td><td>144</td></tr>",
                            "<tr><td>SZILARDS</td><td>Posta</td><td>131</td></tr>",
                            "<tr><td>SZILARDS</td><td>Személyes átvétel</td><td>111</td></tr>",
                            "<tr><td>SZILARDS</td><td>Részösszeg</td><td>386</td></tr>",
                            "<tr><td>szilvia1</td><td>GLS</td><td>156</td></tr>",
                            "<tr><td>szilvia1</td><td>Posta</td><td>151</td></tr>",
                            "<tr><td>szilvia1</td><td>Személyes átvétel</td><td>138</td></tr>",
                            "<tr><td>szilvia1</td><td>Részösszeg</td><td>445</td></tr>",
                            "<tr><td>tamara2</td><td>GLS</td><td>6</td></tr>",
                            "<tr><td>tamara2</td><td>Posta</td><td>4</td></tr>",
                            "<tr><td>tamara2</td><td>Személyes átvétel</td><td>3</td></tr>",
                            "<tr><td>tamara2</td><td>Részösszeg</td><td>13</td></tr>",
                            "<tr><td>tamas</td><td>GLS</td><td>143</td></tr>",
                            "<tr><td>tamas</td><td>Posta</td><td>156</td></tr>",
                            "<tr><td>tamas</td><td>Személyes átvétel</td><td>122</td></tr>",
                            "<tr><td>tamas</td><td>Részösszeg</td><td>421</td></tr>",
                            "<tr><td>TAMASF</td><td>GLS</td><td>159</td></tr>",
                            "<tr><td>TAMASF</td><td>Posta</td><td>145</td></tr>",
                            "<tr><td>TAMASF</td><td>Személyes átvétel</td><td>129</td></tr>",
                            "<tr><td>TAMASF</td><td>Részösszeg</td><td>433</td></tr>",
                            "<tr><td>tibor</td><td>GLS</td><td>115</td></tr>",
                            "<tr><td>tibor</td><td>Posta</td><td>129</td></tr>",
                            "<tr><td>tibor</td><td>Személyes átvétel</td><td>130</td></tr>",
                            "<tr><td>tibor</td><td>Részösszeg</td><td>374</td></tr>",
                            "<tr><td>tibor2</td><td>GLS</td><td>7</td></tr>",
                            "<tr><td>tibor2</td><td>Posta</td><td>7</td></tr>",
                            "<tr><td>tibor2</td><td>Személyes átvétel</td><td>11</td></tr>",
                            "<tr><td>tibor2</td><td>Részösszeg</td><td>25</td></tr>",
                            "<tr><td>tihamer</td><td>GLS</td><td>9</td></tr>",
                            "<tr><td>tihamer</td><td>Posta</td><td>6</td></tr>",
                            "<tr><td>tihamer</td><td>Személyes átvétel</td><td>5</td></tr>",
                            "<tr><td>tihamer</td><td>Részösszeg</td><td>20</td></tr>",
                            "<tr><td>timea</td><td>GLS</td><td>14</td></tr>",
                            "<tr><td>timea</td><td>Posta</td><td>23</td></tr>",
                            "<tr><td>timea</td><td>Személyes átvétel</td><td>18</td></tr>",
                            "<tr><td>timea</td><td>Részösszeg</td><td>55</td></tr>",
                            "<tr><td>timea2</td><td>GLS</td><td>1</td></tr>",
                            "<tr><td>timea2</td><td>Posta</td><td>5</td></tr>",
                            "<tr><td>timea2</td><td>Személyes átvétel</td><td>10</td></tr>",
                            "<tr><td>timea2</td><td>Részösszeg</td><td>16</td></tr>",
                            "<tr><td>tunde</td><td>GLS</td><td>6</td></tr>",
                            "<tr><td>tunde</td><td>Posta</td><td>6</td></tr>",
                            "<tr><td>tunde</td><td>Személyes átvétel</td><td>4</td></tr>",
                            "<tr><td>tunde</td><td>Részösszeg</td><td>16</td></tr>",
                            "<tr><td>valentin</td><td>GLS</td><td>5</td></tr>",
                            "<tr><td>valentin</td><td>Posta</td><td>5</td></tr>",
                            "<tr><td>valentin</td><td>Személyes átvétel</td><td>3</td></tr>",
                            "<tr><td>valentin</td><td>Részösszeg</td><td>13</td></tr>",
                            "<tr><td>veronika4</td><td>GLS</td><td>5</td></tr>",
                            "<tr><td>veronika4</td><td>Posta</td><td>6</td></tr>",
                            "<tr><td>veronika4</td><td>Személyes átvétel</td><td>7</td></tr>",
                            "<tr><td>veronika4</td><td>Részösszeg</td><td>18</td></tr>",
                            "<tr><td>VIKTORIAU</td><td>GLS</td><td>5</td></tr>",
                            "<tr><td>VIKTORIAU</td><td>Posta</td><td>4</td></tr>",
                            "<tr><td>VIKTORIAU</td><td>Személyes átvétel</td><td>5</td></tr>",
                            "<tr><td>VIKTORIAU</td><td>Részösszeg</td><td>14</td></tr>",
                            "<tr><td>VIKTORK</td><td>GLS</td><td>8</td></tr>",
                            "<tr><td>VIKTORK</td><td>Posta</td><td>6</td></tr>",
                            "<tr><td>VIKTORK</td><td>Személyes átvétel</td><td>6</td></tr>",
                            "<tr><td>VIKTORK</td><td>Részösszeg</td><td>20</td></tr>",
                            "<tr><td>vivien3</td><td>GLS</td><td>9</td></tr>",
                            "<tr><td>vivien3</td><td>Posta</td><td>6</td></tr>",
                            "<tr><td>vivien3</td><td>Személyes átvétel</td><td>7</td></tr>",
                            "<tr><td>vivien3</td><td>Részösszeg</td><td>22</td></tr>",
                            "<tr><td>zoltan</td><td>GLS</td><td>5</td></tr>",
                            "<tr><td>zoltan</td><td>Posta</td><td>3</td></tr>",
                            "<tr><td>zoltan</td><td>Személyes átvétel</td><td>7</td></tr>",
                            "<tr><td>zoltan</td><td>Részösszeg</td><td>15</td></tr>",
                            "<tr><td>zoltan4</td><td>GLS</td><td>129</td></tr>",
                            "<tr><td>zoltan4</td><td>Posta</td><td>124</td></tr>",
                            "<tr><td>zoltan4</td><td>Személyes átvétel</td><td>171</td></tr>",
                            "<tr><td>zoltan4</td><td>Részösszeg</td><td>424</td></tr>",
                            "<tr><td>ZOLTANP</td><td>GLS</td><td>6</td></tr>",
                            "<tr><td>ZOLTANP</td><td>Posta</td><td>3</td></tr>",
                            "<tr><td>ZOLTANP</td><td>Személyes átvétel</td><td>4</td></tr>",
                            "<tr><td>ZOLTANP</td><td>Részösszeg</td><td>13</td></tr>",
                            "<tr><td>ZOLTANT</td><td>GLS</td><td>127</td></tr>",
                            "<tr><td>ZOLTANT</td><td>Posta</td><td>107</td></tr>",
                            "<tr><td>ZOLTANT</td><td>Személyes átvétel</td><td>123</td></tr>",
                            "<tr><td>ZOLTANT</td><td>Részösszeg</td><td>357</td></tr>",
                            "<tr><td>zsofi1</td><td>GLS</td><td>7</td></tr>",
                            "<tr><td>zsofi1</td><td>Posta</td><td>6</td></tr>",
                            "<tr><td>zsofi1</td><td>Személyes átvétel</td><td>6</td></tr>",
                            "<tr><td>zsofi1</td><td>Részösszeg</td><td>19</td></tr>",
                            "<tr><td>zsolt1</td><td>GLS</td><td>11</td></tr>",
                            "<tr><td>zsolt1</td><td>Posta</td><td>6</td></tr>",
                            "<tr><td>zsolt1</td><td>Személyes átvétel</td><td>3</td></tr>",
                            "<tr><td>zsolt1</td><td>Részösszeg</td><td>20</td></tr>",
                            "<tr><td>ZSOLTJ</td><td>GLS</td><td>1</td></tr>",
                            "<tr><td>ZSOLTJ</td><td>Posta</td><td>8</td></tr>",
                            "<tr><td>ZSOLTJ</td><td>Személyes átvétel</td><td>9</td></tr>",
                            "<tr><td>ZSOLTJ</td><td>Részösszeg</td><td>18</td></tr>",
                            "<tr><td>zsuzsa</td><td>GLS</td><td>8</td></tr>",
                            "<tr><td>zsuzsa</td><td>Posta</td><td>5</td></tr>",
                            "<tr><td>zsuzsa</td><td>Személyes átvétel</td><td>3</td></tr>",
                            "<tr><td>zsuzsa</td><td>Részösszeg</td><td>16</td></tr>",
                            "<tr><td>zsuzsa3</td><td>GLS</td><td>5</td></tr>",
                            "<tr><td>zsuzsa3</td><td>Posta</td><td>5</td></tr>",
                            "<tr><td>zsuzsa3</td><td>Személyes átvétel</td><td>6</td></tr>",
                            "<tr><td>zsuzsa3</td><td>Részösszeg</td><td>16</td></tr>",
                            "<tr><td>zsuzsanna</td><td>GLS</td><td>7</td></tr>",
                            "<tr><td>zsuzsanna</td><td>Posta</td><td>5</td></tr>",
                            "<tr><td>zsuzsanna</td><td>Személyes átvétel</td><td>3</td></tr>",
                            "<tr><td>zsuzsanna</td><td>Részösszeg</td><td>15</td></tr>",
                            "<tr><td>ZSUZSAV</td><td>GLS</td><td>139</td></tr>",
                            "<tr><td>ZSUZSAV</td><td>Posta</td><td>139</td></tr>",
                            "<tr><td>ZSUZSAV</td><td>Személyes átvétel</td><td>142</td></tr>",
                            "<tr><td>ZSUZSAV</td><td>Részösszeg</td><td>420</td></tr>",
                            "<tr><td>Végösszeg</td><td>Végösszeg</td><td>28085</td></tr>",
                            "</table>"
                        ]
                    }
                }
            ],
            "execution_count": 1
        },
        {
            "cell_type": "markdown",
            "source": [
                "2. <span style=\"background-color: rgb(255, 255, 255); color: rgb(0, 0, 0); font-family: &quot;Open Sans&quot;, sans-serif; font-size: 14.44px;\">Készítsünk listát a termékek számáról a következő csoportosítási szempontok szerint:<br>kategória azonosító, raktárkód, raktárkód+mennyiségi egység!</span>\n",
                "\n",
                "a. A listát szűrjük azokra a csoportokra, ahol a termékek száma legalább 6!"
            ],
            "metadata": {
                "azdata_cell_guid": "ea75c103-911f-41a3-a32c-3d40fb3e4e4a"
            },
            "attachments": {}
        },
        {
            "cell_type": "code",
            "source": [
                "SELECT KAT_ID, RAKTAR_KOD, MEGYS, COUNT(*)\r\n",
                "FROM Termek\r\n",
                "GROUP by GROUPING sets( KAT_ID,RAKTAR_KOD, (RAKTAR_KOD, MEGYS))\r\n",
                "HAVING COUNT(*)>=6"
            ],
            "metadata": {
                "azdata_cell_guid": "222b9618-a8e8-42b4-a8e8-d002257122b7",
                "language": "sql"
            },
            "outputs": [
                {
                    "output_type": "display_data",
                    "data": {
                        "text/html": "(49 rows affected)"
                    },
                    "metadata": {}
                },
                {
                    "output_type": "display_data",
                    "data": {
                        "text/html": "Total execution time: 00:00:00.018"
                    },
                    "metadata": {}
                },
                {
                    "output_type": "execute_result",
                    "metadata": {},
                    "execution_count": 6,
                    "data": {
                        "application/vnd.dataresource+json": {
                            "schema": {
                                "fields": [
                                    {
                                        "name": "KAT_ID"
                                    },
                                    {
                                        "name": "RAKTAR_KOD"
                                    },
                                    {
                                        "name": "MEGYS"
                                    },
                                    {
                                        "name": "(No column name)"
                                    }
                                ]
                            },
                            "data": [
                                {
                                    "KAT_ID": "NULL",
                                    "RAKTAR_KOD": "1",
                                    "MEGYS": "db",
                                    "(No column name)": "11"
                                },
                                {
                                    "KAT_ID": "NULL",
                                    "RAKTAR_KOD": "1",
                                    "MEGYS": "NULL",
                                    "(No column name)": "11"
                                },
                                {
                                    "KAT_ID": "NULL",
                                    "RAKTAR_KOD": "3",
                                    "MEGYS": "db",
                                    "(No column name)": "14"
                                },
                                {
                                    "KAT_ID": "NULL",
                                    "RAKTAR_KOD": "3",
                                    "MEGYS": "NULL",
                                    "(No column name)": "14"
                                },
                                {
                                    "KAT_ID": "NULL",
                                    "RAKTAR_KOD": "5",
                                    "MEGYS": "csomag",
                                    "(No column name)": "7"
                                },
                                {
                                    "KAT_ID": "NULL",
                                    "RAKTAR_KOD": "5",
                                    "MEGYS": "db",
                                    "(No column name)": "72"
                                },
                                {
                                    "KAT_ID": "NULL",
                                    "RAKTAR_KOD": "5",
                                    "MEGYS": "NULL",
                                    "(No column name)": "86"
                                },
                                {
                                    "KAT_ID": "NULL",
                                    "RAKTAR_KOD": "6",
                                    "MEGYS": "csomag",
                                    "(No column name)": "9"
                                },
                                {
                                    "KAT_ID": "NULL",
                                    "RAKTAR_KOD": "6",
                                    "MEGYS": "db",
                                    "(No column name)": "94"
                                },
                                {
                                    "KAT_ID": "NULL",
                                    "RAKTAR_KOD": "6",
                                    "MEGYS": "NULL",
                                    "(No column name)": "106"
                                },
                                {
                                    "KAT_ID": "NULL",
                                    "RAKTAR_KOD": "7",
                                    "MEGYS": "csomag",
                                    "(No column name)": "9"
                                },
                                {
                                    "KAT_ID": "NULL",
                                    "RAKTAR_KOD": "7",
                                    "MEGYS": "db",
                                    "(No column name)": "88"
                                },
                                {
                                    "KAT_ID": "NULL",
                                    "RAKTAR_KOD": "7",
                                    "MEGYS": "NULL",
                                    "(No column name)": "100"
                                },
                                {
                                    "KAT_ID": "NULL",
                                    "RAKTAR_KOD": "8",
                                    "MEGYS": "csomag",
                                    "(No column name)": "8"
                                },
                                {
                                    "KAT_ID": "NULL",
                                    "RAKTAR_KOD": "8",
                                    "MEGYS": "db",
                                    "(No column name)": "109"
                                },
                                {
                                    "KAT_ID": "NULL",
                                    "RAKTAR_KOD": "8",
                                    "MEGYS": "ív",
                                    "(No column name)": "6"
                                },
                                {
                                    "KAT_ID": "NULL",
                                    "RAKTAR_KOD": "8",
                                    "MEGYS": "NULL",
                                    "(No column name)": "123"
                                },
                                {
                                    "KAT_ID": "NULL",
                                    "RAKTAR_KOD": "9",
                                    "MEGYS": "csomag",
                                    "(No column name)": "11"
                                },
                                {
                                    "KAT_ID": "NULL",
                                    "RAKTAR_KOD": "9",
                                    "MEGYS": "db",
                                    "(No column name)": "86"
                                },
                                {
                                    "KAT_ID": "NULL",
                                    "RAKTAR_KOD": "9",
                                    "MEGYS": "NULL",
                                    "(No column name)": "102"
                                },
                                {
                                    "KAT_ID": "4",
                                    "RAKTAR_KOD": "NULL",
                                    "MEGYS": "NULL",
                                    "(No column name)": "15"
                                },
                                {
                                    "KAT_ID": "6",
                                    "RAKTAR_KOD": "NULL",
                                    "MEGYS": "NULL",
                                    "(No column name)": "20"
                                },
                                {
                                    "KAT_ID": "16",
                                    "RAKTAR_KOD": "NULL",
                                    "MEGYS": "NULL",
                                    "(No column name)": "7"
                                },
                                {
                                    "KAT_ID": "19",
                                    "RAKTAR_KOD": "NULL",
                                    "MEGYS": "NULL",
                                    "(No column name)": "19"
                                },
                                {
                                    "KAT_ID": "24",
                                    "RAKTAR_KOD": "NULL",
                                    "MEGYS": "NULL",
                                    "(No column name)": "7"
                                },
                                {
                                    "KAT_ID": "30",
                                    "RAKTAR_KOD": "NULL",
                                    "MEGYS": "NULL",
                                    "(No column name)": "7"
                                },
                                {
                                    "KAT_ID": "35",
                                    "RAKTAR_KOD": "NULL",
                                    "MEGYS": "NULL",
                                    "(No column name)": "7"
                                },
                                {
                                    "KAT_ID": "41",
                                    "RAKTAR_KOD": "NULL",
                                    "MEGYS": "NULL",
                                    "(No column name)": "13"
                                },
                                {
                                    "KAT_ID": "45",
                                    "RAKTAR_KOD": "NULL",
                                    "MEGYS": "NULL",
                                    "(No column name)": "11"
                                },
                                {
                                    "KAT_ID": "46",
                                    "RAKTAR_KOD": "NULL",
                                    "MEGYS": "NULL",
                                    "(No column name)": "7"
                                },
                                {
                                    "KAT_ID": "52",
                                    "RAKTAR_KOD": "NULL",
                                    "MEGYS": "NULL",
                                    "(No column name)": "26"
                                },
                                {
                                    "KAT_ID": "54",
                                    "RAKTAR_KOD": "NULL",
                                    "MEGYS": "NULL",
                                    "(No column name)": "6"
                                },
                                {
                                    "KAT_ID": "66",
                                    "RAKTAR_KOD": "NULL",
                                    "MEGYS": "NULL",
                                    "(No column name)": "7"
                                },
                                {
                                    "KAT_ID": "78",
                                    "RAKTAR_KOD": "NULL",
                                    "MEGYS": "NULL",
                                    "(No column name)": "24"
                                },
                                {
                                    "KAT_ID": "83",
                                    "RAKTAR_KOD": "NULL",
                                    "MEGYS": "NULL",
                                    "(No column name)": "6"
                                },
                                {
                                    "KAT_ID": "85",
                                    "RAKTAR_KOD": "NULL",
                                    "MEGYS": "NULL",
                                    "(No column name)": "16"
                                },
                                {
                                    "KAT_ID": "91",
                                    "RAKTAR_KOD": "NULL",
                                    "MEGYS": "NULL",
                                    "(No column name)": "7"
                                },
                                {
                                    "KAT_ID": "93",
                                    "RAKTAR_KOD": "NULL",
                                    "MEGYS": "NULL",
                                    "(No column name)": "7"
                                },
                                {
                                    "KAT_ID": "96",
                                    "RAKTAR_KOD": "NULL",
                                    "MEGYS": "NULL",
                                    "(No column name)": "9"
                                },
                                {
                                    "KAT_ID": "97",
                                    "RAKTAR_KOD": "NULL",
                                    "MEGYS": "NULL",
                                    "(No column name)": "10"
                                },
                                {
                                    "KAT_ID": "100",
                                    "RAKTAR_KOD": "NULL",
                                    "MEGYS": "NULL",
                                    "(No column name)": "9"
                                },
                                {
                                    "KAT_ID": "118",
                                    "RAKTAR_KOD": "NULL",
                                    "MEGYS": "NULL",
                                    "(No column name)": "9"
                                },
                                {
                                    "KAT_ID": "122",
                                    "RAKTAR_KOD": "NULL",
                                    "MEGYS": "NULL",
                                    "(No column name)": "7"
                                },
                                {
                                    "KAT_ID": "124",
                                    "RAKTAR_KOD": "NULL",
                                    "MEGYS": "NULL",
                                    "(No column name)": "10"
                                },
                                {
                                    "KAT_ID": "133",
                                    "RAKTAR_KOD": "NULL",
                                    "MEGYS": "NULL",
                                    "(No column name)": "6"
                                },
                                {
                                    "KAT_ID": "145",
                                    "RAKTAR_KOD": "NULL",
                                    "MEGYS": "NULL",
                                    "(No column name)": "18"
                                },
                                {
                                    "KAT_ID": "146",
                                    "RAKTAR_KOD": "NULL",
                                    "MEGYS": "NULL",
                                    "(No column name)": "7"
                                },
                                {
                                    "KAT_ID": "149",
                                    "RAKTAR_KOD": "NULL",
                                    "MEGYS": "NULL",
                                    "(No column name)": "6"
                                },
                                {
                                    "KAT_ID": "152",
                                    "RAKTAR_KOD": "NULL",
                                    "MEGYS": "NULL",
                                    "(No column name)": "6"
                                }
                            ]
                        },
                        "text/html": [
                            "<table>",
                            "<tr><th>KAT_ID</th><th>RAKTAR_KOD</th><th>MEGYS</th><th>(No column name)</th></tr>",
                            "<tr><td>NULL</td><td>1</td><td>db</td><td>11</td></tr>",
                            "<tr><td>NULL</td><td>1</td><td>NULL</td><td>11</td></tr>",
                            "<tr><td>NULL</td><td>3</td><td>db</td><td>14</td></tr>",
                            "<tr><td>NULL</td><td>3</td><td>NULL</td><td>14</td></tr>",
                            "<tr><td>NULL</td><td>5</td><td>csomag</td><td>7</td></tr>",
                            "<tr><td>NULL</td><td>5</td><td>db</td><td>72</td></tr>",
                            "<tr><td>NULL</td><td>5</td><td>NULL</td><td>86</td></tr>",
                            "<tr><td>NULL</td><td>6</td><td>csomag</td><td>9</td></tr>",
                            "<tr><td>NULL</td><td>6</td><td>db</td><td>94</td></tr>",
                            "<tr><td>NULL</td><td>6</td><td>NULL</td><td>106</td></tr>",
                            "<tr><td>NULL</td><td>7</td><td>csomag</td><td>9</td></tr>",
                            "<tr><td>NULL</td><td>7</td><td>db</td><td>88</td></tr>",
                            "<tr><td>NULL</td><td>7</td><td>NULL</td><td>100</td></tr>",
                            "<tr><td>NULL</td><td>8</td><td>csomag</td><td>8</td></tr>",
                            "<tr><td>NULL</td><td>8</td><td>db</td><td>109</td></tr>",
                            "<tr><td>NULL</td><td>8</td><td>ív</td><td>6</td></tr>",
                            "<tr><td>NULL</td><td>8</td><td>NULL</td><td>123</td></tr>",
                            "<tr><td>NULL</td><td>9</td><td>csomag</td><td>11</td></tr>",
                            "<tr><td>NULL</td><td>9</td><td>db</td><td>86</td></tr>",
                            "<tr><td>NULL</td><td>9</td><td>NULL</td><td>102</td></tr>",
                            "<tr><td>4</td><td>NULL</td><td>NULL</td><td>15</td></tr>",
                            "<tr><td>6</td><td>NULL</td><td>NULL</td><td>20</td></tr>",
                            "<tr><td>16</td><td>NULL</td><td>NULL</td><td>7</td></tr>",
                            "<tr><td>19</td><td>NULL</td><td>NULL</td><td>19</td></tr>",
                            "<tr><td>24</td><td>NULL</td><td>NULL</td><td>7</td></tr>",
                            "<tr><td>30</td><td>NULL</td><td>NULL</td><td>7</td></tr>",
                            "<tr><td>35</td><td>NULL</td><td>NULL</td><td>7</td></tr>",
                            "<tr><td>41</td><td>NULL</td><td>NULL</td><td>13</td></tr>",
                            "<tr><td>45</td><td>NULL</td><td>NULL</td><td>11</td></tr>",
                            "<tr><td>46</td><td>NULL</td><td>NULL</td><td>7</td></tr>",
                            "<tr><td>52</td><td>NULL</td><td>NULL</td><td>26</td></tr>",
                            "<tr><td>54</td><td>NULL</td><td>NULL</td><td>6</td></tr>",
                            "<tr><td>66</td><td>NULL</td><td>NULL</td><td>7</td></tr>",
                            "<tr><td>78</td><td>NULL</td><td>NULL</td><td>24</td></tr>",
                            "<tr><td>83</td><td>NULL</td><td>NULL</td><td>6</td></tr>",
                            "<tr><td>85</td><td>NULL</td><td>NULL</td><td>16</td></tr>",
                            "<tr><td>91</td><td>NULL</td><td>NULL</td><td>7</td></tr>",
                            "<tr><td>93</td><td>NULL</td><td>NULL</td><td>7</td></tr>",
                            "<tr><td>96</td><td>NULL</td><td>NULL</td><td>9</td></tr>",
                            "<tr><td>97</td><td>NULL</td><td>NULL</td><td>10</td></tr>",
                            "<tr><td>100</td><td>NULL</td><td>NULL</td><td>9</td></tr>",
                            "<tr><td>118</td><td>NULL</td><td>NULL</td><td>9</td></tr>",
                            "<tr><td>122</td><td>NULL</td><td>NULL</td><td>7</td></tr>",
                            "<tr><td>124</td><td>NULL</td><td>NULL</td><td>10</td></tr>",
                            "<tr><td>133</td><td>NULL</td><td>NULL</td><td>6</td></tr>",
                            "<tr><td>145</td><td>NULL</td><td>NULL</td><td>18</td></tr>",
                            "<tr><td>146</td><td>NULL</td><td>NULL</td><td>7</td></tr>",
                            "<tr><td>149</td><td>NULL</td><td>NULL</td><td>6</td></tr>",
                            "<tr><td>152</td><td>NULL</td><td>NULL</td><td>6</td></tr>",
                            "</table>"
                        ]
                    }
                }
            ],
            "execution_count": 6
        },
        {
            "cell_type": "markdown",
            "source": [
                "```\n",
                "3. Készítsünk listát az egyes termékkategóriákban lévő termékek számáról! \n",
                "\n",
                "```\n",
                "\n",
                "a. Elég megjeleníteni a kategóriák azonosítóit és a darabszámokat!   \n",
                "<span style=\"color: var(--vscode-foreground);\">b. A lista megfelelően jelölve tartalmazza a végösszeget is!&nbsp;<br></span> <span style=\"color: var(--vscode-foreground);\">c. Az oszlopokat nevezzük el értelemszerűen!&nbsp;<br></span> <span style=\"color: var(--vscode-foreground);\">d. A listát rendezzük a darabszám szerint növekvő sorrendbe!</span>\n",
                "\n",
                "  \n",
                "\n",
                "![](https://moodle.uni-corvinus.hu/theme/image.php/adaptable/atto_h5p/1709548862/icon)"
            ],
            "metadata": {
                "azdata_cell_guid": "d7876bb9-76d0-4d07-baed-3cb17b2f96c3"
            },
            "attachments": {}
        },
        {
            "cell\r\n",
                "\r\n",
                "SELECT IIF(GROUPING_ID(KAT_ID) = 1,'Végösszeg',CAST(KAT_ID as  nvarchar(3))), COUNT(*) as 'darab'\r\n",
                "FROM Termek \r\n",
                "GROUP BY rollup (KAT_ID)\r\n",
                "ORDER BY COUNT(*) ASC"
            ],
            "metadata": {
                "azdata_cell_guid": "56ec19ce-e249-4551-b2a8-f17569765acc",
                "language": "sql"
            },
            "outputs": [
{
    "output_type": "display_data",
    "data": {
        "text/html": "(144 rows affected)"
    },
    "metadata": {}
}, {
    "output_type": "display_data",
    "data": {
        "text/html": "(144 rows affected)"
    },
    "metadata": {}
}, {
    "output_type": "display_data",
    "data": {
        "text/html": "Total execution time: 00:00:00.072"
    },
    "metadata": {}
}, {
    "output_type": "execute_result",
    "metadata": {},
    "execution_count": 9,
    "data": {
        "application/vnd.dataresource+json": {
            "schema": {
                "fields": [
                    {
                        "name": "KAT_ID"
                    },
                    {
                        "name": "(No column name)"
                    }
                ]
            },
            "data": [
                {
                    "KAT_ID": "10",
                    "(No column name)": "1"
                },
                {
                    "KAT_ID": "11",
                    "(No column name)": "1"
                },
                {
                    "KAT_ID": "12",
                    "(No column name)": "1"
                },
                {
                    "KAT_ID": "15",
                    "(No column name)": "1"
                },
                {
                    "KAT_ID": "17",
                    "(No column name)": "1"
                },
                {
                    "KAT_ID": "26",
                    "(No column name)": "1"
                },
                {
                    "KAT_ID": "29",
                    "(No column name)": "1"
                },
                {
                    "KAT_ID": "31",
                    "(No column name)": "1"
                },
                {
                    "KAT_ID": "33",
                    "(No column name)": "1"
                },
                {
                    "KAT_ID": "34",
                    "(No column name)": "1"
                },
                {
                    "KAT_ID": "37",
                    "(No column name)": "1"
                },
                {
                    "KAT_ID": "38",
                    "(No column name)": "1"
                },
                {
                    "KAT_ID": "40",
                    "(No column name)": "1"
                },
                {
                    "KAT_ID": "42",
                    "(No column name)": "1"
                },
                {
                    "KAT_ID": "44",
                    "(No column name)": "1"
                },
                {
                    "KAT_ID": "50",
                    "(No column name)": "1"
                },
                {
                    "KAT_ID": "53",
                    "(No column name)": "1"
                },
                {
                    "KAT_ID": "61",
                    "(No column name)": "1"
                },
                {
                    "KAT_ID": "74",
                    "(No column name)": "1"
                },
                {
                    "KAT_ID": "80",
                    "(No column name)": "1"
                },
                {
                    "KAT_ID": "82",
                    "(No column name)": "1"
                },
                {
                    "KAT_ID": "84",
                    "(No column name)": "1"
                },
                {
                    "KAT_ID": "86",
                    "(No column name)": "1"
                },
                {
                    "KAT_ID": "99",
                    "(No column name)": "1"
                },
                {
                    "KAT_ID": "101",
                    "(No column name)": "1"
                },
                {
                    "KAT_ID": "103",
                    "(No column name)": "1"
                },
                {
                    "KAT_ID": "105",
                    "(No column name)": "1"
                },
                {
                    "KAT_ID": "107",
                    "(No column name)": "1"
                },
                {
                    "KAT_ID": "108",
                    "(No column name)": "1"
                },
                {
                    "KAT_ID": "109",
                    "(No column name)": "1"
                },
                {
                    "KAT_ID": "114",
                    "(No column name)": "1"
                },
                {
                    "KAT_ID": "115",
                    "(No column name)": "1"
                },
                {
                    "KAT_ID": "126",
                    "(No column name)": "1"
                },
                {
                    "KAT_ID": "130",
                    "(No column name)": "1"
                },
                {
                    "KAT_ID": "131",
                    "(No column name)": "1"
                },
                {
                    "KAT_ID": "132",
                    "(No column name)": "1"
                },
                {
                    "KAT_ID": "135",
                    "(No column name)": "1"
                },
                {
                    "KAT_ID": "139",
                    "(No column name)": "1"
                },
                {
                    "KAT_ID": "140",
                    "(No column name)": "1"
                },
                {
                    "KAT_ID": "142",
                    "(No column name)": "1"
                },
                {
                    "KAT_ID": "147",
                    "(No column name)": "1"
                },
                {
                    "KAT_ID": "148",
                    "(No column name)": "1"
                },
                {
                    "KAT_ID": "153",
                    "(No column name)": "1"
                },
                {
                    "KAT_ID": "155",
                    "(No column name)": "1"
                },
                {
                    "KAT_ID": "150",
                    "(No column name)": "2"
                },
                {
                    "KAT_ID": "144",
                    "(No column name)": "2"
                },
                {
                    "KAT_ID": "141",
                    "(No column name)": "2"
                },
                {
                    "KAT_ID": "136",
                    "(No column name)": "2"
                },
                {
                    "KAT_ID": "123",
                    "(No column name)": "2"
                },
                {
                    "KAT_ID": "134",
                    "(No column name)": "2"
                },
                {
                    "KAT_ID": "127",
                    "(No column name)": "2"
                },
                {
                    "KAT_ID": "128",
                    "(No column name)": "2"
                },
                {
                    "KAT_ID": "129",
                    "(No column name)": "2"
                },
                {
                    "KAT_ID": "116",
                    "(No column name)": "2"
                },
                {
                    "KAT_ID": "117",
                    "(No column name)": "2"
                },
                {
                    "KAT_ID": "112",
                    "(No column name)": "2"
                },
                {
                    "KAT_ID": "121",
                    "(No column name)": "2"
                },
                {
                    "KAT_ID": "110",
                    "(No column name)": "2"
                },
                {
                    "KAT_ID": "104",
                    "(No column name)": "2"
                },
                {
                    "KAT_ID": "94",
                    "(No column name)": "2"
                },
                {
                    "KAT_ID": "95",
                    "(No column name)": "2"
                },
                {
                    "KAT_ID": "88",
                    "(No column name)": "2"
                },
                {
                    "KAT_ID": "90",
                    "(No column name)": "2"
                },
                {
                    "KAT_ID": "92",
                    "(No column name)": "2"
                },
                {
                    "KAT_ID": "71",
                    "(No column name)": "2"
                },
                {
                    "KAT_ID": "72",
                    "(No column name)": "2"
                },
                {
                    "KAT_ID": "73",
                    "(No column name)": "2"
                },
                {
                    "KAT_ID": "75",
                    "(No column name)": "2"
                },
                {
                    "KAT_ID": "62",
                    "(No column name)": "2"
                },
                {
                    "KAT_ID": "55",
                    "(No column name)": "2"
                },
                {
                    "KAT_ID": "65",
                    "(No column name)": "2"
                },
                {
                    "KAT_ID": "67",
                    "(No column name)": "2"
                },
                {
                    "KAT_ID": "68",
                    "(No column name)": "2"
                },
                {
                    "KAT_ID": "57",
                    "(No column name)": "2"
                },
                {
                    "KAT_ID": "48",
                    "(No column name)": "2"
                },
                {
                    "KAT_ID": "49",
                    "(No column name)": "2"
                },
                {
                    "KAT_ID": "39",
                    "(No column name)": "2"
                },
                {
                    "KAT_ID": "22",
                    "(No column name)": "2"
                },
                {
                    "KAT_ID": "18",
                    "(No column name)": "2"
                },
                {
                    "KAT_ID": "9",
                    "(No column name)": "2"
                },
                {
                    "KAT_ID": "13",
                    "(No column name)": "2"
                },
                {
                    "KAT_ID": "5",
                    "(No column name)": "3"
                },
                {
                    "KAT_ID": "7",
                    "(No column name)": "3"
                },
                {
                    "KAT_ID": "8",
                    "(No column name)": "3"
                },
                {
                    "KAT_ID": "20",
                    "(No column name)": "3"
                },
                {
                    "KAT_ID": "27",
                    "(No column name)": "3"
                },
                {
                    "KAT_ID": "32",
                    "(No column name)": "3"
                },
                {
                    "KAT_ID": "43",
                    "(No column name)": "3"
                },
                {
                    "KAT_ID": "58",
                    "(No column name)": "3"
                },
                {
                    "KAT_ID": "51",
                    "(No column name)": "3"
                },
                {
                    "KAT_ID": "70",
                    "(No column name)": "3"
                },
                {
                    "KAT_ID": "89",
                    "(No column name)": "3"
                },
                {
                    "KAT_ID": "111",
                    "(No column name)": "3"
                },
                {
                    "KAT_ID": "119",
                    "(No column name)": "3"
                },
                {
                    "KAT_ID": "137",
                    "(No column name)": "3"
                },
                {
                    "KAT_ID": "143",
                    "(No column name)": "3"
                },
                {
                    "KAT_ID": "151",
                    "(No column name)": "4"
                },
                {
                    "KAT_ID": "154",
                    "(No column name)": "4"
                },
                {
                    "KAT_ID": "125",
                    "(No column name)": "4"
                },
                {
                    "KAT_ID": "79",
                    "(No column name)": "4"
                },
                {
                    "KAT_ID": "98",
                    "(No column name)": "4"
                },
                {
                    "KAT_ID": "56",
                    "(No column name)": "4"
                },
                {
                    "KAT_ID": "64",
                    "(No column name)": "4"
                },
                {
                    "KAT_ID": "59",
                    "(No column name)": "4"
                },
                {
                    "KAT_ID": "47",
                    "(No column name)": "4"
                },
                {
                    "KAT_ID": "25",
                    "(No column name)": "4"
                },
                {
                    "KAT_ID": "14",
                    "(No column name)": "4"
                },
                {
                    "KAT_ID": "21",
                    "(No column name)": "5"
                },
                {
                    "KAT_ID": "36",
                    "(No column name)": "5"
                },
                {
                    "KAT_ID": "28",
                    "(No column name)": "5"
                },
                {
                    "KAT_ID": "60",
                    "(No column name)": "5"
                },
                {
                    "KAT_ID": "76",
                    "(No column name)": "5"
                },
                {
                    "KAT_ID": "106",
                    "(No column name)": "5"
                },
                {
                    "KAT_ID": "138",
                    "(No column name)": "5"
                },
                {
                    "KAT_ID": "133",
                    "(No column name)": "6"
                },
                {
                    "KAT_ID": "152",
                    "(No column name)": "6"
                },
                {
                    "KAT_ID": "149",
                    "(No column name)": "6"
                },
                {
                    "KAT_ID": "83",
                    "(No column name)": "6"
                },
                {
                    "KAT_ID": "54",
                    "(No column name)": "6"
                },
                {
                    "KAT_ID": "46",
                    "(No column name)": "7"
                },
                {
                    "KAT_ID": "66",
                    "(No column name)": "7"
                },
                {
                    "KAT_ID": "24",
                    "(No column name)": "7"
                },
                {
                    "KAT_ID": "30",
                    "(No column name)": "7"
                },
                {
                    "KAT_ID": "35",
                    "(No column name)": "7"
                },
                {
                    "KAT_ID": "16",
                    "(No column name)": "7"
                },
                {
                    "KAT_ID": "146",
                    "(No column name)": "7"
                },
                {
                    "KAT_ID": "122",
                    "(No column name)": "7"
                },
                {
                    "KAT_ID": "93",
                    "(No column name)": "7"
                },
                {
                    "KAT_ID": "91",
                    "(No column name)": "7"
                },
                {
                    "KAT_ID": "100",
                    "(No column name)": "9"
                },
                {
                    "KAT_ID": "96",
                    "(No column name)": "9"
                },
                {
                    "KAT_ID": "118",
                    "(No column name)": "9"
                },
                {
                    "KAT_ID": "97",
                    "(No column name)": "10"
                },
                {
                    "KAT_ID": "124",
                    "(No column name)": "10"
                },
                {
                    "KAT_ID": "45",
                    "(No column name)": "11"
                },
                {
                    "KAT_ID": "41",
                    "(No column name)": "13"
                },
                {
                    "KAT_ID": "4",
                    "(No column name)": "15"
                },
                {
                    "KAT_ID": "85",
                    "(No column name)": "16"
                },
                {
                    "KAT_ID": "145",
                    "(No column name)": "18"
                },
                {
                    "KAT_ID": "19",
                    "(No column name)": "19"
                },
                {
                    "KAT_ID": "6",
                    "(No column name)": "20"
                },
                {
                    "KAT_ID": "78",
                    "(No column name)": "24"
                },
                {
                    "KAT_ID": "52",
                    "(No column name)": "26"
                },
                {
                    "KAT_ID": "NULL",
                    "(No column name)": "551"
                }
            ]
        },
        "text/html": [
            "<table>",
            "<tr><th>KAT_ID</th><th>(No column name)</th></tr>",
            "<tr><td>10</td><td>1</td></tr>",
            "<tr><td>11</td><td>1</td></tr>",
            "<tr><td>12</td><td>1</td></tr>",
            "<tr><td>15</td><td>1</td></tr>",
            "<tr><td>17</td><td>1</td></tr>",
            "<tr><td>26</td><td>1</td></tr>",
            "<tr><td>29</td><td>1</td></tr>",
            "<tr><td>31</td><td>1</td></tr>",
            "<tr><td>33</td><td>1</td></tr>",
            "<tr><td>34</td><td>1</td></tr>",
            "<tr><td>37</td><td>1</td></tr>",
            "<tr><td>38</td><td>1</td></tr>",
            "<tr><td>40</td><td>1</td></tr>",
            "<tr><td>42</td><td>1</td></tr>",
            "<tr><td>44</td><td>1</td></tr>",
            "<tr><td>50</td><td>1</td></tr>",
            "<tr><td>53</td><td>1</td></tr>",
            "<tr><td>61</td><td>1</td></tr>",
            "<tr><td>74</td><td>1</td></tr>",
            "<tr><td>80</td><td>1</td></tr>",
            "<tr><td>82</td><td>1</td></tr>",
            "<tr><td>84</td><td>1</td></tr>",
            "<tr><td>86</td><td>1</td></tr>",
            "<tr><td>99</td><td>1</td></tr>",
            "<tr><td>101</td><td>1</td></tr>",
            "<tr><td>103</td><td>1</td></tr>",
            "<tr><td>105</td><td>1</td></tr>",
            "<tr><td>107</td><td>1</td></tr>",
            "<tr><td>108</td><td>1</td></tr>",
            "<tr><td>109</td><td>1</td></tr>",
            "<tr><td>114</td><td>1</td></tr>",
            "<tr><td>115</td><td>1</td></tr>",
            "<tr><td>126</td><td>1</td></tr>",
            "<tr><td>130</td><td>1</td></tr>",
            "<tr><td>131</td><td>1</td></tr>",
            "<tr><td>132</td><td>1</td></tr>",
            "<tr><td>135</td><td>1</td></tr>",
            "<tr><td>139</td><td>1</td></tr>",
            "<tr><td>140</td><td>1</td></tr>",
            "<tr><td>142</td><td>1</td></tr>",
            "<tr><td>147</td><td>1</td></tr>",
            "<tr><td>148</td><td>1</td></tr>",
            "<tr><td>153</td><td>1</td></tr>",
            "<tr><td>155</td><td>1</td></tr>",
            "<tr><td>150</td><td>2</td></tr>",
            "<tr><td>144</td><td>2</td></tr>",
            "<tr><td>141</td><td>2</td></tr>",
            "<tr><td>136</td><td>2</td></tr>",
            "<tr><td>123</td><td>2</td></tr>",
            "<tr><td>134</td><td>2</td></tr>",
            "<tr><td>127</td><td>2</td></tr>",
            "<tr><td>128</td><td>2</td></tr>",
            "<tr><td>129</td><td>2</td></tr>",
            "<tr><td>116</td><td>2</td></tr>",
            "<tr><td>117</td><td>2</td></tr>",
            "<tr><td>112</td><td>2</td></tr>",
            "<tr><td>121</td><td>2</td></tr>",
            "<tr><td>110</td><td>2</td></tr>",
            "<tr><td>104</td><td>2</td></tr>",
            "<tr><td>94</td><td>2</td></tr>",
            "<tr><td>95</td><td>2</td></tr>",
            "<tr><td>88</td><td>2</td></tr>",
            "<tr><td>90</td><td>2</td></tr>",
            "<tr><td>92</td><td>2</td></tr>",
            "<tr><td>71</td><td>2</td></tr>",
            "<tr><td>72</td><td>2</td></tr>",
            "<tr><td>73</td><td>2</td></tr>",
            "<tr><td>75</td><td>2</td></tr>",
            "<tr><td>62</td><td>2</td></tr>",
            "<tr><td>55</td><td>2</td></tr>",
            "<tr><td>65</td><td>2</td></tr>",
            "<tr><td>67</td><td>2</td></tr>",
            "<tr><td>68</td><td>2</td></tr>",
            "<tr><td>57</td><td>2</td></tr>",
            "<tr><td>48</td><td>2</td></tr>",
            "<tr><td>49</td><td>2</td></tr>",
            "<tr><td>39</td><td>2</td></tr>",
            "<tr><td>22</td><td>2</td></tr>",
            "<tr><td>18</td><td>2</td></tr>",
            "<tr><td>9</td><td>2</td></tr>",
            "<tr><td>13</td><td>2</td></tr>",
            "<tr><td>5</td><td>3</td></tr>",
            "<tr><td>7</td><td>3</td></tr>",
            "<tr><td>8</td><td>3</td></tr>",
            "<tr><td>20</td><td>3</td></tr>",
            "<tr><td>27</td><td>3</td></tr>",
            "<tr><td>32</td><td>3</td></tr>",
            "<tr><td>43</td><td>3</td></tr>",
            "<tr><td>58</td><td>3</td></tr>",
            "<tr><td>51</td><td>3</td></tr>",
            "<tr><td>70</td><td>3</td></tr>",
            "<tr><td>89</td><td>3</td></tr>",
            "<tr><td>111</td><td>3</td></tr>",
            "<tr><td>119</td><td>3</td></tr>",
            "<tr><td>137</td><td>3</td></tr>",
            "<tr><td>143</td><td>3</td></tr>",
            "<tr><td>151</td><td>4</td></tr>",
            "<tr><td>154</td><td>4</td></tr>",
            "<tr><td>125</td><td>4</td></tr>",
            "<tr><td>79</td><td>4</td></tr>",
            "<tr><td>98</td><td>4</td></tr>",
            "<tr><td>56</td><td>4</td></tr>",
            "<tr><td>64</td><td>4</td></tr>",
            "<tr><td>59</td><td>4</td></tr>",
            "<tr><td>47</td><td>4</td></tr>",
            "<tr><td>25</td><td>4</td></tr>",
            "<tr><td>14</td><td>4</td></tr>",
            "<tr><td>21</td><td>5</td></tr>",
            "<tr><td>36</td><td>5</td></tr>",
            "<tr><td>28</td><td>5</td></tr>",
            "<tr><td>60</td><td>5</td></tr>",
            "<tr><td>76</td><td>5</td></tr>",
            "<tr><td>106</td><td>5</td></tr>",
            "<tr><td>138</td><td>5</td></tr>",
            "<tr><td>133</td><td>6</td></tr>",
            "<tr><td>152</td><td>6</td></tr>",
            "<tr><td>149</td><td>6</td></tr>",
            "<tr><td>83</td><td>6</td></tr>",
            "<tr><td>54</td><td>6</td></tr>",
            "<tr><td>46</td><td>7</td></tr>",
            "<tr><td>66</td><td>7</td></tr>",
            "<tr><td>24</td><td>7</td></tr>",
            "<tr><td>30</td><td>7</td></tr>",
            "<tr><td>35</td><td>7</td></tr>",
            "<tr><td>16</td><td>7</td></tr>",
            "<tr><td>146</td><td>7</td></tr>",
            "<tr><td>122</td><td>7</td></tr>",
            "<tr><td>93</td><td>7</td></tr>",
            "<tr><td>91</td><td>7</td></tr>",
            "<tr><td>100</td><td>9</td></tr>",
            "<tr><td>96</td><td>9</td></tr>",
            "<tr><td>118</td><td>9</td></tr>",
            "<tr><td>97</td><td>10</td></tr>",
            "<tr><td>124</td><td>10</td></tr>",
            "<tr><td>45</td><td>11</td></tr>",
            "<tr><td>41</td><td>13</td></tr>",
            "<tr><td>4</td><td>15</td></tr>",
            "<tr><td>85</td><td>16</td></tr>",
            "<tr><td>145</td><td>18</td></tr>",
            "<tr><td>19</td><td>19</td></tr>",
            "<tr><td>6</td><td>20</td></tr>",
            "<tr><td>78</td><td>24</td></tr>",
            "<tr><td>52</td><td>26</td></tr>",
            "<tr><td>NULL</td><td>551</td></tr>",
            "</table>"
        ]
    }
}, {
    "output_type": "execute_result",
    "metadata": {},
    "execution_count": 9,
    "data": {
        "application/vnd.dataresource+json": {
            "schema": {
                "fields": [
                    {
                        "name": "(No column name)"
                    },
                    {
                        "name": "darab"
                    }
                ]
            },
            "data": [
                {
                    "(No column name)": "10",
                    "darab": "1"
                },
                {
                    "(No column name)": "11",
                    "darab": "1"
                },
                {
                    "(No column name)": "12",
                    "darab": "1"
                },
                {
                    "(No column name)": "15",
                    "darab": "1"
                },
                {
                    "(No column name)": "17",
                    "darab": "1"
                },
                {
                    "(No column name)": "26",
                    "darab": "1"
                },
                {
                    "(No column name)": "29",
                    "darab": "1"
                },
                {
                    "(No column name)": "31",
                    "darab": "1"
                },
                {
                    "(No column name)": "33",
                    "darab": "1"
                },
                {
                    "(No column name)": "34",
                    "darab": "1"
                },
                {
                    "(No column name)": "37",
                    "darab": "1"
                },
                {
                    "(No column name)": "38",
                    "darab": "1"
                },
                {
                    "(No column name)": "40",
                    "darab": "1"
                },
                {
                    "(No column name)": "42",
                    "darab": "1"
                },
                {
                    "(No column name)": "44",
                    "darab": "1"
                },
                {
                    "(No column name)": "50",
                    "darab": "1"
                },
                {
                    "(No column name)": "53",
                    "darab": "1"
                },
                {
                    "(No column name)": "61",
                    "darab": "1"
                },
                {
                    "(No column name)": "74",
                    "darab": "1"
                },
                {
                    "(No column name)": "80",
                    "darab": "1"
                },
                {
                    "(No column name)": "82",
                    "darab": "1"
                },
                {
                    "(No column name)": "84",
                    "darab": "1"
                },
                {
                    "(No column name)": "86",
                    "darab": "1"
                },
                {
                    "(No column name)": "99",
                    "darab": "1"
                },
                {
                    "(No column name)": "101",
                    "darab": "1"
                },
                {
                    "(No column name)": "103",
                    "darab": "1"
                },
                {
                    "(No column name)": "105",
                    "darab": "1"
                },
                {
                    "(No column name)": "107",
                    "darab": "1"
                },
                {
                    "(No column name)": "108",
                    "darab": "1"
                },
                {
                    "(No column name)": "109",
                    "darab": "1"
                },
                {
                    "(No column name)": "114",
                    "darab": "1"
                },
                {
                    "(No column name)": "115",
                    "darab": "1"
                },
                {
                    "(No column name)": "126",
                    "darab": "1"
                },
                {
                    "(No column name)": "130",
                    "darab": "1"
                },
                {
                    "(No column name)": "131",
                    "darab": "1"
                },
                {
                    "(No column name)": "132",
                    "darab": "1"
                },
                {
                    "(No column name)": "135",
                    "darab": "1"
                },
                {
                    "(No column name)": "139",
                    "darab": "1"
                },
                {
                    "(No column name)": "140",
                    "darab": "1"
                },
                {
                    "(No column name)": "142",
                    "darab": "1"
                },
                {
                    "(No column name)": "147",
                    "darab": "1"
                },
                {
                    "(No column name)": "148",
                    "darab": "1"
                },
                {
                    "(No column name)": "153",
                    "darab": "1"
                },
                {
                    "(No column name)": "155",
                    "darab": "1"
                },
                {
                    "(No column name)": "150",
                    "darab": "2"
                },
                {
                    "(No column name)": "144",
                    "darab": "2"
                },
                {
                    "(No column name)": "141",
                    "darab": "2"
                },
                {
                    "(No column name)": "136",
                    "darab": "2"
                },
                {
                    "(No column name)": "123",
                    "darab": "2"
                },
                {
                    "(No column name)": "134",
                    "darab": "2"
                },
                {
                    "(No column name)": "127",
                    "darab": "2"
                },
                {
                    "(No column name)": "128",
                    "darab": "2"
                },
                {
                    "(No column name)": "129",
                    "darab": "2"
                },
                {
                    "(No column name)": "116",
                    "darab": "2"
                },
                {
                    "(No column name)": "117",
                    "darab": "2"
                },
                {
                    "(No column name)": "112",
                    "darab": "2"
                },
                {
                    "(No column name)": "121",
                    "darab": "2"
                },
                {
                    "(No column name)": "110",
                    "darab": "2"
                },
                {
                    "(No column name)": "104",
                    "darab": "2"
                },
                {
                    "(No column name)": "94",
                    "darab": "2"
                },
                {
                    "(No column name)": "95",
                    "darab": "2"
                },
                {
                    "(No column name)": "88",
                    "darab": "2"
                },
                {
                    "(No column name)": "90",
                    "darab": "2"
                },
                {
                    "(No column name)": "92",
                    "darab": "2"
                },
                {
                    "(No column name)": "71",
                    "darab": "2"
                },
                {
                    "(No column name)": "72",
                    "darab": "2"
                },
                {
                    "(No column name)": "73",
                    "darab": "2"
                },
                {
                    "(No column name)": "75",
                    "darab": "2"
                },
                {
                    "(No column name)": "62",
                    "darab": "2"
                },
                {
                    "(No column name)": "55",
                    "darab": "2"
                },
                {
                    "(No column name)": "65",
                    "darab": "2"
                },
                {
                    "(No column name)": "67",
                    "darab": "2"
                },
                {
                    "(No column name)": "68",
                    "darab": "2"
                },
                {
                    "(No column name)": "57",
                    "darab": "2"
                },
                {
                    "(No column name)": "48",
                    "darab": "2"
                },
                {
                    "(No column name)": "49",
                    "darab": "2"
                },
                {
                    "(No column name)": "39",
                    "darab": "2"
                },
                {
                    "(No column name)": "22",
                    "darab": "2"
                },
                {
                    "(No column name)": "18",
                    "darab": "2"
                },
                {
                    "(No column name)": "9",
                    "darab": "2"
                },
                {
                    "(No column name)": "13",
                    "darab": "2"
                },
                {
                    "(No column name)": "5",
                    "darab": "3"
                },
                {
                    "(No column name)": "7",
                    "darab": "3"
                },
                {
                    "(No column name)": "8",
                    "darab": "3"
                },
                {
                    "(No column name)": "20",
                    "darab": "3"
                },
                {
                    "(No column name)": "27",
                    "darab": "3"
                },
                {
                    "(No column name)": "32",
                    "darab": "3"
                },
                {
                    "(No column name)": "43",
                    "darab": "3"
                },
                {
                    "(No column name)": "58",
                    "darab": "3"
                },
                {
                    "(No column name)": "51",
                    "darab": "3"
                },
                {
                    "(No column name)": "70",
                    "darab": "3"
                },
                {
                    "(No column name)": "89",
                    "darab": "3"
                },
                {
                    "(No column name)": "111",
                    "darab": "3"
                },
                {
                    "(No column name)": "119",
                    "darab": "3"
                },
                {
                    "(No column name)": "137",
                    "darab": "3"
                },
                {
                    "(No column name)": "143",
                    "darab": "3"
                },
                {
                    "(No column name)": "151",
                    "darab": "4"
                },
                {
                    "(No column name)": "154",
                    "darab": "4"
                },
                {
                    "(No column name)": "125",
                    "darab": "4"
                },
                {
                    "(No column name)": "79",
                    "darab": "4"
                },
                {
                    "(No column name)": "98",
                    "darab": "4"
                },
                {
                    "(No column name)": "56",
                    "darab": "4"
                },
                {
                    "(No column name)": "64",
                    "darab": "4"
                },
                {
                    "(No column name)": "59",
                    "darab": "4"
                },
                {
                    "(No column name)": "47",
                    "darab": "4"
                },
                {
                    "(No column name)": "25",
                    "darab": "4"
                },
                {
                    "(No column name)": "14",
                    "darab": "4"
                },
                {
                    "(No column name)": "21",
                    "darab": "5"
                },
                {
                    "(No column name)": "36",
                    "darab": "5"
                },
                {
                    "(No column name)": "28",
                    "darab": "5"
                },
                {
                    "(No column name)": "60",
                    "darab": "5"
                },
                {
                    "(No column name)": "76",
                    "darab": "5"
                },
                {
                    "(No column name)": "106",
                    "darab": "5"
                },
                {
                    "(No column name)": "138",
                    "darab": "5"
                },
                {
                    "(No column name)": "133",
                    "darab": "6"
                },
                {
                    "(No column name)": "152",
                    "darab": "6"
                },
                {
                    "(No column name)": "149",
                    "darab": "6"
                },
                {
                    "(No column name)": "83",
                    "darab": "6"
                },
                {
                    "(No column name)": "54",
                    "darab": "6"
                },
                {
                    "(No column name)": "46",
                    "darab": "7"
                },
                {
                    "(No column name)": "66",
                    "darab": "7"
                },
                {
                    "(No column name)": "24",
                    "darab": "7"
                },
                {
                    "(No column name)": "30",
                    "darab": "7"
                },
                {
                    "(No column name)": "35",
                    "darab": "7"
                },
                {
                    "(No column name)": "16",
                    "darab": "7"
                },
                {
                    "(No column name)": "146",
                    "darab": "7"
                },
                {
                    "(No column name)": "122",
                    "darab": "7"
                },
                {
                    "(No column name)": "93",
                    "darab": "7"
                },
                {
                    "(No column name)": "91",
                    "darab": "7"
                },
                {
                    "(No column name)": "100",
                    "darab": "9"
                },
                {
                    "(No column name)": "96",
                    "darab": "9"
                },
                {
                    "(No column name)": "118",
                    "darab": "9"
                },
                {
                    "(No column name)": "97",
                    "darab": "10"
                },
                {
                    "(No column name)": "124",
                    "darab": "10"
                },
                {
                    "(No column name)": "45",
                    "darab": "11"
                },
                {
                    "(No column name)": "41",
                    "darab": "13"
                },
                {
                    "(No column name)": "4",
                    "darab": "15"
                },
                {
                    "(No column name)": "85",
                    "darab": "16"
                },
                {
                    "(No column name)": "145",
                    "darab": "18"
                },
                {
                    "(No column name)": "19",
                    "darab": "19"
                },
                {
                    "(No column name)": "6",
                    "darab": "20"
                },
                {
                    "(No column name)": "78",
                    "darab": "24"
                },
                {
                    "(No column name)": "52",
                    "darab": "26"
                },
                {
                    "(No column name)": "Végösszeg",
                    "darab": "551"
                }
            ]
        },
        "text/html": [
            "<table>",
            "<tr><th>(No column name)</th><th>darab</th></tr>",
            "<tr><td>10</td><td>1</td></tr>",
            "<tr><td>11</td><td>1</td></tr>",
            "<tr><td>12</td><td>1</td></tr>",
            "<tr><td>15</td><td>1</td></tr>",
            "<tr><td>17</td><td>1</td></tr>",
            "<tr><td>26</td><td>1</td></tr>",
            "<tr><td>29</td><td>1</td></tr>",
            "<tr><td>31</td><td>1</td></tr>",
            "<tr><td>33</td><td>1</td></tr>",
            "<tr><td>34</td><td>1</td></tr>",
            "<tr><td>37</td><td>1</td></tr>",
            "<tr><td>38</td><td>1</td></tr>",
            "<tr><td>40</td><td>1</td></tr>",
            "<tr><td>42</td><td>1</td></tr>",
            "<tr><td>44</td><td>1</td></tr>",
            "<tr><td>50</td><td>1</td></tr>",
            "<tr><td>53</td><td>1</td></tr>",
            "<tr><td>61</td><td>1</td></tr>",
            "<tr><td>74</td><td>1</td></tr>",
            "<tr><td>80</td><td>1</td></tr>",
            "<tr><td>82</td><td>1</td></tr>",
            "<tr><td>84</td><td>1</td></tr>",
            "<tr><td>86</td><td>1</td></tr>",
            "<tr><td>99</td><td>1</td></tr>",
            "<tr><td>101</td><td>1</td></tr>",
            "<tr><td>103</td><td>1</td></tr>",
            "<tr><td>105</td><td>1</td></tr>",
            "<tr><td>107</td><td>1</td></tr>",
            "<tr><td>108</td><td>1</td></tr>",
            "<tr><td>109</td><td>1</td></tr>",
            "<tr><td>114</td><td>1</td></tr>",
            "<tr><td>115</td><td>1</td></tr>",
            "<tr><td>126</td><td>1</td></tr>",
            "<tr><td>130</td><td>1</td></tr>",
            "<tr><td>131</td><td>1</td></tr>",
            "<tr><td>132</td><td>1</td></tr>",
            "<tr><td>135</td><td>1</td></tr>",
            "<tr><td>139</td><td>1</td></tr>",
            "<tr><td>140</td><td>1</td></tr>",
            "<tr><td>142</td><td>1</td></tr>",
            "<tr><td>147</td><td>1</td></tr>",
            "<tr><td>148</td><td>1</td></tr>",
            "<tr><td>153</td><td>1</td></tr>",
            "<tr><td>155</td><td>1</td></tr>",
            "<tr><td>150</td><td>2</td></tr>",
            "<tr><td>144</td><td>2</td></tr>",
            "<tr><td>141</td><td>2</td></tr>",
            "<tr><td>136</td><td>2</td></tr>",
            "<tr><td>123</td><td>2</td></tr>",
            "<tr><td>134</td><td>2</td></tr>",
            "<tr><td>127</td><td>2</td></tr>",
            "<tr><td>128</td><td>2</td></tr>",
            "<tr><td>129</td><td>2</td></tr>",
            "<tr><td>116</td><td>2</td></tr>",
            "<tr><td>117</td><td>2</td></tr>",
            "<tr><td>112</td><td>2</td></tr>",
            "<tr><td>121</td><td>2</td></tr>",
            "<tr><td>110</td><td>2</td></tr>",
            "<tr><td>104</td><td>2</td></tr>",
            "<tr><td>94</td><td>2</td></tr>",
            "<tr><td>95</td><td>2</td></tr>",
            "<tr><td>88</td><td>2</td></tr>",
            "<tr><td>90</td><td>2</td></tr>",
            "<tr><td>92</td><td>2</td></tr>",
            "<tr><td>71</td><td>2</td></tr>",
            "<tr><td>72</td><td>2</td></tr>",
            "<tr><td>73</td><td>2</td></tr>",
            "<tr><td>75</td><td>2</td></tr>",
            "<tr><td>62</td><td>2</td></tr>",
            "<tr><td>55</td><td>2</td></tr>",
            "<tr><td>65</td><td>2</td></tr>",
            "<tr><td>67</td><td>2</td></tr>",
            "<tr><td>68</td><td>2</td></tr>",
            "<tr><td>57</td><td>2</td></tr>",
            "<tr><td>48</td><td>2</td></tr>",
            "<tr><td>49</td><td>2</td></tr>",
            "<tr><td>39</td><td>2</td></tr>",
            "<tr><td>22</td><td>2</td></tr>",
            "<tr><td>18</td><td>2</td></tr>",
            "<tr><td>9</td><td>2</td></tr>",
            "<tr><td>13</td><td>2</td></tr>",
            "<tr><td>5</td><td>3</td></tr>",
            "<tr><td>7</td><td>3</td></tr>",
            "<tr><td>8</td><td>3</td></tr>",
            "<tr><td>20</td><td>3</td></tr>",
            "<tr><td>27</td><td>3</td></tr>",
            "<tr><td>32</td><td>3</td></tr>",
            "<tr><td>43</td><td>3</td></tr>",
            "<tr><td>58</td><td>3</td></tr>",
            "<tr><td>51</td><td>3</td></tr>",
            "<tr><td>70</td><td>3</td></tr>",
            "<tr><td>89</td><td>3</td></tr>",
            "<tr><td>111</td><td>3</td></tr>",
            "<tr><td>119</td><td>3</td></tr>",
            "<tr><td>137</td><td>3</td></tr>",
            "<tr><td>143</td><td>3</td></tr>",
            "<tr><td>151</td><td>4</td></tr>",
            "<tr><td>154</td><td>4</td></tr>",
            "<tr><td>125</td><td>4</td></tr>",
            "<tr><td>79</td><td>4</td></tr>",
            "<tr><td>98</td><td>4</td></tr>",
            "<tr><td>56</td><td>4</td></tr>",
            "<tr><td>64</td><td>4</td></tr>",
            "<tr><td>59</td><td>4</td></tr>",
            "<tr><td>47</td><td>4</td></tr>",
            "<tr><td>25</td><td>4</td></tr>",
            "<tr><td>14</td><td>4</td></tr>",
            "<tr><td>21</td><td>5</td></tr>",
            "<tr><td>36</td><td>5</td></tr>",
            "<tr><td>28</td><td>5</td></tr>",
            "<tr><td>60</td><td>5</td></tr>",
            "<tr><td>76</td><td>5</td></tr>",
            "<tr><td>106</td><td>5</td></tr>",
            "<tr><td>138</td><td>5</td></tr>",
            "<tr><td>133</td><td>6</td></tr>",
            "<tr><td>152</td><td>6</td></tr>",
            "<tr><td>149</td><td>6</td></tr>",
            "<tr><td>83</td><td>6</td></tr>",
            "<tr><td>54</td><td>6</td></tr>",
            "<tr><td>46</td><td>7</td></tr>",
            "<tr><td>66</td><td>7</td></tr>",
            "<tr><td>24</td><td>7</td></tr>",
            "<tr><td>30</td><td>7</td></tr>",
            "<tr><td>35</td><td>7</td></tr>",
            "<tr><td>16</td><td>7</td></tr>",
            "<tr><td>146</td><td>7</td></tr>",
            "<tr><td>122</td><td>7</td></tr>",
            "<tr><td>93</td><td>7</td></tr>",
            "<tr><td>91</td><td>7</td></tr>",
            "<tr><td>100</td><td>9</td></tr>",
            "<tr><td>96</td><td>9</td></tr>",
            "<tr><td>118</td><td>9</td></tr>",
            "<tr><td>97</td><td>10</td></tr>",
            "<tr><td>124</td><td>10</td></tr>",
            "<tr><td>45</td><td>11</td></tr>",
            "<tr><td>41</td><td>13</td></tr>",
            "<tr><td>4</td><td>15</td></tr>",
            "<tr><td>85</td><td>16</td></tr>",
            "<tr><td>145</td><td>18</td></tr>",
            "<tr><td>19</td><td>19</td></tr>",
            "<tr><td>6</td><td>20</td></tr>",
            "<tr><td>78</td><td>24</td></tr>",
            "<tr><td>52</td><td>26</td></tr>",
            "<tr><td>Végösszeg</td><td>551</td></tr>",
            "</table>"
        ]
    }
}
],
            "execution_count": 9
        },
        {
            "cell_type": "markdown",
            "source": [
                "4. <span style=\"background-color: rgb(255, 255, 255); color: rgb(0, 0, 0); font-family: &quot;Open Sans&quot;, sans-serif; font-size: 14.44px;\">Készítsünk listát az ügyfelek számáról születési év szerint, azon belül nem szerinti bontásban!&nbsp;</span> \n",
                "\n",
                "a. A lista megfelelően jelölve tartalmazza a részösszegeket és a végösszeget is!  \n",
                "b. Az oszlopoknak adjunk nevet értelemszerűen!"
            ],
            "metadata": {
                "azdata_cell_guid": "8e7fef82-8022-49a0-8255-fc2846c2134b"
            },
            "attachments": {}
        },
        {
            "cell_type": "code",
            "source": [
                "SELECT IIF(GROUPING_ID(szulev) = 1, 'Végösszeg', CAST(szulev as nvarchar(4))) AS 'Születési év',\r\n",
                "       CASE \r\n",
                "         WHEN GROUPING_ID(szulev, NEM) = 1 THEN 'Részösszeg'\r\n",
                "         WHEN GROUPING_ID(szulev, NEM) = 3 THEN 'Végösszeg'\r\n",
                "         ELSE NEM \r\n",
                "         END AS 'Nem',\r\n",
                "       count(*) AS 'Ügyfelek száma'\r\n",
                "FROM ugyfel\r\n",
                "GROUP BY ROLLUP(szulev, NEM)"
            ],
            "metadata": {
                "azdata_cell_guid": "36f7b396-4a1f-45e5-8720-2302537c91bc",
                "language": "sql"
            },
            "outputs": [
                {
                    "output_type": "display_data",
                    "data": {
                        "text/html": "(96 rows affected)"
                    },
                    "metadata": {}
                },
                {
                    "output_type": "display_data",
                    "data": {
                        "text/html": "Total execution time: 00:00:00.060"
                    },
                    "metadata": {}
                },
                {
                    "output_type": "execute_result",
                    "execution_count": 6,
                    "data": {
                        "application/vnd.dataresource+json": {
                            "schema": {
                                "fields": [
                                    {
                                        "name": "Születési év"
                                    },
                                    {
                                        "name": "Nem"
                                    },
                                    {
                                        "name": "Ügyfelek száma"
                                    }
                                ]
                            },
                            "data": [
                                {
                                    "Születési év": "1967",
                                    "Nem": "F",
                                    "Ügyfelek száma": "5"
                                },
                                {
                                    "Születési év": "1967",
                                    "Nem": "N",
                                    "Ügyfelek száma": "3"
                                },
                                {
                                    "Születési év": "1967",
                                    "Nem": "Részösszeg",
                                    "Ügyfelek száma": "8"
                                },
                                {
                                    "Születési év": "1968",
                                    "Nem": "F",
                                    "Ügyfelek száma": "5"
                                },
                                {
                                    "Születési év": "1968",
                                    "Nem": "N",
                                    "Ügyfelek száma": "3"
                                },
                                {
                                    "Születési év": "1968",
                                    "Nem": "Részösszeg",
                                    "Ügyfelek száma": "8"
                                },
                                {
                                    "Születési év": "1969",
                                    "Nem": "F",
                                    "Ügyfelek száma": "5"
                                },
                                {
                                    "Születési év": "1969",
                                    "Nem": "N",
                                    "Ügyfelek száma": "3"
                                },
                                {
                                    "Születési év": "1969",
                                    "Nem": "Részösszeg",
                                    "Ügyfelek száma": "8"
                                },
                                {
                                    "Születési év": "1970",
                                    "Nem": "F",
                                    "Ügyfelek száma": "4"
                                },
                                {
                                    "Születési év": "1970",
                                    "Nem": "Részösszeg",
                                    "Ügyfelek száma": "4"
                                },
                                {
                                    "Születési év": "1971",
                                    "Nem": "F",
                                    "Ügyfelek száma": "2"
                                },
                                {
                                    "Születési év": "1971",
                                    "Nem": "N",
                                    "Ügyfelek száma": "3"
                                },
                                {
                                    "Születési év": "1971",
                                    "Nem": "Részösszeg",
                                    "Ügyfelek száma": "5"
                                },
                                {
                                    "Születési év": "1972",
                                    "Nem": "F",
                                    "Ügyfelek száma": "2"
                                },
                                {
                                    "Születési év": "1972",
                                    "Nem": "N",
                                    "Ügyfelek száma": "2"
                                },
                                {
                                    "Születési év": "1972",
                                    "Nem": "Részösszeg",
                                    "Ügyfelek száma": "4"
                                },
                                {
                                    "Születési év": "1973",
                                    "Nem": "F",
                                    "Ügyfelek száma": "2"
                                },
                                {
                                    "Születési év": "1973",
                                    "Nem": "N",
                                    "Ügyfelek száma": "2"
                                },
                                {
                                    "Születési év": "1973",
                                    "Nem": "Részösszeg",
                                    "Ügyfelek száma": "4"
                                },
                                {
                                    "Születési év": "1974",
                                    "Nem": "F",
                                    "Ügyfelek száma": "1"
                                },
                                {
                                    "Születési év": "1974",
                                    "Nem": "N",
                                    "Ügyfelek száma": "3"
                                },
                                {
                                    "Születési év": "1974",
                                    "Nem": "Részösszeg",
                                    "Ügyfelek száma": "4"
                                },
                                {
                                    "Születési év": "1975",
                                    "Nem": "F",
                                    "Ügyfelek száma": "8"
                                },
                                {
                                    "Születési év": "1975",
                                    "Nem": "N",
                                    "Ügyfelek száma": "3"
                                },
                                {
                                    "Születési év": "1975",
                                    "Nem": "Részösszeg",
                                    "Ügyfelek száma": "11"
                                },
                                {
                                    "Születési év": "1976",
                                    "Nem": "F",
                                    "Ügyfelek száma": "5"
                                },
                                {
                                    "Születési év": "1976",
                                    "Nem": "N",
                                    "Ügyfelek száma": "2"
                                },
                                {
                                    "Születési év": "1976",
                                    "Nem": "Részösszeg",
                                    "Ügyfelek száma": "7"
                                },
                                {
                                    "Születési év": "1977",
                                    "Nem": "F",
                                    "Ügyfelek száma": "4"
                                },
                                {
                                    "Születési év": "1977",
                                    "Nem": "N",
                                    "Ügyfelek száma": "1"
                                },
                                {
                                    "Születési év": "1977",
                                    "Nem": "Részösszeg",
                                    "Ügyfelek száma": "5"
                                },
                                {
                                    "Születési év": "1978",
                                    "Nem": "F",
                                    "Ügyfelek száma": "3"
                                },
                                {
                                    "Születési év": "1978",
                                    "Nem": "N",
                                    "Ügyfelek száma": "4"
                                },
                                {
                                    "Születési év": "1978",
                                    "Nem": "Részösszeg",
                                    "Ügyfelek száma": "7"
                                },
                                {
                                    "Születési év": "1979",
                                    "Nem": "F",
                                    "Ügyfelek száma": "4"
                                },
                                {
                                    "Születési év": "1979",
                                    "Nem": "N",
                                    "Ügyfelek száma": "3"
                                },
                                {
                                    "Születési év": "1979",
                                    "Nem": "Részösszeg",
                                    "Ügyfelek száma": "7"
                                },
                                {
                                    "Születési év": "1980",
                                    "Nem": "F",
                                    "Ügyfelek száma": "4"
                                },
                                {
                                    "Születési év": "1980",
                                    "Nem": "N",
                                    "Ügyfelek száma": "3"
                                },
                                {
                                    "Születési év": "1980",
                                    "Nem": "Részösszeg",
                                    "Ügyfelek száma": "7"
                                },
                                {
                                    "Születési év": "1981",
                                    "Nem": "N",
                                    "Ügyfelek száma": "4"
                                },
                                {
                                    "Születési év": "1981",
                                    "Nem": "Részösszeg",
                                    "Ügyfelek száma": "4"
                                },
                                {
                                    "Születési év": "1982",
                                    "Nem": "F",
                                    "Ügyfelek száma": "2"
                                },
                                {
                                    "Születési év": "1982",
                                    "Nem": "N",
                                    "Ügyfelek száma": "2"
                                },
                                {
                                    "Születési év": "1982",
                                    "Nem": "Részösszeg",
                                    "Ügyfelek száma": "4"
                                },
                                {
                                    "Születési év": "1983",
                                    "Nem": "F",
                                    "Ügyfelek száma": "5"
                                },
                                {
                                    "Születési év": "1983",
                                    "Nem": "N",
                                    "Ügyfelek száma": "3"
                                },
                                {
                                    "Születési év": "1983",
                                    "Nem": "Részösszeg",
                                    "Ügyfelek száma": "8"
                                },
                                {
                                    "Születési év": "1984",
                                    "Nem": "F",
                                    "Ügyfelek száma": "6"
                                },
                                {
                                    "Születési év": "1984",
                                    "Nem": "N",
                                    "Ügyfelek száma": "2"
                                },
                                {
                                    "Születési év": "1984",
                                    "Nem": "Részösszeg",
                                    "Ügyfelek száma": "8"
                                },
                                {
                                    "Születési év": "1985",
                                    "Nem": "F",
                                    "Ügyfelek száma": "5"
                                },
                                {
                                    "Születési év": "1985",
                                    "Nem": "N",
                                    "Ügyfelek száma": "1"
                                },
                                {
                                    "Születési év": "1985",
                                    "Nem": "Részösszeg",
                                    "Ügyfelek száma": "6"
                                },
                                {
                                    "Születési év": "1986",
                                    "Nem": "F",
                                    "Ügyfelek száma": "7"
                                },
                                {
                                    "Születési év": "1986",
                                    "Nem": "N",
                                    "Ügyfelek száma": "2"
                                },
                                {
                                    "Születési év": "1986",
                                    "Nem": "Részösszeg",
                                    "Ügyfelek száma": "9"
                                },
                                {
                                    "Születési év": "1987",
                                    "Nem": "F",
                                    "Ügyfelek száma": "2"
                                },
                                {
                                    "Születési év": "1987",
                                    "Nem": "N",
                                    "Ügyfelek száma": "3"
                                },
                                {
                                    "Születési év": "1987",
                                    "Nem": "Részösszeg",
                                    "Ügyfelek száma": "5"
                                },
                                {
                                    "Születési év": "1988",
                                    "Nem": "F",
                                    "Ügyfelek száma": "2"
                                },
                                {
                                    "Születési év": "1988",
                                    "Nem": "N",
                                    "Ügyfelek száma": "4"
                                },
                                {
                                    "Születési év": "1988",
                                    "Nem": "Részösszeg",
                                    "Ügyfelek száma": "6"
                                },
                                {
                                    "Születési év": "1989",
                                    "Nem": "F",
                                    "Ügyfelek száma": "6"
                                },
                                {
                                    "Születési év": "1989",
                                    "Nem": "N",
                                    "Ügyfelek száma": "1"
                                },
                                {
                                    "Születési év": "1989",
                                    "Nem": "Részösszeg",
                                    "Ügyfelek száma": "7"
                                },
                                {
                                    "Születési év": "1990",
                                    "Nem": "F",
                                    "Ügyfelek száma": "5"
                                },
                                {
                                    "Születési év": "1990",
                                    "Nem": "N",
                                    "Ügyfelek száma": "3"
                                },
                                {
                                    "Születési év": "1990",
                                    "Nem": "Részösszeg",
                                    "Ügyfelek száma": "8"
                                },
                                {
                                    "Születési év": "1991",
                                    "Nem": "F",
                                    "Ügyfelek száma": "3"
                                },
                                {
                                    "Születési év": "1991",
                                    "Nem": "N",
                                    "Ügyfelek száma": "3"
                                },
                                {
                                    "Születési év": "1991",
                                    "Nem": "Részösszeg",
                                    "Ügyfelek száma": "6"
                                },
                                {
                                    "Születési év": "1992",
                                    "Nem": "F",
                                    "Ügyfelek száma": "3"
                                },
                                {
                                    "Születési év": "1992",
                                    "Nem": "N",
                                    "Ügyfelek száma": "1"
                                },
                                {
                                    "Születési év": "1992",
                                    "Nem": "Részösszeg",
                                    "Ügyfelek száma": "4"
                                },
                                {
                                    "Születési év": "1993",
                                    "Nem": "F",
                                    "Ügyfelek száma": "2"
                                },
                                {
                                    "Születési év": "1993",
                                    "Nem": "N",
                                    "Ügyfelek száma": "3"
                                },
                                {
                                    "Születési év": "1993",
                                    "Nem": "Részösszeg",
                                    "Ügyfelek száma": "5"
                                },
                                {
                                    "Születési év": "1994",
                                    "Nem": "N",
                                    "Ügyfelek száma": "3"
                                },
                                {
                                    "Születési év": "1994",
                                    "Nem": "Részösszeg",
                                    "Ügyfelek száma": "3"
                                },
                                {
                                    "Születési év": "1995",
                                    "Nem": "F",
                                    "Ügyfelek száma": "3"
                                },
                                {
                                    "Születési év": "1995",
                                    "Nem": "N",
                                    "Ügyfelek száma": "3"
                                },
                                {
                                    "Születési év": "1995",
                                    "Nem": "Részösszeg",
                                    "Ügyfelek száma": "6"
                                },
                                {
                                    "Születési év": "1996",
                                    "Nem": "F",
                                    "Ügyfelek száma": "2"
                                },
                                {
                                    "Születési év": "1996",
                                    "Nem": "N",
                                    "Ügyfelek száma": "5"
                                },
                                {
                                    "Születési év": "1996",
                                    "Nem": "Részösszeg",
                                    "Ügyfelek száma": "7"
                                },
                                {
                                    "Születési év": "1997",
                                    "Nem": "F",
                                    "Ügyfelek száma": "10"
                                },
                                {
                                    "Születési év": "1997",
                                    "Nem": "N",
                                    "Ügyfelek száma": "2"
                                },
                                {
                                    "Születési év": "1997",
                                    "Nem": "Részösszeg",
                                    "Ügyfelek száma": "12"
                                },
                                {
                                    "Születési év": "1998",
                                    "Nem": "F",
                                    "Ügyfelek száma": "1"
                                },
                                {
                                    "Születési év": "1998",
                                    "Nem": "N",
                                    "Ügyfelek száma": "1"
                                },
                                {
                                    "Születési év": "1998",
                                    "Nem": "Részösszeg",
                                    "Ügyfelek száma": "2"
                                },
                                {
                                    "Születési év": "2000",
                                    "Nem": "F",
                                    "Ügyfelek száma": "1"
                                },
                                {
                                    "Születési év": "2000",
                                    "Nem": "Részösszeg",
                                    "Ügyfelek száma": "1"
                                },
                                {
                                    "Születési év": "Végösszeg",
                                    "Nem": "Végösszeg",
                                    "Ügyfelek száma": "200"
                                }
                            ]
                        },
                        "text/html": "<table><tr><th>Születési év</th><th>Nem</th><th>Ügyfelek száma</th></tr><tr><td>1967</td><td>F</td><td>5</td></tr><tr><td>1967</td><td>N</td><td>3</td></tr><tr><td>1967</td><td>Részösszeg</td><td>8</td></tr><tr><td>1968</td><td>F</td><td>5</td></tr><tr><td>1968</td><td>N</td><td>3</td></tr><tr><td>1968</td><td>Részösszeg</td><td>8</td></tr><tr><td>1969</td><td>F</td><td>5</td></tr><tr><td>1969</td><td>N</td><td>3</td></tr><tr><td>1969</td><td>Részösszeg</td><td>8</td></tr><tr><td>1970</td><td>F</td><td>4</td></tr><tr><td>1970</td><td>Részösszeg</td><td>4</td></tr><tr><td>1971</td><td>F</td><td>2</td></tr><tr><td>1971</td><td>N</td><td>3</td></tr><tr><td>1971</td><td>Részösszeg</td><td>5</td></tr><tr><td>1972</td><td>F</td><td>2</td></tr><tr><td>1972</td><td>N</td><td>2</td></tr><tr><td>1972</td><td>Részösszeg</td><td>4</td></tr><tr><td>1973</td><td>F</td><td>2</td></tr><tr><td>1973</td><td>N</td><td>2</td></tr><tr><td>1973</td><td>Részösszeg</td><td>4</td></tr><tr><td>1974</td><td>F</td><td>1</td></tr><tr><td>1974</td><td>N</td><td>3</td></tr><tr><td>1974</td><td>Részösszeg</td><td>4</td></tr><tr><td>1975</td><td>F</td><td>8</td></tr><tr><td>1975</td><td>N</td><td>3</td></tr><tr><td>1975</td><td>Részösszeg</td><td>11</td></tr><tr><td>1976</td><td>F</td><td>5</td></tr><tr><td>1976</td><td>N</td><td>2</td></tr><tr><td>1976</td><td>Részösszeg</td><td>7</td></tr><tr><td>1977</td><td>F</td><td>4</td></tr><tr><td>1977</td><td>N</td><td>1</td></tr><tr><td>1977</td><td>Részösszeg</td><td>5</td></tr><tr><td>1978</td><td>F</td><td>3</td></tr><tr><td>1978</td><td>N</td><td>4</td></tr><tr><td>1978</td><td>Részösszeg</td><td>7</td></tr><tr><td>1979</td><td>F</td><td>4</td></tr><tr><td>1979</td><td>N</td><td>3</td></tr><tr><td>1979</td><td>Részösszeg</td><td>7</td></tr><tr><td>1980</td><td>F</td><td>4</td></tr><tr><td>1980</td><td>N</td><td>3</td></tr><tr><td>1980</td><td>Részösszeg</td><td>7</td></tr><tr><td>1981</td><td>N</td><td>4</td></tr><tr><td>1981</td><td>Részösszeg</td><td>4</td></tr><tr><td>1982</td><td>F</td><td>2</td></tr><tr><td>1982</td><td>N</td><td>2</td></tr><tr><td>1982</td><td>Részösszeg</td><td>4</td></tr><tr><td>1983</td><td>F</td><td>5</td></tr><tr><td>1983</td><td>N</td><td>3</td></tr><tr><td>1983</td><td>Részösszeg</td><td>8</td></tr><tr><td>1984</td><td>F</td><td>6</td></tr><tr><td>1984</td><td>N</td><td>2</td></tr><tr><td>1984</td><td>Részösszeg</td><td>8</td></tr><tr><td>1985</td><td>F</td><td>5</td></tr><tr><td>1985</td><td>N</td><td>1</td></tr><tr><td>1985</td><td>Részösszeg</td><td>6</td></tr><tr><td>1986</td><td>F</td><td>7</td></tr><tr><td>1986</td><td>N</td><td>2</td></tr><tr><td>1986</td><td>Részösszeg</td><td>9</td></tr><tr><td>1987</td><td>F</td><td>2</td></tr><tr><td>1987</td><td>N</td><td>3</td></tr><tr><td>1987</td><td>Részösszeg</td><td>5</td></tr><tr><td>1988</td><td>F</td><td>2</td></tr><tr><td>1988</td><td>N</td><td>4</td></tr><tr><td>1988</td><td>Részösszeg</td><td>6</td></tr><tr><td>1989</td><td>F</td><td>6</td></tr><tr><td>1989</td><td>N</td><td>1</td></tr><tr><td>1989</td><td>Részösszeg</td><td>7</td></tr><tr><td>1990</td><td>F</td><td>5</td></tr><tr><td>1990</td><td>N</td><td>3</td></tr><tr><td>1990</td><td>Részösszeg</td><td>8</td></tr><tr><td>1991</td><td>F</td><td>3</td></tr><tr><td>1991</td><td>N</td><td>3</td></tr><tr><td>1991</td><td>Részösszeg</td><td>6</td></tr><tr><td>1992</td><td>F</td><td>3</td></tr><tr><td>1992</td><td>N</td><td>1</td></tr><tr><td>1992</td><td>Részösszeg</td><td>4</td></tr><tr><td>1993</td><td>F</td><td>2</td></tr><tr><td>1993</td><td>N</td><td>3</td></tr><tr><td>1993</td><td>Részösszeg</td><td>5</td></tr><tr><td>1994</td><td>N</td><td>3</td></tr><tr><td>1994</td><td>Részösszeg</td><td>3</td></tr><tr><td>1995</td><td>F</td><td>3</td></tr><tr><td>1995</td><td>N</td><td>3</td></tr><tr><td>1995</td><td>Részösszeg</td><td>6</td></tr><tr><td>1996</td><td>F</td><td>2</td></tr><tr><td>1996</td><td>N</td><td>5</td></tr><tr><td>1996</td><td>Részösszeg</td><td>7</td></tr><tr><td>1997</td><td>F</td><td>10</td></tr><tr><td>1997</td><td>N</td><td>2</td></tr><tr><td>1997</td><td>Részösszeg</td><td>12</td></tr><tr><td>1998</td><td>F</td><td>1</td></tr><tr><td>1998</td><td>N</td><td>1</td></tr><tr><td>1998</td><td>Részösszeg</td><td>2</td></tr><tr><td>2000</td><td>F</td><td>1</td></tr><tr><td>2000</td><td>Részösszeg</td><td>1</td></tr><tr><td>Végösszeg</td><td>Végösszeg</td><td>200</td></tr></table>"
                    },
                    "metadata": {}
                }
            ],
            "execution_count": 6
        },
        {
            "cell_type": "markdown",
            "source": [
                "5. <span style=\"background-color: rgb(255, 255, 255); color: rgb(0, 0, 0); font-family: &quot;Open Sans&quot;, sans-serif; font-size: 14.44px;\">Készítsünk listát a termékek számáról a felvitel hónapja, azon belül napja szerint csoportosítva.&nbsp;</span> \n",
                "\n",
                "a. A lista csak a részösszegeket és a végösszeget tartalmazza!  \n",
                "b. Az oszlopoknak adjunk megfelelő nevet!  \n",
                "c. Ötlet: HAVING + GROUPING\\_ID fv együttes használata"
            ],
            "metadata": {
                "azdata_cell_guid": "84239ca2-6b5e-49f5-9860-d44c11d6de32"
            },
            "attachments": {}
        },
        {
            "cell_type": "code",
            "source": [
                "SELECT MONTH(felvitel) AS 'hónap',\r\n",
                "       DAY(felvitel) AS 'nap',\r\n",
                "       COUNT(*) AS 'termékek száma'\r\n",
                "FROM Termek\r\n",
                "GROUP BY ROLLUP(MONTH(felvitel), DAY(felvitel))\r\n",
                "HAVING GROUPING_ID(MONTH(felvitel), DAY(felvitel)) > 0"
            ],
            "metadata": {
                "azdata_cell_guid": "06d9a62b-9430-424b-a135-d80e675f0eb3",
                "language": "sql"
            },
            "outputs": [
                {
                    "output_type": "display_data",
                    "data": {
                        "text/html": "(5 rows affected)"
                    },
                    "metadata": {}
                },
                {
                    "output_type": "display_data",
                    "data": {
                        "text/html": "Total execution time: 00:00:00.087"
                    },
                    "metadata": {}
                },
                {
                    "output_type": "execute_result",
                    "execution_count": 7,
                    "data": {
                        "application/vnd.dataresource+json": {
                            "schema": {
                                "fields": [
                                    {
                                        "name": "hónap"
                                    },
                                    {
                                        "name": "nap"
                                    },
                                    {
                                        "name": "termékek száma"
                                    }
                                ]
                            },
                            "data": [
                                {
                                    "hónap": "7",
                                    "nap": "NULL",
                                    "termékek száma": "355"
                                },
                                {
                                    "hónap": "8",
                                    "nap": "NULL",
                                    "termékek száma": "194"
                                },
                                {
                                    "hónap": "9",
                                    "nap": "NULL",
                                    "termékek száma": "1"
                                },
                                {
                                    "hónap": "12",
                                    "nap": "NULL",
                                    "termékek száma": "1"
                                },
                                {
                                    "hónap": "NULL",
                                    "nap": "NULL",
                                    "termékek száma": "551"
                                }
                            ]
                        },
                        "text/html": "<table><tr><th>hónap</th><th>nap</th><th>termékek száma</th></tr><tr><td>7</td><td>NULL</td><td>355</td></tr><tr><td>8</td><td>NULL</td><td>194</td></tr><tr><td>9</td><td>NULL</td><td>1</td></tr><tr><td>12</td><td>NULL</td><td>1</td></tr><tr><td>NULL</td><td>NULL</td><td>551</td></tr></table>"
                    },
                    "metadata": {}
                }
            ],
            "execution_count": 7
        }
    ]
}