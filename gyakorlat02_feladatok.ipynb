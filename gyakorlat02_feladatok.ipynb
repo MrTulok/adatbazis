{
    "metadata": {
        "kernelspec": {
            "name": "SQL",
            "display_name": "SQL",
            "language": "sql"
        },
        "language_info": {
            "name": "sql",
            "version": ""
        },
        "extensions": {
            "azuredatastudio": {
                "version": 1,
                "views": []
            }
        }
    },
    "nbformat_minor": 2,
    "nbformat": 4,
    "cells": [
        {
            "cell_type": "markdown",
            "source": [
                "1. <span style=\"color:rgb(36, 41, 47);font-family:-apple-system, BlinkMacSystemFont, &quot;Segoe UI&quot;, Helvetica, Arial, sans-serif, &quot;Apple Color Emoji&quot;, &quot;Segoe UI Emoji&quot;;font-size:16px;\">Készítsünk lekérdezést, amely listázza, hogy mely napokon hány db kölcsönzés történt!</span>\n",
                "\n",
                "<span style=\"font-size: 16px;\">a.&nbsp;</span> Az oszlopok neve legyen 'Dátum' és 'Kölcsönzések száma'  \n",
                "b. A listát rendezzük a kölcsönzés dátuma szerint csökkenő sorrendbe!"
            ],
            "metadata": {
                "azdata_cell_guid": "77f2d5b3-38e9-41cc-893f-f5afd02b97ef"
            },
            "attachments": {}
        },
        {
            "cell_type": "code",
            "source": [
                "SELECT ki_datum AS 'Dátum',\r\n",
                "    COUNT(ID) AS 'Kölcsönzések száma'\r\n",
                "FROM kolcsonzesek\r\n",
                "GROUP BY ki_datum\r\n",
                "ORDER BY ki_datum DESC"
            ],
            "metadata": {
                "azdata_cell_guid": "bd3cef1a-4e6e-4ece-9dc3-aaa9d2b5d66d",
                "language": "sql",
                "tags": []
            },
            "outputs": [
                {
                    "output_type": "display_data",
                    "data": {
                        "text/html": "(3 rows affected)"
                    },
                    "metadata": {}
                },
                {
                    "output_type": "display_data",
                    "data": {
                        "text/html": "Total execution time: 00:00:00.125"
                    },
                    "metadata": {}
                },
                {
                    "output_type": "execute_result",
                    "execution_count": 1,
                    "data": {
                        "application/vnd.dataresource+json": {
                            "schema": {
                                "fields": [
                                    {
                                        "name": "Dátum"
                                    },
                                    {
                                        "name": "Kölcsönzések száma"
                                    }
                                ]
                            },
                            "data": [
                                {
                                    "Dátum": "2006-10-02",
                                    "Kölcsönzések száma": "1"
                                },
                                {
                                    "Dátum": "2006-10-01",
                                    "Kölcsönzések száma": "1"
                                },
                                {
                                    "Dátum": "2003-12-11",
                                    "Kölcsönzések száma": "3"
                                }
                            ]
                        },
                        "text/html": "<table><tr><th>Dátum</th><th>Kölcsönzések száma</th></tr><tr><td>2006-10-02</td><td>1</td></tr><tr><td>2006-10-01</td><td>1</td></tr><tr><td>2003-12-11</td><td>3</td></tr></table>"
                    },
                    "metadata": {}
                }
            ],
            "execution_count": 1
        },
        {
            "cell_type": "markdown",
            "source": [
                "2. <span style=\"font-weight: 600; color: rgb(36, 41, 47); font-family: -apple-system, BlinkMacSystemFont, &quot;Segoe UI&quot;, Helvetica, Arial, sans-serif, &quot;Apple Color Emoji&quot;, &quot;Segoe UI Emoji&quot;; font-size: 16px;\">Mennyi a dvd-k átlagos ára stílusonkénti bontásban?</span>\n",
                "\n",
                "1. Csak azokat a stílusokat vegyük figyelembe, ahol az átlagos ár 4500 Ft feletti!\n",
                "2. Az oszlopokat nevezzük el értelemszerűen!\n",
                "3. A listát rendezzük átlagos ár szerint csökkenő sorrendbe!"
            ],
            "metadata": {
                "azdata_cell_guid": "88f5b4bb-f4c1-4bad-a0c7-b2592687b422"
            },
            "attachments": {}
        },
        {
            "cell_type": "code",
            "source": [
                "SELECT stilus as \"Stílus\",\r\n",
                "    AVG(nettoar) AS \"Átlagos ár\"\r\n",
                "FROM dvd\r\n",
                "GROUP BY stilus\r\n",
                "HAVING AVG(nettoar)>4500\r\n",
                "ORDER BY AVG(nettoar) DESC\r\n",
                ""
            ],
            "metadata": {
                "azdata_cell_guid": "e9de5726-f036-4fb9-8c33-a873955ed886",
                "language": "sql"
            },
            "outputs": [
                {
                    "output_type": "display_data",
                    "data": {
                        "text/html": "(30 rows affected)"
                    },
                    "metadata": {}
                },
                {
                    "output_type": "display_data",
                    "data": {
                        "text/html": "Total execution time: 00:00:00.022"
                    },
                    "metadata": {}
                },
                {
                    "output_type": "execute_result",
                    "execution_count": 4,
                    "data": {
                        "application/vnd.dataresource+json": {
                            "schema": {
                                "fields": [
                                    {
                                        "name": "Stílus"
                                    },
                                    {
                                        "name": "Átlagos ár"
                                    }
                                ]
                            },
                            "data": [
                                {
                                    "Stílus": "ásványtan",
                                    "Átlagos ár": "5624"
                                },
                                {
                                    "Stílus": "játék (rodeó)",
                                    "Átlagos ár": "5591"
                                },
                                {
                                    "Stílus": "humor",
                                    "Átlagos ár": "5573"
                                },
                                {
                                    "Stílus": "környezetvédelem",
                                    "Átlagos ár": "5508"
                                },
                                {
                                    "Stílus": "kresz",
                                    "Átlagos ár": "5476"
                                },
                                {
                                    "Stílus": "játék (jégkorong)",
                                    "Átlagos ár": "5242"
                                },
                                {
                                    "Stílus": "színház",
                                    "Átlagos ár": "5158"
                                },
                                {
                                    "Stílus": "múvészet",
                                    "Átlagos ár": "5118"
                                },
                                {
                                    "Stílus": "kémia",
                                    "Átlagos ár": "5094"
                                },
                                {
                                    "Stílus": "fordító program",
                                    "Átlagos ár": "5036"
                                },
                                {
                                    "Stílus": "kerttervező",
                                    "Átlagos ár": "4951"
                                },
                                {
                                    "Stílus": "művészet",
                                    "Átlagos ár": "4939,25"
                                },
                                {
                                    "Stílus": "festészet",
                                    "Átlagos ár": "4901"
                                },
                                {
                                    "Stílus": "zene",
                                    "Átlagos ár": "4855,333333333333"
                                },
                                {
                                    "Stílus": "játék",
                                    "Átlagos ár": "4850,466666666666"
                                },
                                {
                                    "Stílus": "játék (labdarúgás)",
                                    "Átlagos ár": "4817,333333333333"
                                },
                                {
                                    "Stílus": "állattan",
                                    "Átlagos ár": "4783,666666666667"
                                },
                                {
                                    "Stílus": "nyelvtan",
                                    "Átlagos ár": "4770,666666666667"
                                },
                                {
                                    "Stílus": "fizika",
                                    "Átlagos ár": "4769"
                                },
                                {
                                    "Stílus": "nyelvtanító",
                                    "Átlagos ár": "4759,476190476191"
                                },
                                {
                                    "Stílus": "csillagászat",
                                    "Átlagos ár": "4733,571428571428"
                                },
                                {
                                    "Stílus": "ismeretterjesztő",
                                    "Átlagos ár": "4726,673913043478"
                                },
                                {
                                    "Stílus": "irodalom, nyelv",
                                    "Átlagos ár": "4704"
                                },
                                {
                                    "Stílus": "gasztronómia",
                                    "Átlagos ár": "4691"
                                },
                                {
                                    "Stílus": "történelem",
                                    "Átlagos ár": "4655,731707317073"
                                },
                                {
                                    "Stílus": "szótár",
                                    "Átlagos ár": "4624,428571428572"
                                },
                                {
                                    "Stílus": "sport",
                                    "Átlagos ár": "4607"
                                },
                                {
                                    "Stílus": "földrajz",
                                    "Átlagos ár": "4580,0625"
                                },
                                {
                                    "Stílus": "matematika",
                                    "Átlagos ár": "4520,777777777777"
                                },
                                {
                                    "Stílus": "felvételi",
                                    "Átlagos ár": "4501,333333333333"
                                }
                            ]
                        },
                        "text/html": "<table><tr><th>Stílus</th><th>Átlagos ár</th></tr><tr><td>ásványtan</td><td>5624</td></tr><tr><td>játék (rodeó)</td><td>5591</td></tr><tr><td>humor</td><td>5573</td></tr><tr><td>környezetvédelem</td><td>5508</td></tr><tr><td>kresz</td><td>5476</td></tr><tr><td>játék (jégkorong)</td><td>5242</td></tr><tr><td>színház</td><td>5158</td></tr><tr><td>múvészet</td><td>5118</td></tr><tr><td>kémia</td><td>5094</td></tr><tr><td>fordító program</td><td>5036</td></tr><tr><td>kerttervező</td><td>4951</td></tr><tr><td>művészet</td><td>4939,25</td></tr><tr><td>festészet</td><td>4901</td></tr><tr><td>zene</td><td>4855,333333333333</td></tr><tr><td>játék</td><td>4850,466666666666</td></tr><tr><td>játék (labdarúgás)</td><td>4817,333333333333</td></tr><tr><td>állattan</td><td>4783,666666666667</td></tr><tr><td>nyelvtan</td><td>4770,666666666667</td></tr><tr><td>fizika</td><td>4769</td></tr><tr><td>nyelvtanító</td><td>4759,476190476191</td></tr><tr><td>csillagászat</td><td>4733,571428571428</td></tr><tr><td>ismeretterjesztő</td><td>4726,673913043478</td></tr><tr><td>irodalom, nyelv</td><td>4704</td></tr><tr><td>gasztronómia</td><td>4691</td></tr><tr><td>történelem</td><td>4655,731707317073</td></tr><tr><td>szótár</td><td>4624,428571428572</td></tr><tr><td>sport</td><td>4607</td></tr><tr><td>földrajz</td><td>4580,0625</td></tr><tr><td>matematika</td><td>4520,777777777777</td></tr><tr><td>felvételi</td><td>4501,333333333333</td></tr></table>"
                    },
                    "metadata": {}
                }
            ],
            "execution_count": 4
        },
        {
            "cell_type": "markdown",
            "source": [
                "3. <span style=\"color:rgb(36, 41, 47);font-family:-apple-system, BlinkMacSystemFont, &quot;Segoe UI&quot;, Helvetica, Arial, sans-serif, &quot;Apple Color Emoji&quot;, &quot;Segoe UI Emoji&quot;;font-size:16px;\">Listázzuk nyelvenkénti, azon belül stílusonkénti bontásban, hogy mennyi a dvd-k legkisebb és legnagyobb ára!&nbsp;</span> \n",
                "\n",
                "<span style=\"font-size: 16px;\">a. Az oszlopok neve legyen 'Nyelv', 'Stílus', 'MinÁr' és 'MaxÁr'!<br>b.&nbsp;</span> A listából hagyjuk ki azokat a sorokat, ahol a nyelv vagy a stílus nincs megadva!  \n",
                "c. Szintén hagyjuk ki azokat a csoportokat, ahol a csoport elemszáma 3-nál kisebb!"
            ],
            "metadata": {
                "azdata_cell_guid": "9e7249de-1b59-43d8-84b1-26fa7d81fc5a"
            },
            "attachments": {}
        },
        {
            "cell_type": "code",
            "source": [
                "SELECT nyelvek.lang as 'Nyelv',\r\n",
                "    dvd.stilus as 'Stílus',\r\n",
                "    MIN(dvd.nettoar) as 'MinÁr',\r\n",
                "    MAX(dvd.nettoar) as 'MaxÁR'\r\n",
                "FROM dvd JOIN nyelvek ON dvd.lang = nyelvek.id\r\n",
                "GROUP BY nyelvek.lang, dvd.stilus\r\n",
                "HAVING COUNT(*) >= 3\r\n",
                "ORDER BY nyelvek.lang ASC, dvd.stilus ASC"
            ],
            "metadata": {
                "azdata_cell_guid": "6405d3e8-a9b1-45d7-aa76-3b1e785ef6cc",
                "language": "sql",
                "tags": []
            },
            "outputs": [
                {
                    "output_type": "display_data",
                    "data": {
                        "text/html": "(25 rows affected)"
                    },
                    "metadata": {}
                },
                {
                    "output_type": "display_data",
                    "data": {
                        "text/html": "Total execution time: 00:00:00.025"
                    },
                    "metadata": {}
                },
                {
                    "output_type": "execute_result",
                    "execution_count": 23,
                    "data": {
                        "application/vnd.dataresource+json": {
                            "schema": {
                                "fields": [
                                    {
                                        "name": "Nyelv"
                                    },
                                    {
                                        "name": "Stílus"
                                    },
                                    {
                                        "name": "MinÁr"
                                    },
                                    {
                                        "name": "MaxÁR"
                                    }
                                ]
                            },
                            "data": [
                                {
                                    "Nyelv": "angol",
                                    "Stílus": "ismeretterjesztő",
                                    "MinÁr": "5334",
                                    "MaxÁR": "5900"
                                },
                                {
                                    "Nyelv": "angol",
                                    "Stílus": "játék",
                                    "MinÁr": "3144",
                                    "MaxÁR": "6062"
                                },
                                {
                                    "Nyelv": "angol",
                                    "Stílus": "játék (autóverseny)",
                                    "MinÁr": "3106",
                                    "MaxÁR": "5005"
                                },
                                {
                                    "Nyelv": "angol",
                                    "Stílus": "nyelvtanító",
                                    "MinÁr": "3115",
                                    "MaxÁR": "6068"
                                },
                                {
                                    "Nyelv": "angol",
                                    "Stílus": "szótár",
                                    "MinÁr": "3509",
                                    "MaxÁR": "5638"
                                },
                                {
                                    "Nyelv": "angol/német",
                                    "Stílus": "nyelvtanító",
                                    "MinÁr": "3775",
                                    "MaxÁR": "5882"
                                },
                                {
                                    "Nyelv": "francia",
                                    "Stílus": "nyelvtanító",
                                    "MinÁr": "3770",
                                    "MaxÁR": "5619"
                                },
                                {
                                    "Nyelv": "magyar",
                                    "Stílus": "állattan",
                                    "MinÁr": "4153",
                                    "MaxÁR": "5235"
                                },
                                {
                                    "Nyelv": "magyar",
                                    "Stílus": "biológia",
                                    "MinÁr": "3482",
                                    "MaxÁR": "5543"
                                },
                                {
                                    "Nyelv": "magyar",
                                    "Stílus": "csillagászat",
                                    "MinÁr": "3582",
                                    "MaxÁR": "5992"
                                },
                                {
                                    "Nyelv": "magyar",
                                    "Stílus": "felvételi",
                                    "MinÁr": "3215",
                                    "MaxÁR": "5955"
                                },
                                {
                                    "Nyelv": "magyar",
                                    "Stílus": "fizika",
                                    "MinÁr": "3734",
                                    "MaxÁR": "5763"
                                },
                                {
                                    "Nyelv": "magyar",
                                    "Stílus": "földrajz",
                                    "MinÁr": "3123",
                                    "MaxÁR": "6065"
                                },
                                {
                                    "Nyelv": "magyar",
                                    "Stílus": "gasztronómia",
                                    "MinÁr": "3258",
                                    "MaxÁR": "5706"
                                },
                                {
                                    "Nyelv": "magyar",
                                    "Stílus": "irodalom",
                                    "MinÁr": "3391",
                                    "MaxÁR": "5654"
                                },
                                {
                                    "Nyelv": "magyar",
                                    "Stílus": "ismeretterjesztő",
                                    "MinÁr": "3256",
                                    "MaxÁR": "6072"
                                },
                                {
                                    "Nyelv": "magyar",
                                    "Stílus": "játék",
                                    "MinÁr": "3110",
                                    "MaxÁR": "6078"
                                },
                                {
                                    "Nyelv": "magyar",
                                    "Stílus": "matematika",
                                    "MinÁr": "3105",
                                    "MaxÁR": "5995"
                                },
                                {
                                    "Nyelv": "magyar",
                                    "Stílus": "művészet",
                                    "MinÁr": "3490",
                                    "MaxÁR": "6098"
                                },
                                {
                                    "Nyelv": "magyar",
                                    "Stílus": "nyelvtan",
                                    "MinÁr": "3688",
                                    "MaxÁR": "5845"
                                },
                                {
                                    "Nyelv": "magyar",
                                    "Stílus": "számítástechnika",
                                    "MinÁr": "3277",
                                    "MaxÁR": "5260"
                                },
                                {
                                    "Nyelv": "magyar",
                                    "Stílus": "történelem",
                                    "MinÁr": "3122",
                                    "MaxÁR": "6084"
                                },
                                {
                                    "Nyelv": "magyar",
                                    "Stílus": "zene",
                                    "MinÁr": "3391",
                                    "MaxÁR": "5730"
                                },
                                {
                                    "Nyelv": "német",
                                    "Stílus": "nyelvtanító",
                                    "MinÁr": "3313",
                                    "MaxÁR": "5990"
                                },
                                {
                                    "Nyelv": "olasz",
                                    "Stílus": "nyelvtanító",
                                    "MinÁr": "3419",
                                    "MaxÁR": "6082"
                                }
                            ]
                        },
                        "text/html": "<table><tr><th>Nyelv</th><th>Stílus</th><th>MinÁr</th><th>MaxÁR</th></tr><tr><td>angol</td><td>ismeretterjesztő</td><td>5334</td><td>5900</td></tr><tr><td>angol</td><td>játék</td><td>3144</td><td>6062</td></tr><tr><td>angol</td><td>játék (autóverseny)</td><td>3106</td><td>5005</td></tr><tr><td>angol</td><td>nyelvtanító</td><td>3115</td><td>6068</td></tr><tr><td>angol</td><td>szótár</td><td>3509</td><td>5638</td></tr><tr><td>angol/német</td><td>nyelvtanító</td><td>3775</td><td>5882</td></tr><tr><td>francia</td><td>nyelvtanító</td><td>3770</td><td>5619</td></tr><tr><td>magyar</td><td>állattan</td><td>4153</td><td>5235</td></tr><tr><td>magyar</td><td>biológia</td><td>3482</td><td>5543</td></tr><tr><td>magyar</td><td>csillagászat</td><td>3582</td><td>5992</td></tr><tr><td>magyar</td><td>felvételi</td><td>3215</td><td>5955</td></tr><tr><td>magyar</td><td>fizika</td><td>3734</td><td>5763</td></tr><tr><td>magyar</td><td>földrajz</td><td>3123</td><td>6065</td></tr><tr><td>magyar</td><td>gasztronómia</td><td>3258</td><td>5706</td></tr><tr><td>magyar</td><td>irodalom</td><td>3391</td><td>5654</td></tr><tr><td>magyar</td><td>ismeretterjesztő</td><td>3256</td><td>6072</td></tr><tr><td>magyar</td><td>játék</td><td>3110</td><td>6078</td></tr><tr><td>magyar</td><td>matematika</td><td>3105</td><td>5995</td></tr><tr><td>magyar</td><td>művészet</td><td>3490</td><td>6098</td></tr><tr><td>magyar</td><td>nyelvtan</td><td>3688</td><td>5845</td></tr><tr><td>magyar</td><td>számítástechnika</td><td>3277</td><td>5260</td></tr><tr><td>magyar</td><td>történelem</td><td>3122</td><td>6084</td></tr><tr><td>magyar</td><td>zene</td><td>3391</td><td>5730</td></tr><tr><td>német</td><td>nyelvtanító</td><td>3313</td><td>5990</td></tr><tr><td>olasz</td><td>nyelvtanító</td><td>3419</td><td>6082</td></tr></table>"
                    },
                    "metadata": {}
                }
            ],
            "execution_count": 23
        },
        {
            "cell_type": "markdown",
            "source": [
                "4. <span style=\"color: rgb(36, 41, 47); font-family: -apple-system, BlinkMacSystemFont, &quot;Segoe UI&quot;, Helvetica, Arial, sans-serif, &quot;Apple Color Emoji&quot;, &quot;Segoe UI Emoji&quot;; font-size: 16px;\">Készítsünk listát, amely a csoportokat hoz létre aszerint, hogy a mai naptól számítva hány nap telt el a kölcsönzés kezdete óta. A lista jelenítse meg csoportonkénti bontásban a kikölcsönzött dvd-k számát!</span>\n",
                "\n",
                "1. Az oszlopokat nevezzük el értelemszerűen!\n",
                "2. A listát rendezzük az eltelt napok száma szerint csökkenő sorrendbe!"
            ],
            "metadata": {
                "azdata_cell_guid": "6478e469-c094-472c-a772-ccd5b5c61516"
            },
            "attachments": {}
        },
        {
            "cell_type": "code",
            "source": [
                "SELECT DATEDIFF(DAY,ki_datum,GETDATE()) as 'Eltelt napok',\r\n",
                "    COUNT(*) as 'Darab'\r\n",
                "FROM kolcsonzesek\r\n",
                "GROUP BY DATEDIFF(DAY,ki_datum,GETDATE())\r\n",
                "ORDER BY DATEDIFF(DAY,ki_datum,GETDATE()) DESC"
            ],
            "metadata": {
                "azdata_cell_guid": "02031ea2-3838-458d-839c-228e3b362b61",
                "language": "sql"
            },
            "outputs": [
                {
                    "output_type": "display_data",
                    "data": {
                        "text/html": "(3 rows affected)"
                    },
                    "metadata": {}
                },
                {
                    "output_type": "display_data",
                    "data": {
                        "text/html": "Total execution time: 00:00:00.018"
                    },
                    "metadata": {}
                },
                {
                    "output_type": "execute_result",
                    "execution_count": 29,
                    "data": {
                        "application/vnd.dataresource+json": {
                            "schema": {
                                "fields": [
                                    {
                                        "name": "Eltelt napok"
                                    },
                                    {
                                        "name": "Darab"
                                    }
                                ]
                            },
                            "data": [
                                {
                                    "Eltelt napok": "7381",
                                    "Darab": "3"
                                },
                                {
                                    "Eltelt napok": "6356",
                                    "Darab": "1"
                                },
                                {
                                    "Eltelt napok": "6355",
                                    "Darab": "1"
                                }
                            ]
                        },
                        "text/html": "<table><tr><th>Eltelt napok</th><th>Darab</th></tr><tr><td>7381</td><td>3</td></tr><tr><td>6356</td><td>1</td></tr><tr><td>6355</td><td>1</td></tr></table>"
                    },
                    "metadata": {}
                }
            ],
            "execution_count": 29
        },
        {
            "cell_type": "markdown",
            "source": [
                "5. <span style=\"color: rgb(36, 41, 47); font-family: -apple-system, BlinkMacSystemFont, &quot;Segoe UI&quot;, Helvetica, Arial, sans-serif, &quot;Apple Color Emoji&quot;, &quot;Segoe UI Emoji&quot;; font-size: 16px;\">A kölcsönző tulajdonosa elhatározza, hogy ezentúl kerekebb árakat alkalmaz. Ezért minden dvd árát 1000 Ft-ra kerekíti. Készítsünk lekérdezést, amely megmutatja, hogy melyik 1000 Ft-ra kerekített ár szerint, azon belül stílus szerint hány db dvd összesen raktáron! **</span>\n",
                "\n",
                "1. Csak olyan csoportokat listázzunk, ahol a raktárkészlet legalább 30!\n",
                "2. A listát rendezzük kerekített ár szerint, azon belül raktárkészlet szerint növekvő sorrendbe!"
            ],
            "metadata": {
                "azdata_cell_guid": "9edbbaf9-c276-4898-9a01-e1b2993c089f"
            },
            "attachments": {}
        },
        {
            "cell_type": "code",
            "source": [
                "SELECT ROUND(nettoar,-3) as 'Kerekített',\r\n",
                "    stilus as 'Stílus',\r\n",
                "    SUM([raktár készlet]) as 'Darab'\r\n",
                "FROM dvd\r\n",
                "GROUP BY ROUND(nettoar,-3), stilus\r\n",
                "HAVING SUM([raktár készlet])>=30\r\n",
                "ORDER BY ROUND(nettoar,-3) ASC, SUM([raktár készlet]) ASC\r\n",
                ""
            ],
            "metadata": {
                "azdata_cell_guid": "5ad5fdcb-2878-4111-861a-833bcd50e935",
                "language": "sql",
                "tags": []
            },
            "outputs": [
                {
                    "output_type": "display_data",
                    "data": {
                        "text/html": "(27 rows affected)"
                    },
                    "metadata": {}
                },
                {
                    "output_type": "display_data",
                    "data": {
                        "text/html": "Total execution time: 00:00:00.068"
                    },
                    "metadata": {}
                },
                {
                    "output_type": "execute_result",
                    "metadata": {},
                    "execution_count": 1,
                    "data": {
                        "application/vnd.dataresource+json": {
                            "schema": {
                                "fields": [
                                    {
                                        "name": "Kerekített"
                                    },
                                    {
                                        "name": "Stílus"
                                    },
                                    {
                                        "name": "Darab"
                                    }
                                ]
                            },
                            "data": [
                                {
                                    "Kerekített": "3000",
                                    "Stílus": "földrajz",
                                    "Darab": "30"
                                },
                                {
                                    "Kerekített": "3000",
                                    "Stílus": "nyelvtanító",
                                    "Darab": "30"
                                },
                                {
                                    "Kerekített": "3000",
                                    "Stílus": "játék",
                                    "Darab": "40"
                                },
                                {
                                    "Kerekített": "3000",
                                    "Stílus": "történelem",
                                    "Darab": "40"
                                },
                                {
                                    "Kerekített": "3000",
                                    "Stílus": "ismeretterjesztő",
                                    "Darab": "70"
                                },
                                {
                                    "Kerekített": "4000",
                                    "Stílus": "szótár",
                                    "Darab": "30"
                                },
                                {
                                    "Kerekített": "4000",
                                    "Stílus": "csillagászat",
                                    "Darab": "40"
                                },
                                {
                                    "Kerekített": "4000",
                                    "Stílus": "földrajz",
                                    "Darab": "50"
                                },
                                {
                                    "Kerekített": "4000",
                                    "Stílus": "irodalom",
                                    "Darab": "90"
                                },
                                {
                                    "Kerekített": "4000",
                                    "Stílus": "ismeretterjesztő",
                                    "Darab": "130"
                                },
                                {
                                    "Kerekített": "4000",
                                    "Stílus": "nyelvtanító",
                                    "Darab": "140"
                                },
                                {
                                    "Kerekített": "4000",
                                    "Stílus": "történelem",
                                    "Darab": "160"
                                },
                                {
                                    "Kerekített": "4000",
                                    "Stílus": "játék",
                                    "Darab": "180"
                                },
                                {
                                    "Kerekített": "5000",
                                    "Stílus": "irodalom",
                                    "Darab": "30"
                                },
                                {
                                    "Kerekített": "5000",
                                    "Stílus": "matematika",
                                    "Darab": "30"
                                },
                                {
                                    "Kerekített": "5000",
                                    "Stílus": "zene",
                                    "Darab": "30"
                                },
                                {
                                    "Kerekített": "5000",
                                    "Stílus": "földrajz",
                                    "Darab": "60"
                                },
                                {
                                    "Kerekített": "5000",
                                    "Stílus": "történelem",
                                    "Darab": "120"
                                },
                                {
                                    "Kerekített": "5000",
                                    "Stílus": "nyelvtanító",
                                    "Darab": "140"
                                },
                                {
                                    "Kerekített": "5000",
                                    "Stílus": "ismeretterjesztő",
                                    "Darab": "170"
                                },
                                {
                                    "Kerekített": "5000",
                                    "Stílus": "játék",
                                    "Darab": "210"
                                },
                                {
                                    "Kerekített": "6000",
                                    "Stílus": "csillagászat",
                                    "Darab": "30"
                                },
                                {
                                    "Kerekített": "6000",
                                    "Stílus": "irodalom",
                                    "Darab": "30"
                                },
                                {
                                    "Kerekített": "6000",
                                    "Stílus": "történelem",
                                    "Darab": "88"
                                },
                                {
                                    "Kerekített": "6000",
                                    "Stílus": "ismeretterjesztő",
                                    "Darab": "90"
                                },
                                {
                                    "Kerekített": "6000",
                                    "Stílus": "nyelvtanító",
                                    "Darab": "110"
                                },
                                {
                                    "Kerekített": "6000",
                                    "Stílus": "játék",
                                    "Darab": "170"
                                }
                            ]
                        },
                        "text/html": [
                            "<table>",
                            "<tr><th>Kerekített</th><th>Stílus</th><th>Darab</th></tr>",
                            "<tr><td>3000</td><td>földrajz</td><td>30</td></tr>",
                            "<tr><td>3000</td><td>nyelvtanító</td><td>30</td></tr>",
                            "<tr><td>3000</td><td>játék</td><td>40</td></tr>",
                            "<tr><td>3000</td><td>történelem</td><td>40</td></tr>",
                            "<tr><td>3000</td><td>ismeretterjesztő</td><td>70</td></tr>",
                            "<tr><td>4000</td><td>szótár</td><td>30</td></tr>",
                            "<tr><td>4000</td><td>csillagászat</td><td>40</td></tr>",
                            "<tr><td>4000</td><td>földrajz</td><td>50</td></tr>",
                            "<tr><td>4000</td><td>irodalom</td><td>90</td></tr>",
                            "<tr><td>4000</td><td>ismeretterjesztő</td><td>130</td></tr>",
                            "<tr><td>4000</td><td>nyelvtanító</td><td>140</td></tr>",
                            "<tr><td>4000</td><td>történelem</td><td>160</td></tr>",
                            "<tr><td>4000</td><td>játék</td><td>180</td></tr>",
                            "<tr><td>5000</td><td>irodalom</td><td>30</td></tr>",
                            "<tr><td>5000</td><td>matematika</td><td>30</td></tr>",
                            "<tr><td>5000</td><td>zene</td><td>30</td></tr>",
                            "<tr><td>5000</td><td>földrajz</td><td>60</td></tr>",
                            "<tr><td>5000</td><td>történelem</td><td>120</td></tr>",
                            "<tr><td>5000</td><td>nyelvtanító</td><td>140</td></tr>",
                            "<tr><td>5000</td><td>ismeretterjesztő</td><td>170</td></tr>",
                            "<tr><td>5000</td><td>játék</td><td>210</td></tr>",
                            "<tr><td>6000</td><td>csillagászat</td><td>30</td></tr>",
                            "<tr><td>6000</td><td>irodalom</td><td>30</td></tr>",
                            "<tr><td>6000</td><td>történelem</td><td>88</td></tr>",
                            "<tr><td>6000</td><td>ismeretterjesztő</td><td>90</td></tr>",
                            "<tr><td>6000</td><td>nyelvtanító</td><td>110</td></tr>",
                            "<tr><td>6000</td><td>játék</td><td>170</td></tr>",
                            "</table>"
                        ]
                    }
                }
            ],
            "execution_count": 1
        },
        {
            "cell_type": "markdown",
            "source": [
                "6. <span style=\"font-weight: 600; color: rgb(36, 41, 47); font-family: -apple-system, BlinkMacSystemFont, &quot;Segoe UI&quot;, Helvetica, Arial, sans-serif, &quot;Apple Color Emoji&quot;, &quot;Segoe UI Emoji&quot;; font-size: 16px;\">A dvd-ket csoportosíthatjuk aszerint, hogy milyen hosszú a címük. Amelyiknél a cím hosszúsága 10 karakter alatt van, az legyen Rövid, 10-20-ig Átlagos, 20 felett Hosszú. Hány Rövid, Átlagos, illetve Hosszú dvd-van összesen raktáron?</span>\n",
                "\n",
                "1. Az oszlopok neve legyen 'Cím hosszúság' és 'Darabszám"
            ],
            "metadata": {
                "azdata_cell_guid": "5fe65c1c-2479-45ac-ad03-ec99d12eae21"
            },
            "attachments": {}
        },
        {
            "cell_type": "code",
            "source": [
                "SELECT CASE\r\n",
                "    WHEN LEN(cim)<10 THEN 'Rövid'\r\n",
                "    WHEN LEN(cim)>=10 AND LEN(cim)<20 THEN 'Átlagos'\r\n",
                "    WHEN LEN(cim)>=20 THEN 'Hosszú'\r\n",
                "    END AS 'Cím hosszúság',\r\n",
                "    COUNT(ID) AS 'Darabszám'\r\n",
                "FROM dvd\r\n",
                "WHERE cim IS NOT NULL\r\n",
                "GROUP BY CASE\r\n",
                "    WHEN LEN(cim)<10 THEN 'Rövid'\r\n",
                "    WHEN LEN(cim)>=10 AND LEN(cim)<20 THEN 'Átlagos'\r\n",
                "    WHEN LEN(cim)>=20 THEN 'Hosszú'\r\n",
                "    END\r\n",
                ""
            ],
            "metadata": {
                "azdata_cell_guid": "924f2dde-f1c2-4def-a7f9-dbf4bace7735",
                "language": "sql",
                "tags": []
            },
            "outputs": [
                {
                    "output_type": "display_data",
                    "data": {
                        "text/html": "(3 rows affected)"
                    },
                    "metadata": {}
                },
                {
                    "output_type": "display_data",
                    "data": {
                        "text/html": "Total execution time: 00:00:00.022"
                    },
                    "metadata": {}
                },
                {
                    "output_type": "execute_result",
                    "execution_count": 74,
                    "data": {
                        "application/vnd.dataresource+json": {
                            "schema": {
                                "fields": [
                                    {
                                        "name": "Cím hosszúság"
                                    },
                                    {
                                        "name": "Darabszám"
                                    }
                                ]
                            },
                            "data": [
                                {
                                    "Cím hosszúság": "Átlagos",
                                    "Darabszám": "79"
                                },
                                {
                                    "Cím hosszúság": "Hosszú",
                                    "Darabszám": "226"
                                },
                                {
                                    "Cím hosszúság": "Rövid",
                                    "Darabszám": "12"
                                }
                            ]
                        },
                        "text/html": "<table><tr><th>Cím hosszúság</th><th>Darabszám</th></tr><tr><td>Átlagos</td><td>79</td></tr><tr><td>Hosszú</td><td>226</td></tr><tr><td>Rövid</td><td>12</td></tr></table>"
                    },
                    "metadata": {}
                }
            ],
            "execution_count": 74
        },
        {
            "cell_type": "markdown",
            "source": [
                "7. <span style=\"color: rgb(36, 41, 47); font-family: -apple-system, BlinkMacSystemFont, &quot;Segoe UI&quot;, Helvetica, Arial, sans-serif, &quot;Apple Color Emoji&quot;, &quot;Segoe UI Emoji&quot;; font-size: 16px;\">Készítsünk listát arról, hogy melyik teremben hány óra van!</span>\n",
                "\n",
                "1. Jelenítsük meg a termek azonosítóit és a teremben tartott órák számát!\n",
                "2. Az oszlopokat nevezzük el értelemszerűen!\n",
                "3. Szűrjünk azokra a termekre, ahol az órák száma legalább 3!"
            ],
            "metadata": {
                "azdata_cell_guid": "3aeb6bf5-b111-40d5-92b2-9712ce335696"
            },
            "attachments": {}
        },
        {
            "cell_type": "code",
            "source": [
                "SELECT terem AS 'Terem',\r\n",
                "    count(*) AS 'Órák száma'\r\n",
                "FROM Orak\r\n",
                "GROUP BY terem\r\n",
                "HAVING count(*)>=3"
            ],
            "metadata": {
                "azdata_cell_guid": "3e89b651-f56f-4102-af52-30eb2bbe360d",
                "language": "sql"
            },
            "outputs": [
                {
                    "output_type": "display_data",
                    "data": {
                        "text/html": "(11 rows affected)"
                    },
                    "metadata": {}
                },
                {
                    "output_type": "display_data",
                    "data": {
                        "text/html": "Total execution time: 00:00:00.040"
                    },
                    "metadata": {}
                },
                {
                    "output_type": "execute_result",
                    "execution_count": 11,
                    "data": {
                        "application/vnd.dataresource+json": {
                            "schema": {
                                "fields": [
                                    {
                                        "name": "Terem"
                                    },
                                    {
                                        "name": "Órák száma"
                                    }
                                ]
                            },
                            "data": [
                                {
                                    "Terem": "2",
                                    "Órák száma": "5"
                                },
                                {
                                    "Terem": "3",
                                    "Órák száma": "11"
                                },
                                {
                                    "Terem": "4",
                                    "Órák száma": "8"
                                },
                                {
                                    "Terem": "5",
                                    "Órák száma": "5"
                                },
                                {
                                    "Terem": "6",
                                    "Órák száma": "6"
                                },
                                {
                                    "Terem": "7",
                                    "Órák száma": "6"
                                },
                                {
                                    "Terem": "8",
                                    "Órák száma": "6"
                                },
                                {
                                    "Terem": "10",
                                    "Órák száma": "3"
                                },
                                {
                                    "Terem": "12",
                                    "Órák száma": "3"
                                },
                                {
                                    "Terem": "13",
                                    "Órák száma": "5"
                                },
                                {
                                    "Terem": "14",
                                    "Órák száma": "3"
                                }
                            ]
                        },
                        "text/html": "<table><tr><th>Terem</th><th>Órák száma</th></tr><tr><td>2</td><td>5</td></tr><tr><td>3</td><td>11</td></tr><tr><td>4</td><td>8</td></tr><tr><td>5</td><td>5</td></tr><tr><td>6</td><td>6</td></tr><tr><td>7</td><td>6</td></tr><tr><td>8</td><td>6</td></tr><tr><td>10</td><td>3</td></tr><tr><td>12</td><td>3</td></tr><tr><td>13</td><td>5</td></tr><tr><td>14</td><td>3</td></tr></table>"
                    },
                    "metadata": {}
                }
            ],
            "execution_count": 11
        },
        {
            "cell_type": "markdown",
            "source": [
                "8. <span style=\"color: rgb(36, 41, 47); font-family: -apple-system, BlinkMacSystemFont, &quot;Segoe UI&quot;, Helvetica, Arial, sans-serif, &quot;Apple Color Emoji&quot;, &quot;Segoe UI Emoji&quot;; font-size: 16px;\">Készítsünk lekérdezést, amely megadja, hogy minimálian és maximálisan hány kreditet ér egy tantárgy!</span>\n",
                "\n",
                "1. Az oszlopokat nevezzük el értelemszerűen!\n",
                "2. Ne vegyük figyelembe azokat a tantárgyakat, amelyek nevében az „alapjai” szó szerepel, vagy a tantárgy neve 10 karakternél rövidebb!"
            ],
            "metadata": {
                "azdata_cell_guid": "26a504dc-ff6a-439f-94c0-4580eca3eacf"
            },
            "attachments": {}
        },
        {
            "cell_type": "code",
            "source": [
                "SELECT Tantárgynév,\r\n",
                "    MIN(Kredit) AS 'MinKredit',\r\n",
                "    MAX(Kredit) AS 'MaxKredit'\r\n",
                "FROM Tantárgyak\r\n",
                "WHERE Tantárgynév NOT LIKE '%alapjai' AND LEN(Tantárgynév)>=10\r\n",
                "GROUP BY Tantárgynév"
            ],
            "metadata": {
                "azdata_cell_guid": "1cbb8aeb-78b5-4350-aa45-e3202fdab85b",
                "language": "sql"
            },
            "outputs": [
                {
                    "output_type": "display_data",
                    "data": {
                        "text/html": "(10 rows affected)"
                    },
                    "metadata": {}
                },
                {
                    "output_type": "display_data",
                    "data": {
                        "text/html": "Total execution time: 00:00:00.086"
                    },
                    "metadata": {}
                },
                {
                    "output_type": "execute_result",
                    "execution_count": 16,
                    "data": {
                        "application/vnd.dataresource+json": {
                            "schema": {
                                "fields": [
                                    {
                                        "name": "Tantárgynév"
                                    },
                                    {
                                        "name": "MinKredit"
                                    },
                                    {
                                        "name": "MaxKredit"
                                    }
                                ]
                            },
                            "data": [
                                {
                                    "Tantárgynév": "Az öntés elmélete",
                                    "MinKredit": "4",
                                    "MaxKredit": "4"
                                },
                                {
                                    "Tantárgynév": "Az ürge anatómiája",
                                    "MinKredit": "5",
                                    "MaxKredit": "5"
                                },
                                {
                                    "Tantárgynév": "Az ürgeöntés hydrológiai alapjai I.",
                                    "MinKredit": "2",
                                    "MaxKredit": "2"
                                },
                                {
                                    "Tantárgynév": "Az ürgeöntés hydrológiai alapjai II.",
                                    "MinKredit": "4",
                                    "MaxKredit": "4"
                                },
                                {
                                    "Tantárgynév": "Bevezetés az ürgeöntésbe",
                                    "MinKredit": "3",
                                    "MaxKredit": "3"
                                },
                                {
                                    "Tantárgynév": "Fejezetek az ürgék jogaiból",
                                    "MinKredit": "3",
                                    "MaxKredit": "3"
                                },
                                {
                                    "Tantárgynév": "Folyami gáttan",
                                    "MinKredit": "2",
                                    "MaxKredit": "2"
                                },
                                {
                                    "Tantárgynév": "Öntési gyakorlat",
                                    "MinKredit": "1",
                                    "MaxKredit": "1"
                                },
                                {
                                    "Tantárgynév": "ü-business",
                                    "MinKredit": "2",
                                    "MaxKredit": "2"
                                },
                                {
                                    "Tantárgynév": "Ürgeöntés az EU-ban",
                                    "MinKredit": "1",
                                    "MaxKredit": "1"
                                }
                            ]
                        },
                        "text/html": "<table><tr><th>Tantárgynév</th><th>MinKredit</th><th>MaxKredit</th></tr><tr><td>Az öntés elmélete</td><td>4</td><td>4</td></tr><tr><td>Az ürge anatómiája</td><td>5</td><td>5</td></tr><tr><td>Az ürgeöntés hydrológiai alapjai I.</td><td>2</td><td>2</td></tr><tr><td>Az ürgeöntés hydrológiai alapjai II.</td><td>4</td><td>4</td></tr><tr><td>Bevezetés az ürgeöntésbe</td><td>3</td><td>3</td></tr><tr><td>Fejezetek az ürgék jogaiból</td><td>3</td><td>3</td></tr><tr><td>Folyami gáttan</td><td>2</td><td>2</td></tr><tr><td>Öntési gyakorlat</td><td>1</td><td>1</td></tr><tr><td>ü-business</td><td>2</td><td>2</td></tr><tr><td>Ürgeöntés az EU-ban</td><td>1</td><td>1</td></tr></table>"
                    },
                    "metadata": {}
                }
            ],
            "execution_count": 16
        },
        {
            "cell_type": "markdown",
            "source": [
                "9. <span style=\"color: rgb(36, 41, 47); font-family: -apple-system, BlinkMacSystemFont, &quot;Segoe UI&quot;, Helvetica, Arial, sans-serif, &quot;Apple Color Emoji&quot;, &quot;Segoe UI Emoji&quot;; font-size: 16px;\">A tapasztalat alapján a tanársegédeknek 8, az óraadóknak 10 órájuk van egy héten. A többiek annyi órát tartanak, amennyi az elvárt óraszámuk. Készítsünk lekérdezést, amely minden beosztáshoz megjeleníti, hogy hetente hány túlóra tartozik hozzá!</span>\n",
                "\n",
                "1. A lekérdezés csak a beosztások nevét és a heti túlórák számát jelenítse meg!"
            ],
            "metadata": {
                "azdata_cell_guid": "435e2860-2dd5-4877-90f4-34a43baeb53c"
            },
            "attachments": {}
        },
        {
            "cell_type": "code",
            "source": [
                "SELECT Beosztasok.beosztasnev,\r\n",
                "    CASE\r\n",
                "        WHEN Beosztasok.beosztasnev = 'Tanársegéd' THEN sum(Beosztasok.elvart)-8\r\n",
                "        WHEN Beosztasok.beosztasnev = 'Óraadó' THEN sum(Beosztasok.elvart)-10\r\n",
                "    END AS 'Túlórák száma'\r\n",
                "FROM Orak JOIN Oktatok ON Orak.tanar = Oktatok.oktato_id\r\n",
                "    JOIN Beosztasok ON Oktatok.beosztás = Beosztasok.beosztas_id\r\n",
                "GROUP BY Beosztasok.beosztasnev, Beosztasok.elvart"
            ],
            "metadata": {
                "azdata_cell_guid": "ce846351-ddbe-4d8e-b8fb-2a92c73ac80b",
                "language": "sql",
                "tags": []
            },
            "outputs": [
                {
                    "output_type": "display_data",
                    "data": {
                        "text/html": "(5 rows affected)"
                    },
                    "metadata": {}
                },
                {
                    "output_type": "display_data",
                    "data": {
                        "text/html": "Total execution time: 00:00:00.029"
                    },
                    "metadata": {}
                },
                {
                    "output_type": "execute_result",
                    "metadata": {},
                    "execution_count": 4,
                    "data": {
                        "application/vnd.dataresource+json": {
                            "schema": {
                                "fields": [
                                    {
                                        "name": "beosztasnev"
                                    },
                                    {
                                        "name": "Túlórák száma"
                                    }
                                ]
                            },
                            "data": [
                                {
                                    "beosztasnev": "Egyetemi tanár",
                                    "Túlórák száma": "NULL"
                                },
                                {
                                    "beosztasnev": "Docens",
                                    "Túlórák száma": "NULL"
                                },
                                {
                                    "beosztasnev": "Adjunktus",
                                    "Túlórák száma": "NULL"
                                },
                                {
                                    "beosztasnev": "Óraadó",
                                    "Túlórák száma": "50"
                                },
                                {
                                    "beosztasnev": "Tanársegéd",
                                    "Túlórák száma": "124"
                                }
                            ]
                        },
                        "text/html": [
                            "<table>",
                            "<tr><th>beosztasnev</th><th>Túlórák száma</th></tr>",
                            "<tr><td>Egyetemi tanár</td><td>NULL</td></tr>",
                            "<tr><td>Docens</td><td>NULL</td></tr>",
                            "<tr><td>Adjunktus</td><td>NULL</td></tr>",
                            "<tr><td>Óraadó</td><td>50</td></tr>",
                            "<tr><td>Tanársegéd</td><td>124</td></tr>",
                            "</table>"
                        ]
                    }
                }
            ],
            "execution_count": 4
        },
        {
            "cell_type": "markdown",
            "source": [
                "10. <span style=\"font-weight: 600; color: rgb(36, 41, 47); font-family: -apple-system, BlinkMacSystemFont, &quot;Segoe UI&quot;, Helvetica, Arial, sans-serif, &quot;Apple Color Emoji&quot;, &quot;Segoe UI Emoji&quot;; font-size: 16px;\">Melyek azok az oktatók, akiknek nincs órájuk?</span>\n",
                "\n",
                "1. Csak az oktatók neve jelenjen meg!\n",
                "2. ÖTLET: használjunk LEFT JOIN-t, és szűrjünk azokra a rekordokra, ahol NULL érték van a JOIN utáni feltétel jobb oldalán!"
            ],
            "metadata": {
                "azdata_cell_guid": "217c5772-afe2-4a7c-b913-e3a3e09d6411"
            },
            "attachments": {}
        },
        {
            "cell_type": "code",
            "source": [
                "SELECT Oktatok.nev\r\n",
                "FROM Oktatok LEFT JOIN Orak ON Orak.tanar = Oktatok.oktato_id\r\n",
                "WHERE Orak.ora_id IS NULL"
            ],
            "metadata": {
                "azdata_cell_guid": "a9cc0926-3dbd-4ed8-8179-1c39d64a0762",
                "language": "sql"
            },
            "outputs": [
                {
                    "output_type": "display_data",
                    "data": {
                        "text/html": "(5 rows affected)"
                    },
                    "metadata": {}
                },
                {
                    "output_type": "display_data",
                    "data": {
                        "text/html": "Total execution time: 00:00:00.094"
                    },
                    "metadata": {}
                },
                {
                    "output_type": "execute_result",
                    "execution_count": 1,
                    "data": {
                        "application/vnd.dataresource+json": {
                            "schema": {
                                "fields": [
                                    {
                                        "name": "nev"
                                    }
                                ]
                            },
                            "data": [
                                {
                                    "nev": "Józsa Gábor"
                                },
                                {
                                    "nev": "Rácz András"
                                },
                                {
                                    "nev": "Kiss István"
                                },
                                {
                                    "nev": "Mészáros Kriszta"
                                },
                                {
                                    "nev": "Kovacs Istvan"
                                }
                            ]
                        },
                        "text/html": "<table><tr><th>nev</th></tr><tr><td>Józsa Gábor</td></tr><tr><td>Rácz András</td></tr><tr><td>Kiss István</td></tr><tr><td>Mészáros Kriszta</td></tr><tr><td>Kovacs Istvan</td></tr></table>"
                    },
                    "metadata": {}
                }
            ],
            "execution_count": 1
        },
        {
            "cell_type": "markdown",
            "source": [
                "11. <span style=\"font-weight: 600; color: rgb(36, 41, 47); font-family: -apple-system, BlinkMacSystemFont, &quot;Segoe UI&quot;, Helvetica, Arial, sans-serif, &quot;Apple Color Emoji&quot;, &quot;Segoe UI Emoji&quot;; font-size: 16px;\">Készítsünk lekérdezést, amely részletesen megjeleníti az egyes órák fontosabb adatait, azaz</span>\n",
                "\n",
                "1. Az órák azonosítóit, a tanár nevét, a tantárgy nevét, a terem nevét és a kezdési időpontot!\n",
                "2. Az oszlopokat nevezzük el értelemszerűen!"
            ],
            "metadata": {
                "azdata_cell_guid": "d2340f5f-1614-473c-b937-85740d67f7c1"
            },
            "attachments": {}
        },
        {
            "cell_type": "code",
            "source": [
                "SELECT Orak.ora_id AS 'Óra azonosító',\r\n",
                "    Oktatok.nev AS 'Oktató neve',\r\n",
                "    Tantárgyak.Tantárgynév AS 'Tantárgy neve',\r\n",
                "    Termek.Terem AS 'Terem neve',\r\n",
                "    Savok.Időpont AS 'Kezdés ideje'\r\n",
                "FROM Orak JOIN Oktatok ON Orak.tanar = Oktatok.oktato_id\r\n",
                "    JOIN Tantárgyak ON Orak.targy = Tantárgyak.Tkód\r\n",
                "    JOIN Termek ON Orak.terem = Termek.Tkód\r\n",
                "    JOIN Savok ON Orak.Sav = Savok.Sav_id"
            ],
            "metadata": {
                "azdata_cell_guid": "e99c2c53-898f-4787-b0e6-182d106dc16f",
                "language": "sql"
            },
            "outputs": [
                {
                    "output_type": "display_data",
                    "data": {
                        "text/html": "(67 rows affected)"
                    },
                    "metadata": {}
                },
                {
                    "output_type": "display_data",
                    "data": {
                        "text/html": "Total execution time: 00:00:00.075"
                    },
                    "metadata": {}
                },
                {
                    "output_type": "execute_result",
                    "execution_count": 38,
                    "data": {
                        "application/vnd.dataresource+json": {
                            "schema": {
                                "fields": [
                                    {
                                        "name": "Óra azonosító"
                                    },
                                    {
                                        "name": "Oktató neve"
                                    },
                                    {
                                        "name": "Tantárgy neve"
                                    },
                                    {
                                        "name": "Terem neve"
                                    },
                                    {
                                        "name": "Kezdés ideje"
                                    }
                                ]
                            },
                            "data": [
                                {
                                    "Óra azonosító": "159",
                                    "Oktató neve": "Ujfalussi István",
                                    "Tantárgy neve": "Az ürgeöntés alapjai",
                                    "Terem neve": "117",
                                    "Kezdés ideje": "8.00"
                                },
                                {
                                    "Óra azonosító": "160",
                                    "Oktató neve": "Pelikán József",
                                    "Tantárgy neve": "Az ürgeöntés alapjai",
                                    "Terem neve": "118",
                                    "Kezdés ideje": "14.00"
                                },
                                {
                                    "Óra azonosító": "161",
                                    "Oktató neve": "Pelikán József",
                                    "Tantárgy neve": "Az ürgeöntés alapjai",
                                    "Terem neve": "118",
                                    "Kezdés ideje": "9.30"
                                },
                                {
                                    "Óra azonosító": "162",
                                    "Oktató neve": "Kovács András",
                                    "Tantárgy neve": "Az ürgeöntés alapjai",
                                    "Terem neve": "119",
                                    "Kezdés ideje": "12.30"
                                },
                                {
                                    "Óra azonosító": "163",
                                    "Oktató neve": "Szerb László",
                                    "Tantárgy neve": "Az ürgeöntés alapjai",
                                    "Terem neve": "120",
                                    "Kezdés ideje": "9.30"
                                },
                                {
                                    "Óra azonosító": "164",
                                    "Oktató neve": "Kiss János",
                                    "Tantárgy neve": "Az ürgeöntés alapjai",
                                    "Terem neve": "119",
                                    "Kezdés ideje": "11.00"
                                },
                                {
                                    "Óra azonosító": "165",
                                    "Oktató neve": "Szerb László",
                                    "Tantárgy neve": "Az ürgeöntés alapjai",
                                    "Terem neve": "119",
                                    "Kezdés ideje": "11.00"
                                },
                                {
                                    "Óra azonosító": "166",
                                    "Oktató neve": "Szerb László",
                                    "Tantárgy neve": "Az ürgeöntés alapjai",
                                    "Terem neve": "119",
                                    "Kezdés ideje": "12.30"
                                },
                                {
                                    "Óra azonosító": "167",
                                    "Oktató neve": "Szentágotai Istvás",
                                    "Tantárgy neve": "Az ürgeöntés alapjai",
                                    "Terem neve": "120",
                                    "Kezdés ideje": "12.30"
                                },
                                {
                                    "Óra azonosító": "168",
                                    "Oktató neve": "Ujfalussi István",
                                    "Tantárgy neve": "Az ürgeöntés alapjai",
                                    "Terem neve": "217",
                                    "Kezdés ideje": "11.00"
                                },
                                {
                                    "Óra azonosító": "169",
                                    "Oktató neve": "Kovács András",
                                    "Tantárgy neve": "Az ürgeöntés alapjai",
                                    "Terem neve": "218",
                                    "Kezdés ideje": "9.30"
                                },
                                {
                                    "Óra azonosító": "170",
                                    "Oktató neve": "Ludas Mátyás",
                                    "Tantárgy neve": "Az ürgeöntés alapjai",
                                    "Terem neve": "120",
                                    "Kezdés ideje": "9.30"
                                },
                                {
                                    "Óra azonosító": "171",
                                    "Oktató neve": "Szénási ászló",
                                    "Tantárgy neve": "Az ürgeöntés alapjai",
                                    "Terem neve": "220",
                                    "Kezdés ideje": "9.30"
                                },
                                {
                                    "Óra azonosító": "172",
                                    "Oktató neve": "Kiss János",
                                    "Tantárgy neve": "Az ürgeöntés alapjai",
                                    "Terem neve": "119",
                                    "Kezdés ideje": "9.30"
                                },
                                {
                                    "Óra azonosító": "173",
                                    "Oktató neve": "Kovács András",
                                    "Tantárgy neve": "Az ürgeöntés alapjai",
                                    "Terem neve": "119",
                                    "Kezdés ideje": "11.00"
                                },
                                {
                                    "Óra azonosító": "174",
                                    "Oktató neve": "Ludas Mátyás",
                                    "Tantárgy neve": "Az ürgeöntés alapjai",
                                    "Terem neve": "219",
                                    "Kezdés ideje": "11.00"
                                },
                                {
                                    "Óra azonosító": "175",
                                    "Oktató neve": "Szénási ászló",
                                    "Tantárgy neve": "Az ürgeöntés alapjai",
                                    "Terem neve": "120",
                                    "Kezdés ideje": "12.30"
                                },
                                {
                                    "Óra azonosító": "176",
                                    "Oktató neve": "Kovács András",
                                    "Tantárgy neve": "Az ürgeöntés alapjai",
                                    "Terem neve": "118",
                                    "Kezdés ideje": "12.30"
                                },
                                {
                                    "Óra azonosító": "177",
                                    "Oktató neve": "Szentágotai Istvás",
                                    "Tantárgy neve": "Az ürgeöntés alapjai",
                                    "Terem neve": "119",
                                    "Kezdés ideje": "14.00"
                                },
                                {
                                    "Óra azonosító": "178",
                                    "Oktató neve": "Vitéz János",
                                    "Tantárgy neve": "Az ürgeöntés alapjai",
                                    "Terem neve": "220",
                                    "Kezdés ideje": "14.00"
                                },
                                {
                                    "Óra azonosító": "179",
                                    "Oktató neve": "Szentágotai Istvás",
                                    "Tantárgy neve": "Az ürgeöntés alapjai",
                                    "Terem neve": "120",
                                    "Kezdés ideje": "15.30"
                                },
                                {
                                    "Óra azonosító": "180",
                                    "Oktató neve": "Vitéz János",
                                    "Tantárgy neve": "Az ürgeöntés alapjai",
                                    "Terem neve": "119",
                                    "Kezdés ideje": "15.30"
                                },
                                {
                                    "Óra azonosító": "181",
                                    "Oktató neve": "Szentágotai Istvás",
                                    "Tantárgy neve": "Az ürgeöntés alapjai",
                                    "Terem neve": "118",
                                    "Kezdés ideje": "8.00"
                                },
                                {
                                    "Óra azonosító": "182",
                                    "Oktató neve": "Vitéz János",
                                    "Tantárgy neve": "Az ürgeöntés alapjai",
                                    "Terem neve": "219",
                                    "Kezdés ideje": "8.00"
                                },
                                {
                                    "Óra azonosító": "183",
                                    "Oktató neve": "Szentágotai Istvás",
                                    "Tantárgy neve": "Az ürgeöntés alapjai",
                                    "Terem neve": "220",
                                    "Kezdés ideje": "9.30"
                                },
                                {
                                    "Óra azonosító": "184",
                                    "Oktató neve": "Vitéz János",
                                    "Tantárgy neve": "Az ürgeöntés alapjai",
                                    "Terem neve": "218",
                                    "Kezdés ideje": "9.30"
                                },
                                {
                                    "Óra azonosító": "185",
                                    "Oktató neve": "Szentágotai Istvás",
                                    "Tantárgy neve": "Az ürgeöntés alapjai",
                                    "Terem neve": "120",
                                    "Kezdés ideje": "11.00"
                                },
                                {
                                    "Óra azonosító": "186",
                                    "Oktató neve": "Nógrádi Kata",
                                    "Tantárgy neve": "ü-business",
                                    "Terem neve": "219",
                                    "Kezdés ideje": "12.30"
                                },
                                {
                                    "Óra azonosító": "187",
                                    "Oktató neve": "Balkán András",
                                    "Tantárgy neve": "Bevezetés az ürgeöntésbe",
                                    "Terem neve": "217",
                                    "Kezdés ideje": "9.30"
                                },
                                {
                                    "Óra azonosító": "188",
                                    "Oktató neve": "Farkasos Piroska",
                                    "Tantárgy neve": "Bevezetés az ürgeöntésbe",
                                    "Terem neve": "VP 203.",
                                    "Kezdés ideje": "15.30"
                                },
                                {
                                    "Óra azonosító": "189",
                                    "Oktató neve": "Farkasos Piroska",
                                    "Tantárgy neve": "Bevezetés az ürgeöntésbe",
                                    "Terem neve": "VP 203.",
                                    "Kezdés ideje": "9.30"
                                },
                                {
                                    "Óra azonosító": "190",
                                    "Oktató neve": "Farkasos Piroska",
                                    "Tantárgy neve": "Bevezetés az ürgeöntésbe",
                                    "Terem neve": "E.2.238",
                                    "Kezdés ideje": "11.00"
                                },
                                {
                                    "Óra azonosító": "191",
                                    "Oktató neve": "Varga Kata",
                                    "Tantárgy neve": "Az ürgeöntés hydrológiai alapjai II.",
                                    "Terem neve": "220",
                                    "Kezdés ideje": "14.00"
                                },
                                {
                                    "Óra azonosító": "192",
                                    "Oktató neve": "Varga Kata",
                                    "Tantárgy neve": "Az ürgeöntés hydrológiai alapjai II.",
                                    "Terem neve": "119",
                                    "Kezdés ideje": "15.30"
                                },
                                {
                                    "Óra azonosító": "193",
                                    "Oktató neve": "Farkasos Piroska",
                                    "Tantárgy neve": "Az ürgeöntés hydrológiai alapjai II.",
                                    "Terem neve": "217",
                                    "Kezdés ideje": "14.00"
                                },
                                {
                                    "Óra azonosító": "194",
                                    "Oktató neve": "Farkasos Piroska",
                                    "Tantárgy neve": "Az ürgeöntés hydrológiai alapjai II.",
                                    "Terem neve": "E.fsz.I",
                                    "Kezdés ideje": "15.30"
                                },
                                {
                                    "Óra azonosító": "195",
                                    "Oktató neve": "Balkán András",
                                    "Tantárgy neve": "Az ürgeöntés hydrológiai alapjai II.",
                                    "Terem neve": "116",
                                    "Kezdés ideje": "14.00"
                                },
                                {
                                    "Óra azonosító": "196",
                                    "Oktató neve": "Balkán András",
                                    "Tantárgy neve": "Az ürgeöntés hydrológiai alapjai II.",
                                    "Terem neve": "218",
                                    "Kezdés ideje": "15.30"
                                },
                                {
                                    "Óra azonosító": "197",
                                    "Oktató neve": "Farkasos Piroska",
                                    "Tantárgy neve": "Az ürgeöntés hydrológiai alapjai II.",
                                    "Terem neve": "116",
                                    "Kezdés ideje": "8.00"
                                },
                                {
                                    "Óra azonosító": "198",
                                    "Oktató neve": "Farkasos Piroska",
                                    "Tantárgy neve": "Az ürgeöntés hydrológiai alapjai II.",
                                    "Terem neve": "119",
                                    "Kezdés ideje": "9.30"
                                },
                                {
                                    "Óra azonosító": "199",
                                    "Oktató neve": "Szabó Andrera",
                                    "Tantárgy neve": "Az ürgeöntés hydrológiai alapjai II.",
                                    "Terem neve": "218",
                                    "Kezdés ideje": "8.00"
                                },
                                {
                                    "Óra azonosító": "200",
                                    "Oktató neve": "Szabó Andrera",
                                    "Tantárgy neve": "Az ürgeöntés hydrológiai alapjai II.",
                                    "Terem neve": "220",
                                    "Kezdés ideje": "9.30"
                                },
                                {
                                    "Óra azonosító": "201",
                                    "Oktató neve": "Juhász András",
                                    "Tantárgy neve": "Öntési gyakorlat",
                                    "Terem neve": "E.2.238",
                                    "Kezdés ideje": "12.30"
                                },
                                {
                                    "Óra azonosító": "202",
                                    "Oktató neve": "Juhász András",
                                    "Tantárgy neve": "Öntési gyakorlat",
                                    "Terem neve": "E.3.332",
                                    "Kezdés ideje": "14.00"
                                },
                                {
                                    "Óra azonosító": "203",
                                    "Oktató neve": "Aranyi Mária",
                                    "Tantárgy neve": "Az ürgeöntés hydrológiai alapjai I.",
                                    "Terem neve": "S.Asor.S3",
                                    "Kezdés ideje": "12.30"
                                },
                                {
                                    "Óra azonosító": "204",
                                    "Oktató neve": "Róbert Gida",
                                    "Tantárgy neve": "Az ürgeöntés hydrológiai alapjai I.",
                                    "Terem neve": "120",
                                    "Kezdés ideje": "14.00"
                                },
                                {
                                    "Óra azonosító": "205",
                                    "Oktató neve": "Ujfalussi István",
                                    "Tantárgy neve": "Az öntés elmélete",
                                    "Terem neve": "220",
                                    "Kezdés ideje": "12.30"
                                },
                                {
                                    "Óra azonosító": "206",
                                    "Oktató neve": "Varga Kata",
                                    "Tantárgy neve": "Az öntés elmélete",
                                    "Terem neve": "S.Asor.S3",
                                    "Kezdés ideje": "8.00"
                                },
                                {
                                    "Óra azonosító": "207",
                                    "Oktató neve": "Varga Kata",
                                    "Tantárgy neve": "Az öntés elmélete",
                                    "Terem neve": "219",
                                    "Kezdés ideje": "12.30"
                                },
                                {
                                    "Óra azonosító": "208",
                                    "Oktató neve": "Jogrerős Pál",
                                    "Tantárgy neve": "Ürgevitel",
                                    "Terem neve": "VP 203.",
                                    "Kezdés ideje": "8.00"
                                },
                                {
                                    "Óra azonosító": "209",
                                    "Oktató neve": "Jogrerős Pál",
                                    "Tantárgy neve": "Ürgevitel",
                                    "Terem neve": "VP 203.",
                                    "Kezdés ideje": "9.30"
                                },
                                {
                                    "Óra azonosító": "210",
                                    "Oktató neve": "Szép llonka",
                                    "Tantárgy neve": "Ürgeöntés az EU-ban",
                                    "Terem neve": "E.2.238",
                                    "Kezdés ideje": "15.30"
                                },
                                {
                                    "Óra azonosító": "211",
                                    "Oktató neve": "Szép llonka",
                                    "Tantárgy neve": "Ürgeöntés az EU-ban",
                                    "Terem neve": "217",
                                    "Kezdés ideje": "17.00"
                                },
                                {
                                    "Óra azonosító": "212",
                                    "Oktató neve": "Kiss János",
                                    "Tantárgy neve": "Ürgeöntés az EU-ban",
                                    "Terem neve": "120",
                                    "Kezdés ideje": "18.30"
                                },
                                {
                                    "Óra azonosító": "213",
                                    "Oktató neve": "Kiss János",
                                    "Tantárgy neve": "Ürgeöntés az EU-ban",
                                    "Terem neve": "218",
                                    "Kezdés ideje": "20.00"
                                },
                                {
                                    "Óra azonosító": "214",
                                    "Oktató neve": "Pelikán József",
                                    "Tantárgy neve": "Az ürge anatómiája",
                                    "Terem neve": "219",
                                    "Kezdés ideje": "11.00"
                                },
                                {
                                    "Óra azonosító": "215",
                                    "Oktató neve": "Pelikán József",
                                    "Tantárgy neve": "Az ürge anatómiája",
                                    "Terem neve": "E.fsz.IV.",
                                    "Kezdés ideje": "12.30"
                                },
                                {
                                    "Óra azonosító": "216",
                                    "Oktató neve": "Szép llonka",
                                    "Tantárgy neve": "Az ürge anatómiája",
                                    "Terem neve": "218",
                                    "Kezdés ideje": "11.00"
                                },
                                {
                                    "Óra azonosító": "217",
                                    "Oktató neve": "Szép llonka",
                                    "Tantárgy neve": "Az ürge anatómiája",
                                    "Terem neve": "217",
                                    "Kezdés ideje": "12.30"
                                },
                                {
                                    "Óra azonosító": "218",
                                    "Oktató neve": "Pelikán József",
                                    "Tantárgy neve": "Az ürge anatómiája",
                                    "Terem neve": "118",
                                    "Kezdés ideje": "15.30"
                                },
                                {
                                    "Óra azonosító": "219",
                                    "Oktató neve": "Pelikán József",
                                    "Tantárgy neve": "Az ürge anatómiája",
                                    "Terem neve": "219",
                                    "Kezdés ideje": "17.00"
                                },
                                {
                                    "Óra azonosító": "220",
                                    "Oktató neve": "Kovács László",
                                    "Tantárgy neve": "Fejezetek az ürgék jogaiból",
                                    "Terem neve": "119",
                                    "Kezdés ideje": "11.00"
                                },
                                {
                                    "Óra azonosító": "221",
                                    "Oktató neve": "Kovács László",
                                    "Tantárgy neve": "Fejezetek az ürgék jogaiból",
                                    "Terem neve": "VP 203.",
                                    "Kezdés ideje": "11.00"
                                },
                                {
                                    "Óra azonosító": "222",
                                    "Oktató neve": "Kovács László",
                                    "Tantárgy neve": "Fejezetek az ürgék jogaiból",
                                    "Terem neve": "116",
                                    "Kezdés ideje": "14.00"
                                },
                                {
                                    "Óra azonosító": "223",
                                    "Oktató neve": "Kovács László",
                                    "Tantárgy neve": "Fejezetek az ürgék jogaiból",
                                    "Terem neve": "S.Asor.S3",
                                    "Kezdés ideje": "8.00"
                                },
                                {
                                    "Óra azonosító": "226",
                                    "Oktató neve": "Szentágotai Istvás",
                                    "Tantárgy neve": "ürgefőzés",
                                    "Terem neve": "117",
                                    "Kezdés ideje": "11.00"
                                },
                                {
                                    "Óra azonosító": "227",
                                    "Oktató neve": "Szentágotai Istvás",
                                    "Tantárgy neve": "Az ürgeöntés hydrológiai alapjai I.",
                                    "Terem neve": "116",
                                    "Kezdés ideje": "14.00"
                                }
                            ]
                        },
                        "text/html": "<table><tr><th>Óra azonosító</th><th>Oktató neve</th><th>Tantárgy neve</th><th>Terem neve</th><th>Kezdés ideje</th></tr><tr><td>159</td><td>Ujfalussi István</td><td>Az ürgeöntés alapjai</td><td>117</td><td>8.00</td></tr><tr><td>160</td><td>Pelikán József</td><td>Az ürgeöntés alapjai</td><td>118</td><td>14.00</td></tr><tr><td>161</td><td>Pelikán József</td><td>Az ürgeöntés alapjai</td><td>118</td><td>9.30</td></tr><tr><td>162</td><td>Kovács András</td><td>Az ürgeöntés alapjai</td><td>119</td><td>12.30</td></tr><tr><td>163</td><td>Szerb László</td><td>Az ürgeöntés alapjai</td><td>120</td><td>9.30</td></tr><tr><td>164</td><td>Kiss János</td><td>Az ürgeöntés alapjai</td><td>119</td><td>11.00</td></tr><tr><td>165</td><td>Szerb László</td><td>Az ürgeöntés alapjai</td><td>119</td><td>11.00</td></tr><tr><td>166</td><td>Szerb László</td><td>Az ürgeöntés alapjai</td><td>119</td><td>12.30</td></tr><tr><td>167</td><td>Szentágotai Istvás</td><td>Az ürgeöntés alapjai</td><td>120</td><td>12.30</td></tr><tr><td>168</td><td>Ujfalussi István</td><td>Az ürgeöntés alapjai</td><td>217</td><td>11.00</td></tr><tr><td>169</td><td>Kovács András</td><td>Az ürgeöntés alapjai</td><td>218</td><td>9.30</td></tr><tr><td>170</td><td>Ludas Mátyás</td><td>Az ürgeöntés alapjai</td><td>120</td><td>9.30</td></tr><tr><td>171</td><td>Szénási ászló</td><td>Az ürgeöntés alapjai</td><td>220</td><td>9.30</td></tr><tr><td>172</td><td>Kiss János</td><td>Az ürgeöntés alapjai</td><td>119</td><td>9.30</td></tr><tr><td>173</td><td>Kovács András</td><td>Az ürgeöntés alapjai</td><td>119</td><td>11.00</td></tr><tr><td>174</td><td>Ludas Mátyás</td><td>Az ürgeöntés alapjai</td><td>219</td><td>11.00</td></tr><tr><td>175</td><td>Szénási ászló</td><td>Az ürgeöntés alapjai</td><td>120</td><td>12.30</td></tr><tr><td>176</td><td>Kovács András</td><td>Az ürgeöntés alapjai</td><td>118</td><td>12.30</td></tr><tr><td>177</td><td>Szentágotai Istvás</td><td>Az ürgeöntés alapjai</td><td>119</td><td>14.00</td></tr><tr><td>178</td><td>Vitéz János</td><td>Az ürgeöntés alapjai</td><td>220</td><td>14.00</td></tr><tr><td>179</td><td>Szentágotai Istvás</td><td>Az ürgeöntés alapjai</td><td>120</td><td>15.30</td></tr><tr><td>180</td><td>Vitéz János</td><td>Az ürgeöntés alapjai</td><td>119</td><td>15.30</td></tr><tr><td>181</td><td>Szentágotai Istvás</td><td>Az ürgeöntés alapjai</td><td>118</td><td>8.00</td></tr><tr><td>182</td><td>Vitéz János</td><td>Az ürgeöntés alapjai</td><td>219</td><td>8.00</td></tr><tr><td>183</td><td>Szentágotai Istvás</td><td>Az ürgeöntés alapjai</td><td>220</td><td>9.30</td></tr><tr><td>184</td><td>Vitéz János</td><td>Az ürgeöntés alapjai</td><td>218</td><td>9.30</td></tr><tr><td>185</td><td>Szentágotai Istvás</td><td>Az ürgeöntés alapjai</td><td>120</td><td>11.00</td></tr><tr><td>186</td><td>Nógrádi Kata</td><td>ü-business</td><td>219</td><td>12.30</td></tr><tr><td>187</td><td>Balkán András</td><td>Bevezetés az ürgeöntésbe</td><td>217</td><td>9.30</td></tr><tr><td>188</td><td>Farkasos Piroska</td><td>Bevezetés az ürgeöntésbe</td><td>VP 203.</td><td>15.30</td></tr><tr><td>189</td><td>Farkasos Piroska</td><td>Bevezetés az ürgeöntésbe</td><td>VP 203.</td><td>9.30</td></tr><tr><td>190</td><td>Farkasos Piroska</td><td>Bevezetés az ürgeöntésbe</td><td>E.2.238</td><td>11.00</td></tr><tr><td>191</td><td>Varga Kata</td><td>Az ürgeöntés hydrológiai alapjai II.</td><td>220</td><td>14.00</td></tr><tr><td>192</td><td>Varga Kata</td><td>Az ürgeöntés hydrológiai alapjai II.</td><td>119</td><td>15.30</td></tr><tr><td>193</td><td>Farkasos Piroska</td><td>Az ürgeöntés hydrológiai alapjai II.</td><td>217</td><td>14.00</td></tr><tr><td>194</td><td>Farkasos Piroska</td><td>Az ürgeöntés hydrológiai alapjai II.</td><td>E.fsz.I</td><td>15.30</td></tr><tr><td>195</td><td>Balkán András</td><td>Az ürgeöntés hydrológiai alapjai II.</td><td>116</td><td>14.00</td></tr><tr><td>196</td><td>Balkán András</td><td>Az ürgeöntés hydrológiai alapjai II.</td><td>218</td><td>15.30</td></tr><tr><td>197</td><td>Farkasos Piroska</td><td>Az ürgeöntés hydrológiai alapjai II.</td><td>116</td><td>8.00</td></tr><tr><td>198</td><td>Farkasos Piroska</td><td>Az ürgeöntés hydrológiai alapjai II.</td><td>119</td><td>9.30</td></tr><tr><td>199</td><td>Szabó Andrera</td><td>Az ürgeöntés hydrológiai alapjai II.</td><td>218</td><td>8.00</td></tr><tr><td>200</td><td>Szabó Andrera</td><td>Az ürgeöntés hydrológiai alapjai II.</td><td>220</td><td>9.30</td></tr><tr><td>201</td><td>Juhász András</td><td>Öntési gyakorlat</td><td>E.2.238</td><td>12.30</td></tr><tr><td>202</td><td>Juhász András</td><td>Öntési gyakorlat</td><td>E.3.332</td><td>14.00</td></tr><tr><td>203</td><td>Aranyi Mária</td><td>Az ürgeöntés hydrológiai alapjai I.</td><td>S.Asor.S3</td><td>12.30</td></tr><tr><td>204</td><td>Róbert Gida</td><td>Az ürgeöntés hydrológiai alapjai I.</td><td>120</td><td>14.00</td></tr><tr><td>205</td><td>Ujfalussi István</td><td>Az öntés elmélete</td><td>220</td><td>12.30</td></tr><tr><td>206</td><td>Varga Kata</td><td>Az öntés elmélete</td><td>S.Asor.S3</td><td>8.00</td></tr><tr><td>207</td><td>Varga Kata</td><td>Az öntés elmélete</td><td>219</td><td>12.30</td></tr><tr><td>208</td><td>Jogrerős Pál</td><td>Ürgevitel</td><td>VP 203.</td><td>8.00</td></tr><tr><td>209</td><td>Jogrerős Pál</td><td>Ürgevitel</td><td>VP 203.</td><td>9.30</td></tr><tr><td>210</td><td>Szép llonka</td><td>Ürgeöntés az EU-ban</td><td>E.2.238</td><td>15.30</td></tr><tr><td>211</td><td>Szép llonka</td><td>Ürgeöntés az EU-ban</td><td>217</td><td>17.00</td></tr><tr><td>212</td><td>Kiss János</td><td>Ürgeöntés az EU-ban</td><td>120</td><td>18.30</td></tr><tr><td>213</td><td>Kiss János</td><td>Ürgeöntés az EU-ban</td><td>218</td><td>20.00</td></tr><tr><td>214</td><td>Pelikán József</td><td>Az ürge anatómiája</td><td>219</td><td>11.00</td></tr><tr><td>215</td><td>Pelikán József</td><td>Az ürge anatómiája</td><td>E.fsz.IV.</td><td>12.30</td></tr><tr><td>216</td><td>Szép llonka</td><td>Az ürge anatómiája</td><td>218</td><td>11.00</td></tr><tr><td>217</td><td>Szép llonka</td><td>Az ürge anatómiája</td><td>217</td><td>12.30</td></tr><tr><td>218</td><td>Pelikán József</td><td>Az ürge anatómiája</td><td>118</td><td>15.30</td></tr><tr><td>219</td><td>Pelikán József</td><td>Az ürge anatómiája</td><td>219</td><td>17.00</td></tr><tr><td>220</td><td>Kovács László</td><td>Fejezetek az ürgék jogaiból</td><td>119</td><td>11.00</td></tr><tr><td>221</td><td>Kovács László</td><td>Fejezetek az ürgék jogaiból</td><td>VP 203.</td><td>11.00</td></tr><tr><td>222</td><td>Kovács László</td><td>Fejezetek az ürgék jogaiból</td><td>116</td><td>14.00</td></tr><tr><td>223</td><td>Kovács László</td><td>Fejezetek az ürgék jogaiból</td><td>S.Asor.S3</td><td>8.00</td></tr><tr><td>226</td><td>Szentágotai Istvás</td><td>ürgefőzés</td><td>117</td><td>11.00</td></tr><tr><td>227</td><td>Szentágotai Istvás</td><td>Az ürgeöntés hydrológiai alapjai I.</td><td>116</td><td>14.00</td></tr></table>"
                    },
                    "metadata": {}
                }
            ],
            "execution_count": 38
        },
        {
            "cell_type": "markdown",
            "source": [
                "12. <span style=\"color: rgb(36, 41, 47); font-family: -apple-system, BlinkMacSystemFont, &quot;Segoe UI&quot;, Helvetica, Arial, sans-serif, &quot;Apple Color Emoji&quot;, &quot;Segoe UI Emoji&quot;; font-size: 16px;\">Készítsünk listát, amely tartalmazza az egyes órák azonosítóit, és az órán oktatott tantárgy felelősének nevét!</span>\n",
                "\n",
                "1. Rendezzük a listát a tantárgyfelelős neve szerint csökkenő sorrendbe!"
            ],
            "metadata": {
                "azdata_cell_guid": "a765e9d6-58b3-4171-872a-78f3118fd6e3"
            },
            "attachments": {}
        },
        {
            "cell_type": "code",
            "source": [
                "SELECT Orak.ora_id,\r\n",
                "    Oktatok.nev\r\n",
                "FROM Orak JOIN Oktatok ON Orak.tanar = Oktatok.oktato_id\r\n",
                "ORDER BY Oktatok.nev DESC"
            ],
            "metadata": {
                "azdata_cell_guid": "422e8127-b652-4d3a-bfd7-9b1637b5781e",
                "language": "sql"
            },
            "outputs": [
                {
                    "output_type": "display_data",
                    "data": {
                        "text/html": "(67 rows affected)"
                    },
                    "metadata": {}
                },
                {
                    "output_type": "display_data",
                    "data": {
                        "text/html": "Total execution time: 00:00:00.050"
                    },
                    "metadata": {}
                },
                {
                    "output_type": "execute_result",
                    "execution_count": 40,
                    "data": {
                        "application/vnd.dataresource+json": {
                            "schema": {
                                "fields": [
                                    {
                                        "name": "ora_id"
                                    },
                                    {
                                        "name": "nev"
                                    }
                                ]
                            },
                            "data": [
                                {
                                    "ora_id": "178",
                                    "nev": "Vitéz János"
                                },
                                {
                                    "ora_id": "180",
                                    "nev": "Vitéz János"
                                },
                                {
                                    "ora_id": "182",
                                    "nev": "Vitéz János"
                                },
                                {
                                    "ora_id": "184",
                                    "nev": "Vitéz János"
                                },
                                {
                                    "ora_id": "191",
                                    "nev": "Varga Kata"
                                },
                                {
                                    "ora_id": "192",
                                    "nev": "Varga Kata"
                                },
                                {
                                    "ora_id": "206",
                                    "nev": "Varga Kata"
                                },
                                {
                                    "ora_id": "207",
                                    "nev": "Varga Kata"
                                },
                                {
                                    "ora_id": "205",
                                    "nev": "Ujfalussi István"
                                },
                                {
                                    "ora_id": "159",
                                    "nev": "Ujfalussi István"
                                },
                                {
                                    "ora_id": "168",
                                    "nev": "Ujfalussi István"
                                },
                                {
                                    "ora_id": "163",
                                    "nev": "Szerb László"
                                },
                                {
                                    "ora_id": "165",
                                    "nev": "Szerb László"
                                },
                                {
                                    "ora_id": "166",
                                    "nev": "Szerb László"
                                },
                                {
                                    "ora_id": "216",
                                    "nev": "Szép llonka"
                                },
                                {
                                    "ora_id": "217",
                                    "nev": "Szép llonka"
                                },
                                {
                                    "ora_id": "210",
                                    "nev": "Szép llonka"
                                },
                                {
                                    "ora_id": "211",
                                    "nev": "Szép llonka"
                                },
                                {
                                    "ora_id": "226",
                                    "nev": "Szentágotai Istvás"
                                },
                                {
                                    "ora_id": "227",
                                    "nev": "Szentágotai Istvás"
                                },
                                {
                                    "ora_id": "167",
                                    "nev": "Szentágotai Istvás"
                                },
                                {
                                    "ora_id": "185",
                                    "nev": "Szentágotai Istvás"
                                },
                                {
                                    "ora_id": "183",
                                    "nev": "Szentágotai Istvás"
                                },
                                {
                                    "ora_id": "181",
                                    "nev": "Szentágotai Istvás"
                                },
                                {
                                    "ora_id": "179",
                                    "nev": "Szentágotai Istvás"
                                },
                                {
                                    "ora_id": "177",
                                    "nev": "Szentágotai Istvás"
                                },
                                {
                                    "ora_id": "171",
                                    "nev": "Szénási ászló"
                                },
                                {
                                    "ora_id": "175",
                                    "nev": "Szénási ászló"
                                },
                                {
                                    "ora_id": "199",
                                    "nev": "Szabó Andrera"
                                },
                                {
                                    "ora_id": "200",
                                    "nev": "Szabó Andrera"
                                },
                                {
                                    "ora_id": "204",
                                    "nev": "Róbert Gida"
                                },
                                {
                                    "ora_id": "214",
                                    "nev": "Pelikán József"
                                },
                                {
                                    "ora_id": "215",
                                    "nev": "Pelikán József"
                                },
                                {
                                    "ora_id": "218",
                                    "nev": "Pelikán József"
                                },
                                {
                                    "ora_id": "219",
                                    "nev": "Pelikán József"
                                },
                                {
                                    "ora_id": "160",
                                    "nev": "Pelikán József"
                                },
                                {
                                    "ora_id": "161",
                                    "nev": "Pelikán József"
                                },
                                {
                                    "ora_id": "186",
                                    "nev": "Nógrádi Kata"
                                },
                                {
                                    "ora_id": "174",
                                    "nev": "Ludas Mátyás"
                                },
                                {
                                    "ora_id": "170",
                                    "nev": "Ludas Mátyás"
                                },
                                {
                                    "ora_id": "220",
                                    "nev": "Kovács László"
                                },
                                {
                                    "ora_id": "221",
                                    "nev": "Kovács László"
                                },
                                {
                                    "ora_id": "222",
                                    "nev": "Kovács László"
                                },
                                {
                                    "ora_id": "223",
                                    "nev": "Kovács László"
                                },
                                {
                                    "ora_id": "173",
                                    "nev": "Kovács András"
                                },
                                {
                                    "ora_id": "176",
                                    "nev": "Kovács András"
                                },
                                {
                                    "ora_id": "169",
                                    "nev": "Kovács András"
                                },
                                {
                                    "ora_id": "162",
                                    "nev": "Kovács András"
                                },
                                {
                                    "ora_id": "164",
                                    "nev": "Kiss János"
                                },
                                {
                                    "ora_id": "172",
                                    "nev": "Kiss János"
                                },
                                {
                                    "ora_id": "212",
                                    "nev": "Kiss János"
                                },
                                {
                                    "ora_id": "213",
                                    "nev": "Kiss János"
                                },
                                {
                                    "ora_id": "201",
                                    "nev": "Juhász András"
                                },
                                {
                                    "ora_id": "202",
                                    "nev": "Juhász András"
                                },
                                {
                                    "ora_id": "208",
                                    "nev": "Jogrerős Pál"
                                },
                                {
                                    "ora_id": "209",
                                    "nev": "Jogrerős Pál"
                                },
                                {
                                    "ora_id": "188",
                                    "nev": "Farkasos Piroska"
                                },
                                {
                                    "ora_id": "189",
                                    "nev": "Farkasos Piroska"
                                },
                                {
                                    "ora_id": "190",
                                    "nev": "Farkasos Piroska"
                                },
                                {
                                    "ora_id": "197",
                                    "nev": "Farkasos Piroska"
                                },
                                {
                                    "ora_id": "198",
                                    "nev": "Farkasos Piroska"
                                },
                                {
                                    "ora_id": "193",
                                    "nev": "Farkasos Piroska"
                                },
                                {
                                    "ora_id": "194",
                                    "nev": "Farkasos Piroska"
                                },
                                {
                                    "ora_id": "195",
                                    "nev": "Balkán András"
                                },
                                {
                                    "ora_id": "196",
                                    "nev": "Balkán András"
                                },
                                {
                                    "ora_id": "187",
                                    "nev": "Balkán András"
                                },
                                {
                                    "ora_id": "203",
                                    "nev": "Aranyi Mária"
                                }
                            ]
                        },
                        "text/html": "<table><tr><th>ora_id</th><th>nev</th></tr><tr><td>178</td><td>Vitéz János</td></tr><tr><td>180</td><td>Vitéz János</td></tr><tr><td>182</td><td>Vitéz János</td></tr><tr><td>184</td><td>Vitéz János</td></tr><tr><td>191</td><td>Varga Kata</td></tr><tr><td>192</td><td>Varga Kata</td></tr><tr><td>206</td><td>Varga Kata</td></tr><tr><td>207</td><td>Varga Kata</td></tr><tr><td>205</td><td>Ujfalussi István</td></tr><tr><td>159</td><td>Ujfalussi István</td></tr><tr><td>168</td><td>Ujfalussi István</td></tr><tr><td>163</td><td>Szerb László</td></tr><tr><td>165</td><td>Szerb László</td></tr><tr><td>166</td><td>Szerb László</td></tr><tr><td>216</td><td>Szép llonka</td></tr><tr><td>217</td><td>Szép llonka</td></tr><tr><td>210</td><td>Szép llonka</td></tr><tr><td>211</td><td>Szép llonka</td></tr><tr><td>226</td><td>Szentágotai Istvás</td></tr><tr><td>227</td><td>Szentágotai Istvás</td></tr><tr><td>167</td><td>Szentágotai Istvás</td></tr><tr><td>185</td><td>Szentágotai Istvás</td></tr><tr><td>183</td><td>Szentágotai Istvás</td></tr><tr><td>181</td><td>Szentágotai Istvás</td></tr><tr><td>179</td><td>Szentágotai Istvás</td></tr><tr><td>177</td><td>Szentágotai Istvás</td></tr><tr><td>171</td><td>Szénási ászló</td></tr><tr><td>175</td><td>Szénási ászló</td></tr><tr><td>199</td><td>Szabó Andrera</td></tr><tr><td>200</td><td>Szabó Andrera</td></tr><tr><td>204</td><td>Róbert Gida</td></tr><tr><td>214</td><td>Pelikán József</td></tr><tr><td>215</td><td>Pelikán József</td></tr><tr><td>218</td><td>Pelikán József</td></tr><tr><td>219</td><td>Pelikán József</td></tr><tr><td>160</td><td>Pelikán József</td></tr><tr><td>161</td><td>Pelikán József</td></tr><tr><td>186</td><td>Nógrádi Kata</td></tr><tr><td>174</td><td>Ludas Mátyás</td></tr><tr><td>170</td><td>Ludas Mátyás</td></tr><tr><td>220</td><td>Kovács László</td></tr><tr><td>221</td><td>Kovács László</td></tr><tr><td>222</td><td>Kovács László</td></tr><tr><td>223</td><td>Kovács László</td></tr><tr><td>173</td><td>Kovács András</td></tr><tr><td>176</td><td>Kovács András</td></tr><tr><td>169</td><td>Kovács András</td></tr><tr><td>162</td><td>Kovács András</td></tr><tr><td>164</td><td>Kiss János</td></tr><tr><td>172</td><td>Kiss János</td></tr><tr><td>212</td><td>Kiss János</td></tr><tr><td>213</td><td>Kiss János</td></tr><tr><td>201</td><td>Juhász András</td></tr><tr><td>202</td><td>Juhász András</td></tr><tr><td>208</td><td>Jogrerős Pál</td></tr><tr><td>209</td><td>Jogrerős Pál</td></tr><tr><td>188</td><td>Farkasos Piroska</td></tr><tr><td>189</td><td>Farkasos Piroska</td></tr><tr><td>190</td><td>Farkasos Piroska</td></tr><tr><td>197</td><td>Farkasos Piroska</td></tr><tr><td>198</td><td>Farkasos Piroska</td></tr><tr><td>193</td><td>Farkasos Piroska</td></tr><tr><td>194</td><td>Farkasos Piroska</td></tr><tr><td>195</td><td>Balkán András</td></tr><tr><td>196</td><td>Balkán András</td></tr><tr><td>187</td><td>Balkán András</td></tr><tr><td>203</td><td>Aranyi Mária</td></tr></table>"
                    },
                    "metadata": {}
                }
            ],
            "execution_count": 40
        },
        {
            "cell_type": "markdown",
            "source": [
                "13. <span style=\"color: rgb(36, 41, 47); font-family: -apple-system, BlinkMacSystemFont, &quot;Segoe UI&quot;, Helvetica, Arial, sans-serif, &quot;Apple Color Emoji&quot;, &quot;Segoe UI Emoji&quot;; font-size: 16px;\">Készítsünk listát, amely megjeleníti, hogy az Orak táblában lévő órák közül hányat tart Dr., illetve nem Dr. titulusú tanár!</span>\n",
                "\n",
                "1. Az oszlopokat nevezzük el értelemszerűen!"
            ],
            "metadata": {
                "azdata_cell_guid": "3f9237ae-f109-401c-acb9-31d75e73331b"
            },
            "attachments": {}
        },
        {
            "cell_type": "code",
            "source": [
                "SELECT IIF(Oktatok.titulus='Dr.','igen','nem') AS 'Doktor',\r\n",
                "    COUNT(*) AS 'Darab'\r\n",
                "FROM Orak JOIN Oktatok ON Orak.tanar = Oktatok.oktato_id\r\n",
                "GROUP BY IIF(Oktatok.titulus='Dr.','igen','nem')"
            ],
            "metadata": {
                "azdata_cell_guid": "4b31bb89-cfbc-46b1-8639-85c462877786",
                "language": "sql"
            },
            "outputs": [
                {
                    "output_type": "display_data",
                    "data": {
                        "text/html": "(2 rows affected)"
                    },
                    "metadata": {}
                },
                {
                    "output_type": "display_data",
                    "data": {
                        "text/html": "Total execution time: 00:00:00.101"
                    },
                    "metadata": {}
                },
                {
                    "output_type": "execute_result",
                    "execution_count": 44,
                    "data": {
                        "application/vnd.dataresource+json": {
                            "schema": {
                                "fields": [
                                    {
                                        "name": "Doktor"
                                    },
                                    {
                                        "name": "Darab"
                                    }
                                ]
                            },
                            "data": [
                                {
                                    "Doktor": "igen",
                                    "Darab": "25"
                                },
                                {
                                    "Doktor": "nem",
                                    "Darab": "42"
                                }
                            ]
                        },
                        "text/html": "<table><tr><th>Doktor</th><th>Darab</th></tr><tr><td>igen</td><td>25</td></tr><tr><td>nem</td><td>42</td></tr></table>"
                    },
                    "metadata": {}
                }
            ],
            "execution_count": 44
        },
        {
            "cell_type": "markdown",
            "source": [
                "14. <span style=\"color: rgb(36, 41, 47); font-family: -apple-system, BlinkMacSystemFont, &quot;Segoe UI&quot;, Helvetica, Arial, sans-serif, &quot;Apple Color Emoji&quot;, &quot;Segoe UI Emoji&quot;; font-size: 16px;\">Készítsünk listát arról, hogy beosztásonként hány óra szerepel az Orak táblában!</span>\n",
                "\n",
                "1. Jelenítsük meg a beosztások nevét és az órák számát!\n",
                "2. A listát szűrjük azokra a beosztásokra, ahol ez az óraszám 10 feletti!"
            ],
            "metadata": {
                "azdata_cell_guid": "f634e09a-85ef-4e70-8ec6-ef355dfddaa7"
            },
            "attachments": {}
        },
        {
            "cell_type": "code",
            "source": [
                "SELECT Beosztasok.beosztasnev,\r\n",
                "    COUNT(*) AS 'Órák száma'\r\n",
                "FROM Orak JOIN Oktatok ON Orak.tanar = Oktatok.oktato_id\r\n",
                "    JOIN Beosztasok ON Oktatok.beosztás = Beosztasok.beosztas_id\r\n",
                "GROUP BY Beosztasok.beosztasnev\r\n",
                "HAVING COUNT(*)>10"
            ],
            "metadata": {
                "azdata_cell_guid": "88abc55b-2c78-495b-a72f-3f8f4eb5fe70",
                "language": "sql"
            },
            "outputs": [
                {
                    "output_type": "display_data",
                    "data": {
                        "text/html": "(3 rows affected)"
                    },
                    "metadata": {}
                },
                {
                    "output_type": "display_data",
                    "data": {
                        "text/html": "Total execution time: 00:00:00.081"
                    },
                    "metadata": {}
                },
                {
                    "output_type": "execute_result",
                    "execution_count": 48,
                    "data": {
                        "application/vnd.dataresource+json": {
                            "schema": {
                                "fields": [
                                    {
                                        "name": "beosztasnev"
                                    },
                                    {
                                        "name": "Órák száma"
                                    }
                                ]
                            },
                            "data": [
                                {
                                    "beosztasnev": "Adjunktus",
                                    "Órák száma": "14"
                                },
                                {
                                    "beosztasnev": "Egyetemi tanár",
                                    "Órák száma": "11"
                                },
                                {
                                    "beosztasnev": "Tanársegéd",
                                    "Órák száma": "22"
                                }
                            ]
                        },
                        "text/html": "<table><tr><th>beosztasnev</th><th>Órák száma</th></tr><tr><td>Adjunktus</td><td>14</td></tr><tr><td>Egyetemi tanár</td><td>11</td></tr><tr><td>Tanársegéd</td><td>22</td></tr></table>"
                    },
                    "metadata": {}
                }
            ],
            "execution_count": 48
        },
        {
            "cell_type": "markdown",
            "source": [
                "15. <span style=\"color: rgb(36, 41, 47); font-family: -apple-system, BlinkMacSystemFont, &quot;Segoe UI&quot;, Helvetica, Arial, sans-serif, &quot;Apple Color Emoji&quot;, &quot;Segoe UI Emoji&quot;; font-size: 16px;\">Melyek azok az órák, amelyek kezdési időpontja olyan sávba esik, amely a mostani időpont (óra:perc) után van?</span>\n",
                "\n",
                "1. Listázzuk az órák azonosítóit, valamint az órakezdés napját és időpontját!\n",
                "2. A listát rendezzük az időpont szerint növekvő sorrendbe!"
            ],
            "metadata": {
                "azdata_cell_guid": "4cbf2f0d-a65d-480a-8186-ccdb24498443"
            },
            "attachments": {}
        },
        {
            "cell_type": "code",
            "source": [
                "SELECT Orak.ora_id,\r\n",
                "    Orak.nap,\r\n",
                "    Savok.Időpont\r\n",
                "FROM Orak JOIN Savok ON Orak.Sav = Savok.Sav_id\r\n",
                "ORDER BY Orak.nap ASC, Savok.Sav ASC"
            ],
            "metadata": {
                "azdata_cell_guid": "c148aee8-bc85-40bf-b80a-a4898a6c05cb",
                "language": "sql"
            },
            "outputs": [
                {
                    "output_type": "display_data",
                    "data": {
                        "text/html": "(67 rows affected)"
                    },
                    "metadata": {}
                },
                {
                    "output_type": "display_data",
                    "data": {
                        "text/html": "Total execution time: 00:00:00.027"
                    },
                    "metadata": {}
                },
                {
                    "output_type": "execute_result",
                    "metadata": {},
                    "execution_count": 6,
                    "data": {
                        "application/vnd.dataresource+json": {
                            "schema": {
                                "fields": [
                                    {
                                        "name": "ora_id"
                                    },
                                    {
                                        "name": "nap"
                                    },
                                    {
                                        "name": "Időpont"
                                    }
                                ]
                            },
                            "data": [
                                {
                                    "ora_id": "208",
                                    "nap": "1",
                                    "Időpont": "8.00"
                                },
                                {
                                    "ora_id": "209",
                                    "nap": "1",
                                    "Időpont": "9.30"
                                },
                                {
                                    "ora_id": "169",
                                    "nap": "1",
                                    "Időpont": "9.30"
                                },
                                {
                                    "ora_id": "170",
                                    "nap": "1",
                                    "Időpont": "9.30"
                                },
                                {
                                    "ora_id": "161",
                                    "nap": "1",
                                    "Időpont": "9.30"
                                },
                                {
                                    "ora_id": "214",
                                    "nap": "1",
                                    "Időpont": "11.00"
                                },
                                {
                                    "ora_id": "216",
                                    "nap": "1",
                                    "Időpont": "11.00"
                                },
                                {
                                    "ora_id": "217",
                                    "nap": "1",
                                    "Időpont": "12.30"
                                },
                                {
                                    "ora_id": "215",
                                    "nap": "1",
                                    "Időpont": "12.30"
                                },
                                {
                                    "ora_id": "205",
                                    "nap": "1",
                                    "Időpont": "12.30"
                                },
                                {
                                    "ora_id": "203",
                                    "nap": "1",
                                    "Időpont": "12.30"
                                },
                                {
                                    "ora_id": "162",
                                    "nap": "1",
                                    "Időpont": "12.30"
                                },
                                {
                                    "ora_id": "167",
                                    "nap": "1",
                                    "Időpont": "12.30"
                                },
                                {
                                    "ora_id": "191",
                                    "nap": "1",
                                    "Időpont": "14.00"
                                },
                                {
                                    "ora_id": "193",
                                    "nap": "1",
                                    "Időpont": "14.00"
                                },
                                {
                                    "ora_id": "195",
                                    "nap": "1",
                                    "Időpont": "14.00"
                                },
                                {
                                    "ora_id": "196",
                                    "nap": "1",
                                    "Időpont": "15.30"
                                },
                                {
                                    "ora_id": "210",
                                    "nap": "1",
                                    "Időpont": "15.30"
                                },
                                {
                                    "ora_id": "194",
                                    "nap": "1",
                                    "Időpont": "15.30"
                                },
                                {
                                    "ora_id": "192",
                                    "nap": "1",
                                    "Időpont": "15.30"
                                },
                                {
                                    "ora_id": "211",
                                    "nap": "1",
                                    "Időpont": "17.00"
                                },
                                {
                                    "ora_id": "212",
                                    "nap": "1",
                                    "Időpont": "18.30"
                                },
                                {
                                    "ora_id": "213",
                                    "nap": "1",
                                    "Időpont": "20.00"
                                },
                                {
                                    "ora_id": "206",
                                    "nap": "2",
                                    "Időpont": "8.00"
                                },
                                {
                                    "ora_id": "171",
                                    "nap": "2",
                                    "Időpont": "9.30"
                                },
                                {
                                    "ora_id": "172",
                                    "nap": "2",
                                    "Időpont": "9.30"
                                },
                                {
                                    "ora_id": "164",
                                    "nap": "2",
                                    "Időpont": "11.00"
                                },
                                {
                                    "ora_id": "165",
                                    "nap": "2",
                                    "Időpont": "11.00"
                                },
                                {
                                    "ora_id": "220",
                                    "nap": "2",
                                    "Időpont": "11.00"
                                },
                                {
                                    "ora_id": "166",
                                    "nap": "2",
                                    "Időpont": "12.30"
                                },
                                {
                                    "ora_id": "186",
                                    "nap": "2",
                                    "Időpont": "12.30"
                                },
                                {
                                    "ora_id": "160",
                                    "nap": "2",
                                    "Időpont": "14.00"
                                },
                                {
                                    "ora_id": "227",
                                    "nap": "2",
                                    "Időpont": "14.00"
                                },
                                {
                                    "ora_id": "204",
                                    "nap": "2",
                                    "Időpont": "14.00"
                                },
                                {
                                    "ora_id": "218",
                                    "nap": "2",
                                    "Időpont": "15.30"
                                },
                                {
                                    "ora_id": "219",
                                    "nap": "2",
                                    "Időpont": "17.00"
                                },
                                {
                                    "ora_id": "159",
                                    "nap": "3",
                                    "Időpont": "8.00"
                                },
                                {
                                    "ora_id": "163",
                                    "nap": "3",
                                    "Időpont": "9.30"
                                },
                                {
                                    "ora_id": "187",
                                    "nap": "3",
                                    "Időpont": "9.30"
                                },
                                {
                                    "ora_id": "198",
                                    "nap": "3",
                                    "Időpont": "9.30"
                                },
                                {
                                    "ora_id": "221",
                                    "nap": "3",
                                    "Időpont": "11.00"
                                },
                                {
                                    "ora_id": "226",
                                    "nap": "3",
                                    "Időpont": "11.00"
                                },
                                {
                                    "ora_id": "199",
                                    "nap": "4",
                                    "Időpont": "8.00"
                                },
                                {
                                    "ora_id": "197",
                                    "nap": "4",
                                    "Időpont": "8.00"
                                },
                                {
                                    "ora_id": "200",
                                    "nap": "4",
                                    "Időpont": "9.30"
                                },
                                {
                                    "ora_id": "189",
                                    "nap": "4",
                                    "Időpont": "9.30"
                                },
                                {
                                    "ora_id": "168",
                                    "nap": "4",
                                    "Időpont": "11.00"
                                },
                                {
                                    "ora_id": "173",
                                    "nap": "4",
                                    "Időpont": "11.00"
                                },
                                {
                                    "ora_id": "174",
                                    "nap": "4",
                                    "Időpont": "11.00"
                                },
                                {
                                    "ora_id": "185",
                                    "nap": "4",
                                    "Időpont": "11.00"
                                },
                                {
                                    "ora_id": "201",
                                    "nap": "4",
                                    "Időpont": "12.30"
                                },
                                {
                                    "ora_id": "207",
                                    "nap": "4",
                                    "Időpont": "12.30"
                                },
                                {
                                    "ora_id": "175",
                                    "nap": "4",
                                    "Időpont": "12.30"
                                },
                                {
                                    "ora_id": "176",
                                    "nap": "4",
                                    "Időpont": "12.30"
                                },
                                {
                                    "ora_id": "177",
                                    "nap": "4",
                                    "Időpont": "14.00"
                                },
                                {
                                    "ora_id": "178",
                                    "nap": "4",
                                    "Időpont": "14.00"
                                },
                                {
                                    "ora_id": "202",
                                    "nap": "4",
                                    "Időpont": "14.00"
                                },
                                {
                                    "ora_id": "222",
                                    "nap": "4",
                                    "Időpont": "14.00"
                                },
                                {
                                    "ora_id": "179",
                                    "nap": "4",
                                    "Időpont": "15.30"
                                },
                                {
                                    "ora_id": "180",
                                    "nap": "4",
                                    "Időpont": "15.30"
                                },
                                {
                                    "ora_id": "188",
                                    "nap": "4",
                                    "Időpont": "15.30"
                                },
                                {
                                    "ora_id": "181",
                                    "nap": "5",
                                    "Időpont": "8.00"
                                },
                                {
                                    "ora_id": "182",
                                    "nap": "5",
                                    "Időpont": "8.00"
                                },
                                {
                                    "ora_id": "223",
                                    "nap": "5",
                                    "Időpont": "8.00"
                                },
                                {
                                    "ora_id": "183",
                                    "nap": "5",
                                    "Időpont": "9.30"
                                },
                                {
                                    "ora_id": "184",
                                    "nap": "5",
                                    "Időpont": "9.30"
                                },
                                {
                                    "ora_id": "190",
                                    "nap": "5",
                                    "Időpont": "11.00"
                                }
                            ]
                        },
                        "text/html": [
                            "<table>",
                            "<tr><th>ora_id</th><th>nap</th><th>Időpont</th></tr>",
                            "<tr><td>208</td><td>1</td><td>8.00</td></tr>",
                            "<tr><td>209</td><td>1</td><td>9.30</td></tr>",
                            "<tr><td>169</td><td>1</td><td>9.30</td></tr>",
                            "<tr><td>170</td><td>1</td><td>9.30</td></tr>",
                            "<tr><td>161</td><td>1</td><td>9.30</td></tr>",
                            "<tr><td>214</td><td>1</td><td>11.00</td></tr>",
                            "<tr><td>216</td><td>1</td><td>11.00</td></tr>",
                            "<tr><td>217</td><td>1</td><td>12.30</td></tr>",
                            "<tr><td>215</td><td>1</td><td>12.30</td></tr>",
                            "<tr><td>205</td><td>1</td><td>12.30</td></tr>",
                            "<tr><td>203</td><td>1</td><td>12.30</td></tr>",
                            "<tr><td>162</td><td>1</td><td>12.30</td></tr>",
                            "<tr><td>167</td><td>1</td><td>12.30</td></tr>",
                            "<tr><td>191</td><td>1</td><td>14.00</td></tr>",
                            "<tr><td>193</td><td>1</td><td>14.00</td></tr>",
                            "<tr><td>195</td><td>1</td><td>14.00</td></tr>",
                            "<tr><td>196</td><td>1</td><td>15.30</td></tr>",
                            "<tr><td>210</td><td>1</td><td>15.30</td></tr>",
                            "<tr><td>194</td><td>1</td><td>15.30</td></tr>",
                            "<tr><td>192</td><td>1</td><td>15.30</td></tr>",
                            "<tr><td>211</td><td>1</td><td>17.00</td></tr>",
                            "<tr><td>212</td><td>1</td><td>18.30</td></tr>",
                            "<tr><td>213</td><td>1</td><td>20.00</td></tr>",
                            "<tr><td>206</td><td>2</td><td>8.00</td></tr>",
                            "<tr><td>171</td><td>2</td><td>9.30</td></tr>",
                            "<tr><td>172</td><td>2</td><td>9.30</td></tr>",
                            "<tr><td>164</td><td>2</td><td>11.00</td></tr>",
                            "<tr><td>165</td><td>2</td><td>11.00</td></tr>",
                            "<tr><td>220</td><td>2</td><td>11.00</td></tr>",
                            "<tr><td>166</td><td>2</td><td>12.30</td></tr>",
                            "<tr><td>186</td><td>2</td><td>12.30</td></tr>",
                            "<tr><td>160</td><td>2</td><td>14.00</td></tr>",
                            "<tr><td>227</td><td>2</td><td>14.00</td></tr>",
                            "<tr><td>204</td><td>2</td><td>14.00</td></tr>",
                            "<tr><td>218</td><td>2</td><td>15.30</td></tr>",
                            "<tr><td>219</td><td>2</td><td>17.00</td></tr>",
                            "<tr><td>159</td><td>3</td><td>8.00</td></tr>",
                            "<tr><td>163</td><td>3</td><td>9.30</td></tr>",
                            "<tr><td>187</td><td>3</td><td>9.30</td></tr>",
                            "<tr><td>198</td><td>3</td><td>9.30</td></tr>",
                            "<tr><td>221</td><td>3</td><td>11.00</td></tr>",
                            "<tr><td>226</td><td>3</td><td>11.00</td></tr>",
                            "<tr><td>199</td><td>4</td><td>8.00</td></tr>",
                            "<tr><td>197</td><td>4</td><td>8.00</td></tr>",
                            "<tr><td>200</td><td>4</td><td>9.30</td></tr>",
                            "<tr><td>189</td><td>4</td><td>9.30</td></tr>",
                            "<tr><td>168</td><td>4</td><td>11.00</td></tr>",
                            "<tr><td>173</td><td>4</td><td>11.00</td></tr>",
                            "<tr><td>174</td><td>4</td><td>11.00</td></tr>",
                            "<tr><td>185</td><td>4</td><td>11.00</td></tr>",
                            "<tr><td>201</td><td>4</td><td>12.30</td></tr>",
                            "<tr><td>207</td><td>4</td><td>12.30</td></tr>",
                            "<tr><td>175</td><td>4</td><td>12.30</td></tr>",
                            "<tr><td>176</td><td>4</td><td>12.30</td></tr>",
                            "<tr><td>177</td><td>4</td><td>14.00</td></tr>",
                            "<tr><td>178</td><td>4</td><td>14.00</td></tr>",
                            "<tr><td>202</td><td>4</td><td>14.00</td></tr>",
                            "<tr><td>222</td><td>4</td><td>14.00</td></tr>",
                            "<tr><td>179</td><td>4</td><td>15.30</td></tr>",
                            "<tr><td>180</td><td>4</td><td>15.30</td></tr>",
                            "<tr><td>188</td><td>4</td><td>15.30</td></tr>",
                            "<tr><td>181</td><td>5</td><td>8.00</td></tr>",
                            "<tr><td>182</td><td>5</td><td>8.00</td></tr>",
                            "<tr><td>223</td><td>5</td><td>8.00</td></tr>",
                            "<tr><td>183</td><td>5</td><td>9.30</td></tr>",
                            "<tr><td>184</td><td>5</td><td>9.30</td></tr>",
                            "<tr><td>190</td><td>5</td><td>11.00</td></tr>",
                            "</table>"
                        ]
                    }
                }
            ],
            "execution_count": 6
        }
    ]
}